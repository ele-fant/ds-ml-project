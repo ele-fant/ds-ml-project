{
 "cells": [
  {
   "cell_type": "markdown",
   "id": "d0591918-571f-40ea-ad80-0ab9b4812f42",
   "metadata": {},
   "source": [
    "# Stacking model"
   ]
  },
  {
   "cell_type": "markdown",
   "id": "f83e62d1-f771-4089-b92d-0bf31f7035a5",
   "metadata": {
    "jp-MarkdownHeadingCollapsed": true,
    "tags": []
   },
   "source": [
    "### Import modules"
   ]
  },
  {
   "cell_type": "code",
   "execution_count": null,
   "id": "1ea060e0-9270-4918-9d18-aad090c5c09c",
   "metadata": {},
   "outputs": [],
   "source": [
    "# Basic modules and plotting tools\n",
    "import pandas as pd\n",
    "import numpy as np\n",
    "import itertools\n",
    "import seaborn as sns\n",
    "import matplotlib.pyplot as plt\n",
    "import itertools\n",
    "\n",
    "# Scikit-learn model modules\n",
    "from sklearn.ensemble import AdaBoostClassifier\n",
    "from sklearn.ensemble import StackingClassifier\n",
    "from sklearn.ensemble import RandomForestClassifier\n",
    "from sklearn.linear_model import LogisticRegression\n",
    "from sklearn.neighbors import KNeighborsClassifier\n",
    "from sklearn.tree import DecisionTreeClassifier\n",
    "from sklearn.datasets import make_classification\n",
    "\n",
    "# Scikit-learn metrics\n",
    "from sklearn.metrics import confusion_matrix\n",
    "from sklearn.metrics import recall_score, f1_score, accuracy_score\n",
    "from sklearn.metrics import roc_auc_score, roc_curve\n",
    "from sklearn.metrics import classification_report\n",
    "from sklearn.metrics import confusion_matrix\n",
    "from sklearn.metrics import fbeta_score, accuracy_score\n",
    "\n",
    "# Random seed used in this notebook:\n",
    "RSEED = 42"
   ]
  },
  {
   "cell_type": "markdown",
   "id": "a7160e24-52ed-493a-bf43-42cdee1e6ce4",
   "metadata": {
    "jp-MarkdownHeadingCollapsed": true,
    "tags": []
   },
   "source": [
    "### Useful functions\n",
    "Calculating and printing out the classification report, including the F1-score:"
   ]
  },
  {
   "cell_type": "code",
   "execution_count": null,
   "id": "25abec3c-b26c-480c-a3eb-c81c740aeed6",
   "metadata": {},
   "outputs": [],
   "source": [
    "def custom_report(y_test, y_pred):\n",
    "    f1 = f1_score(y_test, y_pred, average='binary')\n",
    "    return print(\"------\"*10 +\"\\n\",\n",
    "    classification_report(y_test, y_pred) +\"\\n\",\n",
    "    \"------\"*10 +\"\\n\",\n",
    "    \"F1-score:\" + str(f1) +\"\\n\",\n",
    "    \"------\"*10\n",
    "    )"
   ]
  },
  {
   "cell_type": "markdown",
   "id": "8f705234-4bd4-4428-9765-6497512caf22",
   "metadata": {},
   "source": [
    "Printing out a confusion matrix:"
   ]
  },
  {
   "cell_type": "code",
   "execution_count": null,
   "id": "fdd5fad4-d440-4d60-8d40-160a69f0c44e",
   "metadata": {},
   "outputs": [],
   "source": [
    "def plot_confusion_matrix(cm, classes,\n",
    "                          normalize=False,\n",
    "                          title='Confusion matrix',\n",
    "                          cmap=plt.cm.Blues):\n",
    "    \"\"\"\n",
    "    This function prints and plots the confusion matrix.\n",
    "    Normalization can be applied by setting `normalize=True`.\n",
    "    \"\"\"\n",
    "    if normalize:\n",
    "        cm = cm.astype('float') / cm.sum(axis=1)[:, np.newaxis]\n",
    "        print(\"Normalized confusion matrix\")\n",
    "    else:\n",
    "        print('Confusion matrix, without normalization')\n",
    "    print(cm)\n",
    "    plt.imshow(cm, interpolation='nearest', cmap=cmap)\n",
    "    plt.title(title)\n",
    "    plt.colorbar()\n",
    "    tick_marks = np.arange(len(classes))\n",
    "    plt.xticks(tick_marks, classes, rotation=45)\n",
    "    plt.yticks(tick_marks, classes)\n",
    "    fmt = '.2f' if normalize else 'd'\n",
    "    thresh = cm.max() / 2.\n",
    "    for i, j in itertools.product(range(cm.shape[0]), range(cm.shape[1])):\n",
    "        plt.text(j, i, format(cm[i, j], fmt),\n",
    "                 horizontalalignment=\"center\",\n",
    "                 color=\"white\" if cm[i, j] > thresh else \"black\")\n",
    "    plt.tight_layout()\n",
    "    plt.ylabel('Actual')\n",
    "    plt.xlabel('Predicted')"
   ]
  },
  {
   "cell_type": "markdown",
   "id": "df08bf35-722a-4123-ba00-13334f63f3a4",
   "metadata": {},
   "source": [
    "### Defining test and train data"
   ]
  },
  {
   "cell_type": "code",
   "execution_count": null,
   "id": "79007fa0-34c1-4462-b6ca-377fec972ea8",
   "metadata": {},
   "outputs": [],
   "source": [
    "# Loading test and train data of the previously saved csv file from the notebook \"Modelling.ipynb\"\n",
    "X_train = pd.read_csv(\"data/x-train.csv\")\n",
    "y_train = pd.read_csv(\"data/y-train.csv\")\n",
    "X_test = pd.read_csv(\"data/x-test.csv\")\n",
    "y_test = pd.read_csv(\"data/y-test.csv\")"
   ]
  },
  {
   "cell_type": "markdown",
   "id": "60061eed-3e4b-4fdd-b8e9-94e049820eac",
   "metadata": {},
   "source": [
    "### Stacking model implementation: variant 1 of 2"
   ]
  },
  {
   "cell_type": "markdown",
   "id": "0f04abe9-b9ac-4965-8350-3e844152d8d1",
   "metadata": {},
   "source": [
    "As a first attempt, this model with the following sub-models are being used: Decision Tree, KNN and Random Forest. As the meta-model a Logistic Regression was chosen."
   ]
  },
  {
   "cell_type": "code",
   "execution_count": null,
   "id": "e642e2ee-63cf-4bf1-a8e5-ee0d627e95e5",
   "metadata": {},
   "outputs": [],
   "source": [
    "# Sub-models\n",
    "estimators = [\n",
    "    ('dt', DecisionTreeClassifier(random_state = RSEED)),\n",
    "    ('knn', KNeighborsClassifier()),\n",
    "    ('rf', RandomForestClassifier(n_estimators=1000,random_state = RSEED,max_features = 'sqrt',n_jobs=-1, verbose = 1))\n",
    "]\n",
    "\n",
    "# Meta-model\n",
    "clf = StackingClassifier(estimators = estimators, final_estimator = LogisticRegression())\n",
    "\n",
    "# Fit the training data and get the score\n",
    "clf.fit(X_train, y_train).score(X_test, y_test)"
   ]
  },
  {
   "cell_type": "code",
   "execution_count": null,
   "id": "a04c8e45-8cb0-43fe-b90a-322dd0830b71",
   "metadata": {},
   "outputs": [],
   "source": [
    "# Predicted y values by this model\n",
    "stack_y_pred = clf.predict(X_test)"
   ]
  },
  {
   "cell_type": "markdown",
   "id": "e217e712-2551-4248-89ca-7f76f2c2f872",
   "metadata": {},
   "source": [
    "### Classification report variant 1 of 2"
   ]
  },
  {
   "cell_type": "code",
   "execution_count": null,
   "id": "1d9e1235-0ba8-4b87-9f94-c6a9a34fec25",
   "metadata": {},
   "outputs": [],
   "source": [
    "# Printing out the classification report using the function defined above\n",
    "custom_report(y_test,stack_y_pred)"
   ]
  },
  {
   "cell_type": "markdown",
   "id": "535f2277-d058-4a19-9d96-30bde81c2036",
   "metadata": {},
   "source": [
    "### Stacking model implementation: variant 2 of 2"
   ]
  },
  {
   "cell_type": "markdown",
   "id": "7e381244-8e53-46ef-af3d-c047e41c5186",
   "metadata": {},
   "source": [
    "Alternatively to model variant 1, in this model the following sub-models were implemented: Decision Tree, AdaBoost and RandomForst."
   ]
  },
  {
   "cell_type": "code",
   "execution_count": null,
   "id": "37592d83-9ca9-4427-920a-65ef1a7f8cf2",
   "metadata": {},
   "outputs": [],
   "source": [
    "# Sub-models:\n",
    "estimators = [\n",
    "    ('dt', DecisionTreeClassifier(random_state = RSEED)),\n",
    "    ('ada', AdaBoostClassifier(base_estimator=DecisionTreeClassifier(max_depth=1),n_estimators=200)),\n",
    "    ('rf', RandomForestClassifier(n_estimators=1000,criterion = 'entropy',max_depth = None,random_state = RSEED,max_features = 'sqrt',n_jobs=-1, verbose = 1))\n",
    "    ]\n",
    "\n",
    "# Meta-model\n",
    "clf = StackingClassifier(estimators = estimators, final_estimator = LogisticRegression(), cv=10)\n",
    "\n",
    "# Fit the training data and get the score\n",
    "clf.fit(X_train, y_train).score(X_test, y_test)"
   ]
  },
  {
   "cell_type": "code",
   "execution_count": null,
   "id": "773cca19-2afa-4a0b-9eb7-165c32697390",
   "metadata": {},
   "outputs": [],
   "source": [
    "# Predicted y values by this model\n",
    "stack_y_pred = clf.predict(X_test)"
   ]
  },
  {
   "cell_type": "markdown",
   "id": "f0e7fa85-1f80-4706-972e-31f5f4705346",
   "metadata": {},
   "source": [
    "### Classification report and confusion matrix variant 2 of 2"
   ]
  },
  {
   "cell_type": "code",
   "execution_count": null,
   "id": "366a1493-85f0-4f2f-81fd-baa6302f18a5",
   "metadata": {},
   "outputs": [],
   "source": [
    "# Printing out the classification report using the function defined above\n",
    "custom_report(y_test,stack_y_pred)"
   ]
  },
  {
   "cell_type": "code",
   "execution_count": null,
   "id": "569badbd-6a2a-4146-86e5-6e03a6120a79",
   "metadata": {},
   "outputs": [],
   "source": [
    "# Printing out the confusion matrix using the function defined above\n",
    "cnf_matrix = confusion_matrix(y_test, stack_y_pred, labels=[0,1])\n",
    "np.set_printoptions(precision=2)    \n",
    "plt.figure()\n",
    "plot_confusion_matrix(cnf_matrix, classes=['Legal','Fraud'],normalize= True,  title=\"Fraud detection model: confusion matrix\")"
   ]
  },
  {
   "cell_type": "markdown",
   "id": "6a93a17d-4ec1-4524-830a-61bc7355b955",
   "metadata": {},
   "source": [
    "### Conclusion\n",
    "Variant 2 of 2 yielded a slightly better result (F1-score) than variant 1 of 2."
   ]
  },
  {
   "cell_type": "code",
   "execution_count": null,
   "id": "354e9890-d7ce-4ca6-ab28-a6ec8cdf1267",
   "metadata": {},
   "outputs": [],
   "source": []
  }
 ],
 "metadata": {
  "kernelspec": {
   "display_name": "Python 3 (ipykernel)",
   "language": "python",
   "name": "python3"
  },
  "language_info": {
   "codemirror_mode": {
    "name": "ipython",
    "version": 3
   },
   "file_extension": ".py",
   "mimetype": "text/x-python",
   "name": "python",
   "nbconvert_exporter": "python",
   "pygments_lexer": "ipython3",
   "version": "3.9.4"
  }
 },
 "nbformat": 4,
 "nbformat_minor": 5
}
