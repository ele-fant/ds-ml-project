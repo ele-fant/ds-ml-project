{
 "cells": [
  {
   "cell_type": "code",
   "execution_count": 1,
   "id": "e0eaa22b-5b11-4614-b8fd-ed5754f1ff30",
   "metadata": {},
   "outputs": [],
   "source": [
    "# Utilities\n",
    "import pandas as pd\n",
    "import numpy as np\n",
    "from datetime import datetime, date, time, timedelta\n",
    "from collections import Counter\n",
    "\n",
    "# Plotting\n",
    "import seaborn as sns\n",
    "import plotly.express as px\n",
    "import matplotlib.pyplot as plt\n",
    "\n",
    "# Modelling\n",
    "from imblearn.over_sampling import SMOTE, ADASYN\n",
    "from sklearn.preprocessing import StandardScaler\n",
    "from sklearn.neighbors import KNeighborsClassifier\n",
    "from sklearn.model_selection import train_test_split\n",
    "from sklearn.model_selection import GridSearchCV\n",
    "\n",
    "from sklearn.metrics import recall_score, f1_score, accuracy_score\n",
    "from sklearn.metrics import roc_auc_score, roc_curve\n",
    "from sklearn.metrics import classification_report\n",
    "from sklearn.metrics import matthews_corrcoef\n",
    "\n",
    "RSEED = 42"
   ]
  },
  {
   "cell_type": "code",
   "execution_count": 16,
   "id": "ea148b3f-2a1c-456c-a93b-20d737fbec4e",
   "metadata": {},
   "outputs": [],
   "source": [
    "df = pd.read_csv(\"data/data_train_clean_withdummies.csv\")"
   ]
  },
  {
   "cell_type": "code",
   "execution_count": 19,
   "id": "280e90fa-9767-4cf9-9ecb-898534a00816",
   "metadata": {},
   "outputs": [
    {
     "data": {
      "text/plain": [
       "array(['TransactionId', 'AccountId', 'SubscriptionId', 'CustomerId',\n",
       "       'Value', 'FraudResult', 'ISOWeek', 'TransactionInBatch',\n",
       "       'value_amount_diff', 'TransactionsToDate', 'ValueLog',\n",
       "       'ProviderId_2', 'ProviderId_3', 'ProviderId_4', 'ProviderId_5',\n",
       "       'ProviderId_6', 'ProductId_2', 'ProductId_3', 'ProductId_4',\n",
       "       'ProductId_5', 'ProductId_6', 'ProductId_7', 'ProductId_8',\n",
       "       'ProductId_9', 'ProductId_10', 'ProductId_11', 'ProductId_12',\n",
       "       'ProductId_13', 'ProductId_14', 'ProductId_15', 'ProductId_16',\n",
       "       'ProductId_19', 'ProductId_20', 'ProductId_21', 'ProductId_22',\n",
       "       'ProductId_23', 'ProductId_24', 'ProductId_27',\n",
       "       'ProductCategory_data_bundles',\n",
       "       'ProductCategory_financial_services', 'ProductCategory_movies',\n",
       "       'ProductCategory_other', 'ProductCategory_ticket',\n",
       "       'ProductCategory_transport', 'ProductCategory_tv',\n",
       "       'ProductCategory_utility_bill', 'ChannelId_2', 'ChannelId_3',\n",
       "       'ChannelId_5', 'PricingStrategy_1', 'PricingStrategy_2',\n",
       "       'PricingStrategy_4', 'DayTime_evening', 'DayTime_midday',\n",
       "       'DayTime_morning', 'DayTime_night', 'TransactionWeekday_2',\n",
       "       'TransactionWeekday_3', 'TransactionWeekday_4',\n",
       "       'TransactionWeekday_5', 'TransactionWeekday_6',\n",
       "       'TransactionWeekday_7', 'DebitCredit_1'], dtype=object)"
      ]
     },
     "execution_count": 19,
     "metadata": {},
     "output_type": "execute_result"
    }
   ],
   "source": [
    "df.columns.values"
   ]
  },
  {
   "cell_type": "markdown",
   "id": "ff608248-c28b-4282-88e8-bd536e835855",
   "metadata": {},
   "source": [
    "### Splitting the data"
   ]
  },
  {
   "cell_type": "code",
   "execution_count": 20,
   "id": "d8721e2c-52a8-43a2-8f62-bc5d909d89ef",
   "metadata": {},
   "outputs": [],
   "source": [
    "#separate predictor variables\n",
    "X = df.drop(['Value','FraudResult'], axis =1)\n",
    "\n",
    "# separate target variable\n",
    "y = df['FraudResult']\n"
   ]
  },
  {
   "cell_type": "code",
   "execution_count": 21,
   "id": "9d92352e-3e5a-40e5-b4d5-754e157ce957",
   "metadata": {},
   "outputs": [],
   "source": [
    "# splitting the data\n",
    "X_train, X_test, y_train, y_test = train_test_split(X, y, test_size = 0.2, random_state = RSEED)"
   ]
  },
  {
   "cell_type": "markdown",
   "id": "a30f8091-45ae-49bd-846b-3ad8e35c076a",
   "metadata": {
    "tags": []
   },
   "source": [
    "### Data Balance - Oversampling\n",
    "\n",
    "*Usefull links*:\n",
    "- [SMOTE](https://imbalanced-learn.org/stable/over_sampling.html)\n",
    "- [Handling Imbalanced Data Sets, Medium](https://medium.com/coinmonks/handling-imbalanced-datasets-predicting-credit-card-fraud-544f5e74e0fd)\n",
    "- [Dealing with imbalanced Data, towardsdatascience](https://towardsdatascience.com/methods-for-dealing-with-imbalanced-data-5b761be45a18)"
   ]
  },
  {
   "cell_type": "code",
   "execution_count": 22,
   "id": "e36daf1c-c1bc-4735-aa08-a6fc9b89e305",
   "metadata": {},
   "outputs": [],
   "source": [
    "# apply resampling ONLY to train data\n",
    "X_train_res, y_train_res = SMOTE().fit_resample(X_train, y_train)"
   ]
  },
  {
   "cell_type": "code",
   "execution_count": 47,
   "id": "192b3600-6e9f-4da4-88f0-d1d3683a2ede",
   "metadata": {},
   "outputs": [
    {
     "data": {
      "text/plain": [
       "0         0\n",
       "1         0\n",
       "2         0\n",
       "3         0\n",
       "4         0\n",
       "         ..\n",
       "152741    1\n",
       "152742    1\n",
       "152743    1\n",
       "152744    1\n",
       "152745    1\n",
       "Name: FraudResult, Length: 152746, dtype: int64"
      ]
     },
     "execution_count": 47,
     "metadata": {},
     "output_type": "execute_result"
    }
   ],
   "source": [
    "y_train_res"
   ]
  },
  {
   "cell_type": "code",
   "execution_count": 23,
   "id": "698a09f9-700e-4500-afe8-78f6af487351",
   "metadata": {},
   "outputs": [],
   "source": [
    "scaler = StandardScaler()\n",
    "\n",
    "#standardization of train set (fit_transform)\n",
    "X_train_res_stand = scaler.fit_transform(X_train_res)\n",
    "\n",
    "#change array to dataframe\n",
    "scaled_df_train_resampled = pd.DataFrame(X_train_res_stand)\n",
    "scaled_df_train_resampled.columns = X_train.columns\n",
    "\n",
    "#standardization of test set (transform)\n",
    "X_test_stand = scaler.transform(X_test)\n",
    "\n",
    "#change array to dataframe\n",
    "scaled_df_test = pd.DataFrame(X_test_stand)\n",
    "scaled_df_test.columns = X_test.columns"
   ]
  },
  {
   "cell_type": "code",
   "execution_count": 49,
   "id": "82b2395c-fc6d-4415-ad8c-bb1556007cd9",
   "metadata": {},
   "outputs": [],
   "source": [
    "#scaled_df_resampled"
   ]
  },
  {
   "cell_type": "markdown",
   "id": "ccb02fbd-485d-46ba-acb4-cc731940694d",
   "metadata": {},
   "source": [
    "---\n",
    "\n",
    "## Base Line Model\n",
    "\n",
    "The following code for the classifier comparison was taken from [Machine Learning Mastery](https://machinelearningmastery.com/naive-classifiers-imbalanced-classification-metrics/)."
   ]
  },
  {
   "cell_type": "code",
   "execution_count": 25,
   "id": "296a09f6-50c5-40fa-93a1-9ae08820c8d5",
   "metadata": {},
   "outputs": [
    {
     "name": "stdout",
     "output_type": "stream",
     "text": [
      ">Uniform 0.499 (0.005)\n",
      ">Stratified 0.500 (0.004)\n",
      ">Majority 0.200 (0.305)\n",
      ">Minority 0.667 (0.000)\n",
      ">Prior 0.200 (0.305)\n"
     ]
    },
    {
     "data": {
      "image/png": "[encoded data removed]",
      "text/plain": [
       "<Figure size 432x288 with 1 Axes>"
      ]
     },
     "metadata": {
      "needs_background": "light"
     },
     "output_type": "display_data"
    }
   ],
   "source": [
    "# compare naive classifiers with f1-measure\n",
    "from numpy import mean\n",
    "from numpy import std\n",
    "from sklearn.datasets import make_classification\n",
    "from sklearn.model_selection import cross_val_score\n",
    "from sklearn.model_selection import RepeatedStratifiedKFold\n",
    "from sklearn.dummy import DummyClassifier\n",
    "from matplotlib import pyplot\n",
    "\n",
    "# evaluate a model\n",
    "def evaluate_model(X, y, model):\n",
    "\t# define evaluation procedure\n",
    "\tcv = RepeatedStratifiedKFold(n_splits=10, n_repeats=3, random_state=1)\n",
    "\t# evaluate model\n",
    "\tscores = cross_val_score(model, X, y, scoring='f1', cv=cv, n_jobs=-1)\n",
    "\treturn scores\n",
    "\n",
    "# define models to test\n",
    "def get_models():\n",
    "\tmodels, names = list(), list()\n",
    "\t# Uniformly Random Guess\n",
    "\tmodels.append(DummyClassifier(strategy='uniform'))\n",
    "\tnames.append('Uniform')\n",
    "\t# Prior Random Guess\n",
    "\tmodels.append(DummyClassifier(strategy='stratified'))\n",
    "\tnames.append('Stratified')\n",
    "\t# Majority Class: Predict 0\n",
    "\tmodels.append(DummyClassifier(strategy='most_frequent'))\n",
    "\tnames.append('Majority')\n",
    "\t# Minority Class: Predict 1\n",
    "\tmodels.append(DummyClassifier(strategy='constant', constant=1))\n",
    "\tnames.append('Minority')\n",
    "\t# Class Prior\n",
    "\tmodels.append(DummyClassifier(strategy='prior'))\n",
    "\tnames.append('Prior')\n",
    "\treturn models, names\n",
    "\n",
    "# define dataset\n",
    "\"\"\"\n",
    "X, y = make_classification(n_samples=10000, n_features=2, n_redundant=0,\n",
    "\tn_clusters_per_class=1, weights=[0.99], flip_y=0, random_state=4)\n",
    "\"\"\"\n",
    "# define models\n",
    "models, names = get_models()\n",
    "results = list()\n",
    "# evaluate each model\n",
    "for i in range(len(models)):\n",
    "\t# evaluate the model and store results\n",
    "\tscores = evaluate_model(scaled_df_train_resampled, y_train_res, models[i])\n",
    "\tresults.append(scores)\n",
    "\t# summarize and store\n",
    "\tprint('>%s %.3f (%.3f)' % (names[i], mean(scores), std(scores)))\n",
    "# plot the results\n",
    "pyplot.boxplot(results, labels=names, showmeans=True)\n",
    "pyplot.show()"
   ]
  },
  {
   "cell_type": "markdown",
   "id": "ab31a9cf-8050-49f7-bd23-8f6289503a2d",
   "metadata": {},
   "source": [
    "### Results:\n",
    "\n",
    "The 'Minority' `DummyClassifier` seems to deliver the best result (0.667) for a naive classifier with regards to the f1 score metric which is our goal."
   ]
  },
  {
   "cell_type": "code",
   "execution_count": 26,
   "id": "6e41c116-d51a-4896-bab9-0ca256204302",
   "metadata": {},
   "outputs": [],
   "source": [
    "dummy_clf = DummyClassifier(strategy=\"constant\", constant=1)\n",
    "dummy_clf.fit(scaled_df_train_resampled, y_train_res)\n",
    "\n",
    "y_dummy_pred = dummy_clf.predict(scaled_df_train_resampled)"
   ]
  },
  {
   "cell_type": "code",
   "execution_count": 27,
   "id": "20f7a1ed-bcd1-4664-8e67-dc34ea4b35ff",
   "metadata": {},
   "outputs": [
    {
     "name": "stdout",
     "output_type": "stream",
     "text": [
      "------------------------------------------------------------\n",
      "              precision    recall  f1-score   support\n",
      "\n",
      "           0       0.00      0.00      0.00     76373\n",
      "           1       0.50      1.00      0.67     76373\n",
      "\n",
      "    accuracy                           0.50    152746\n",
      "   macro avg       0.25      0.50      0.33    152746\n",
      "weighted avg       0.25      0.50      0.33    152746\n",
      "\n",
      "------------------------------------------------------------\n",
      "F1-score: 0.6666666666666666\n",
      "------------------------------------------------------------\n"
     ]
    },
    {
     "name": "stderr",
     "output_type": "stream",
     "text": [
      "/Users/fabioteichmann/.pyenv/versions/3.9.4/lib/python3.9/site-packages/sklearn/metrics/_classification.py:1308: UndefinedMetricWarning: Precision and F-score are ill-defined and being set to 0.0 in labels with no predicted samples. Use `zero_division` parameter to control this behavior.\n",
      "  _warn_prf(average, modifier, msg_start, len(result))\n",
      "/Users/fabioteichmann/.pyenv/versions/3.9.4/lib/python3.9/site-packages/sklearn/metrics/_classification.py:1308: UndefinedMetricWarning: Precision and F-score are ill-defined and being set to 0.0 in labels with no predicted samples. Use `zero_division` parameter to control this behavior.\n",
      "  _warn_prf(average, modifier, msg_start, len(result))\n",
      "/Users/fabioteichmann/.pyenv/versions/3.9.4/lib/python3.9/site-packages/sklearn/metrics/_classification.py:1308: UndefinedMetricWarning: Precision and F-score are ill-defined and being set to 0.0 in labels with no predicted samples. Use `zero_division` parameter to control this behavior.\n",
      "  _warn_prf(average, modifier, msg_start, len(result))\n"
     ]
    }
   ],
   "source": [
    "print(\"------\"*10)\n",
    "print(classification_report(y_train_res, y_dummy_pred))\n",
    "print(\"------\"*10)\n",
    "\n",
    "# F1-score on test set\n",
    "print(\"F1-score:\", f1_score(y_train_res, y_dummy_pred, average='binary'))\n",
    "print(\"------\"*10)\n",
    "\n",
    "f1_baseline = f1_score(y_train_res, y_dummy_pred, average='binary')"
   ]
  },
  {
   "cell_type": "markdown",
   "id": "9f7ee686-63ff-424c-a4fc-0cb9c623fddf",
   "metadata": {},
   "source": [
    "## Modelling\n",
    "\n",
    "### First Models\n",
    "\n",
    "1. SVM ==> Daniela\n",
    "2. LogReg ==> Kai Yang\n",
    "\n",
    "### Advanced Models\n",
    "\n",
    "1. Random Forest ==> Fabio\n",
    "2. AdaBoost ==> \n",
    "3. Stacking ==> "
   ]
  },
  {
   "cell_type": "code",
   "execution_count": 28,
   "id": "b6c37fd8-d746-4766-b898-7e55072e6232",
   "metadata": {},
   "outputs": [],
   "source": [
    "# save TRAIN sets\n",
    "scaled_df_train_resampled.to_csv('data/x-train.csv', index=False)\n",
    "y_train_res.to_csv('data/y-train.csv', index=False)\n",
    "\n",
    "# save TEST sets\n",
    "scaled_df_test.to_csv('data/x-test.csv', index=False)\n",
    "y_test.to_csv('data/y-test.csv', index=False)"
   ]
  },
  {
   "cell_type": "code",
   "execution_count": null,
   "id": "3f17179a-55f0-4acf-a938-9b79bde2f9da",
   "metadata": {},
   "outputs": [],
   "source": []
  },
  {
   "cell_type": "code",
   "execution_count": 29,
   "id": "3419a6f2-4539-4274-a33c-bbf723939fdd",
   "metadata": {},
   "outputs": [],
   "source": [
    "from sklearn.tree import DecisionTreeClassifier\n",
    "from sklearn.ensemble import RandomForestClassifier\n",
    "from sklearn.metrics import precision_score, recall_score, roc_auc_score, roc_curve\n",
    "from sklearn.metrics import confusion_matrix"
   ]
  },
  {
   "cell_type": "code",
   "execution_count": 30,
   "id": "25496154-f4f8-4c36-881d-2d1063337081",
   "metadata": {},
   "outputs": [],
   "source": [
    "# Random Forest =================================\n",
    "# Make a decision tree and train\n",
    "tree = DecisionTreeClassifier(max_depth= None, random_state=RSEED)\n",
    "tree.fit(scaled_df_train_resampled, y_train_res)\n",
    "\n",
    "y_tree_pred = tree.predict(scaled_df_test)"
   ]
  },
  {
   "cell_type": "code",
   "execution_count": 56,
   "id": "57d83421-a776-4940-abab-6fbd9ba1ab9c",
   "metadata": {},
   "outputs": [
    {
     "data": {
      "text/plain": [
       "(19133,)"
      ]
     },
     "execution_count": 56,
     "metadata": {},
     "output_type": "execute_result"
    }
   ],
   "source": [
    "y_tree_pred.shape"
   ]
  },
  {
   "cell_type": "code",
   "execution_count": 57,
   "id": "32540338-1de3-461a-a6f5-04c07817f4f7",
   "metadata": {},
   "outputs": [
    {
     "data": {
      "text/plain": [
       "(19133,)"
      ]
     },
     "execution_count": 57,
     "metadata": {},
     "output_type": "execute_result"
    }
   ],
   "source": [
    "y_test.shape"
   ]
  },
  {
   "cell_type": "code",
   "execution_count": 31,
   "id": "84b62fa0-303c-41ec-8b98-18fcb7862f6f",
   "metadata": {},
   "outputs": [
    {
     "name": "stdout",
     "output_type": "stream",
     "text": [
      "Decision tree has 349 nodes with maximum depth 27.\n",
      "Model Accuracy: 1.0\n",
      "Model F1-Score: 0.725\n"
     ]
    }
   ],
   "source": [
    "print(f'Decision tree has {tree.tree_.node_count} nodes with maximum depth {tree.tree_.max_depth}.')\n",
    "print(f'Model Accuracy: {tree.score(scaled_df_train_resampled, y_train_res)}')\n",
    "print(f'Model F1-Score: {f1_score(y_test, y_tree_pred, average=\"binary\")}')\n"
   ]
  },
  {
   "cell_type": "markdown",
   "id": "be4251b2-7c17-40fe-9122-712c81b65450",
   "metadata": {},
   "source": [
    "---\n",
    "\n",
    "#### Random Forest"
   ]
  },
  {
   "cell_type": "code",
   "execution_count": 32,
   "id": "e131867d-a771-4fa9-b439-feafa3c974ba",
   "metadata": {},
   "outputs": [
    {
     "name": "stderr",
     "output_type": "stream",
     "text": [
      "[Parallel(n_jobs=-1)]: Using backend ThreadingBackend with 8 concurrent workers.\n",
      "[Parallel(n_jobs=-1)]: Done  34 tasks      | elapsed:    0.7s\n",
      "[Parallel(n_jobs=-1)]: Done 184 tasks      | elapsed:    3.4s\n",
      "[Parallel(n_jobs=-1)]: Done 434 tasks      | elapsed:    7.8s\n",
      "[Parallel(n_jobs=-1)]: Done 784 tasks      | elapsed:   13.8s\n",
      "[Parallel(n_jobs=-1)]: Done 1000 out of 1000 | elapsed:   17.6s finished\n",
      "[Parallel(n_jobs=8)]: Using backend ThreadingBackend with 8 concurrent workers.\n",
      "[Parallel(n_jobs=8)]: Done  34 tasks      | elapsed:    0.0s\n",
      "[Parallel(n_jobs=8)]: Done 184 tasks      | elapsed:    0.0s\n",
      "[Parallel(n_jobs=8)]: Done 434 tasks      | elapsed:    0.1s\n",
      "[Parallel(n_jobs=8)]: Done 784 tasks      | elapsed:    0.2s\n",
      "[Parallel(n_jobs=8)]: Done 1000 out of 1000 | elapsed:    0.2s finished\n"
     ]
    }
   ],
   "source": [
    "# optimal params: n_estimators=1000, criterion=entropy, max_features=sqrt\n",
    "model = RandomForestClassifier(n_estimators=1000, \n",
    "                               random_state=RSEED, \n",
    "                               criterion = 'entropy',\n",
    "                               max_features = 'sqrt',\n",
    "                               max_depth = None,\n",
    "                               n_jobs=-1, verbose = 1)\n",
    "\n",
    "# Fit on training data\n",
    "model.fit(scaled_df_train_resampled, y_train_res)\n",
    "y_rf_pred = model.predict(scaled_df_test)"
   ]
  },
  {
   "cell_type": "code",
   "execution_count": 33,
   "id": "889aff3e-36f7-4c89-aa0f-5b628fce9c0d",
   "metadata": {},
   "outputs": [
    {
     "name": "stdout",
     "output_type": "stream",
     "text": [
      "------------------------------------------------------------\n",
      "              precision    recall  f1-score   support\n",
      "\n",
      "           0       1.00      1.00      1.00     19096\n",
      "           1       0.79      0.81      0.80        37\n",
      "\n",
      "    accuracy                           1.00     19133\n",
      "   macro avg       0.89      0.91      0.90     19133\n",
      "weighted avg       1.00      1.00      1.00     19133\n",
      "\n",
      "------------------------------------------------------------\n",
      "Model F1-Score: 0.8\n",
      "------------------------------------------------------------\n",
      "Confusion Matrix: \n",
      " [[19088     8]\n",
      " [    7    30]]\n"
     ]
    }
   ],
   "source": [
    "print(\"------\"*10)\n",
    "print(classification_report(y_test, y_rf_pred))\n",
    "print(\"------\"*10)\n",
    "\n",
    "# F1-score on test set\n",
    "print(f'Model F1-Score: {f1_score(y_test, y_rf_pred, average=\"binary\")}')\n",
    "print(\"------\"*10)\n",
    "print(\"Confusion Matrix: \\n\", \n",
    "        confusion_matrix(y_test, y_rf_pred))"
   ]
  },
  {
   "cell_type": "markdown",
   "id": "50269299-1cbb-45d1-9f54-af810e698c71",
   "metadata": {},
   "source": [
    "---\n",
    "\n",
    "### Feature Importance (Random Forest)"
   ]
  },
  {
   "cell_type": "code",
   "execution_count": 34,
   "id": "33d2925f-19b8-43c0-b950-d4f9acb31d74",
   "metadata": {},
   "outputs": [
    {
     "data": {
      "text/plain": [
       "array([9.97035545e-03, 3.43999529e-02, 1.66435333e-02, 1.58892178e-02,\n",
       "       1.84768747e-02, 5.12712340e-04, 1.70058977e-02, 3.00930393e-02,\n",
       "       3.99733535e-01, 9.08309680e-06, 1.45089913e-03, 2.31236625e-02,\n",
       "       1.63864594e-02, 8.17645137e-02, 1.58423482e-05, 2.99634045e-02,\n",
       "       9.84544773e-04, 5.94951379e-05, 2.57359721e-02, 3.13448750e-04,\n",
       "       1.58770471e-05, 1.62343587e-05, 1.62551297e-02, 2.45337807e-04,\n",
       "       2.79542077e-07, 1.52297773e-04, 5.97505300e-04, 6.95988093e-02,\n",
       "       2.83168381e-07, 1.45936200e-04, 6.08095079e-04, 7.92607006e-04,\n",
       "       3.62938870e-05, 5.50260756e-07, 5.41665747e-05, 1.82824349e-06,\n",
       "       3.99337551e-04, 2.37377619e-02, 5.33615741e-05, 1.40131713e-07,\n",
       "       5.66034873e-04, 5.56776419e-05, 7.18242693e-04, 5.82342146e-04,\n",
       "       1.85815386e-02, 1.14898518e-02, 1.81605469e-04, 2.11032082e-03,\n",
       "       1.31278047e-02, 1.71005192e-02, 3.50939585e-03, 4.47900970e-03,\n",
       "       1.36717915e-02, 2.24606931e-03, 5.95867364e-03, 3.40041019e-03,\n",
       "       2.90932749e-03, 2.85601232e-02, 4.63903148e-03, 3.75571788e-03,\n",
       "       2.71122357e-02])"
      ]
     },
     "execution_count": 34,
     "metadata": {},
     "output_type": "execute_result"
    }
   ],
   "source": [
    "np.transpose(np.asarray(model.feature_importances_))"
   ]
  },
  {
   "cell_type": "code",
   "execution_count": 35,
   "id": "745fbff4-2c56-474b-ad80-8ae7e61add0b",
   "metadata": {},
   "outputs": [
    {
     "name": "stdout",
     "output_type": "stream",
     "text": [
      "[0.01 0.03 0.02 0.02 0.02 0.   0.02 0.03 0.4  0.   0.   0.02 0.02 0.08\n",
      " 0.   0.03 0.   0.   0.03 0.   0.   0.   0.02 0.   0.   0.   0.   0.07\n",
      " 0.   0.   0.   0.   0.   0.   0.   0.   0.   0.02 0.   0.   0.   0.\n",
      " 0.   0.   0.02 0.01 0.   0.   0.01 0.02 0.   0.   0.01 0.   0.01 0.\n",
      " 0.   0.03 0.   0.   0.03]\n",
      "['TransactionId' 'AccountId' 'SubscriptionId' 'CustomerId' 'ISOWeek'\n",
      " 'TransactionInBatch' 'value_amount_diff' 'TransactionsToDate' 'ValueLog'\n",
      " 'ProviderId_2' 'ProviderId_3' 'ProviderId_4' 'ProviderId_5'\n",
      " 'ProviderId_6' 'ProductId_2' 'ProductId_3' 'ProductId_4' 'ProductId_5'\n",
      " 'ProductId_6' 'ProductId_7' 'ProductId_8' 'ProductId_9' 'ProductId_10'\n",
      " 'ProductId_11' 'ProductId_12' 'ProductId_13' 'ProductId_14'\n",
      " 'ProductId_15' 'ProductId_16' 'ProductId_19' 'ProductId_20'\n",
      " 'ProductId_21' 'ProductId_22' 'ProductId_23' 'ProductId_24'\n",
      " 'ProductId_27' 'ProductCategory_data_bundles'\n",
      " 'ProductCategory_financial_services' 'ProductCategory_movies'\n",
      " 'ProductCategory_other' 'ProductCategory_ticket'\n",
      " 'ProductCategory_transport' 'ProductCategory_tv'\n",
      " 'ProductCategory_utility_bill' 'ChannelId_2' 'ChannelId_3' 'ChannelId_5'\n",
      " 'PricingStrategy_1' 'PricingStrategy_2' 'PricingStrategy_4'\n",
      " 'DayTime_evening' 'DayTime_midday' 'DayTime_morning' 'DayTime_night'\n",
      " 'TransactionWeekday_2' 'TransactionWeekday_3' 'TransactionWeekday_4'\n",
      " 'TransactionWeekday_5' 'TransactionWeekday_6' 'TransactionWeekday_7'\n",
      " 'DebitCredit_1']\n"
     ]
    }
   ],
   "source": [
    "x=np.asarray(model.feature_importances_)\n",
    "print(np.array_str(x, precision=2, suppress_small=True))\n",
    "print(model.feature_names_in_)\n",
    "df_feat = pd.DataFrame(x, columns= ['Importance'],index=model.feature_names_in_)"
   ]
  },
  {
   "cell_type": "code",
   "execution_count": 36,
   "id": "0ecba409-e0e7-4114-9a96-81d6890a75db",
   "metadata": {},
   "outputs": [
    {
     "data": {
      "text/html": [
       "<div>\n",
       "<style scoped>\n",
       "    .dataframe tbody tr th:only-of-type {\n",
       "        vertical-align: middle;\n",
       "    }\n",
       "\n",
       "    .dataframe tbody tr th {\n",
       "        vertical-align: top;\n",
       "    }\n",
       "\n",
       "    .dataframe thead th {\n",
       "        text-align: right;\n",
       "    }\n",
       "</style>\n",
       "<table border=\"1\" class=\"dataframe\">\n",
       "  <thead>\n",
       "    <tr style=\"text-align: right;\">\n",
       "      <th></th>\n",
       "      <th>Importance</th>\n",
       "    </tr>\n",
       "  </thead>\n",
       "  <tbody>\n",
       "    <tr>\n",
       "      <th>TransactionId</th>\n",
       "      <td>0.009970</td>\n",
       "    </tr>\n",
       "    <tr>\n",
       "      <th>AccountId</th>\n",
       "      <td>0.034400</td>\n",
       "    </tr>\n",
       "    <tr>\n",
       "      <th>SubscriptionId</th>\n",
       "      <td>0.016644</td>\n",
       "    </tr>\n",
       "    <tr>\n",
       "      <th>CustomerId</th>\n",
       "      <td>0.015889</td>\n",
       "    </tr>\n",
       "    <tr>\n",
       "      <th>ISOWeek</th>\n",
       "      <td>0.018477</td>\n",
       "    </tr>\n",
       "    <tr>\n",
       "      <th>...</th>\n",
       "      <td>...</td>\n",
       "    </tr>\n",
       "    <tr>\n",
       "      <th>TransactionWeekday_4</th>\n",
       "      <td>0.002909</td>\n",
       "    </tr>\n",
       "    <tr>\n",
       "      <th>TransactionWeekday_5</th>\n",
       "      <td>0.028560</td>\n",
       "    </tr>\n",
       "    <tr>\n",
       "      <th>TransactionWeekday_6</th>\n",
       "      <td>0.004639</td>\n",
       "    </tr>\n",
       "    <tr>\n",
       "      <th>TransactionWeekday_7</th>\n",
       "      <td>0.003756</td>\n",
       "    </tr>\n",
       "    <tr>\n",
       "      <th>DebitCredit_1</th>\n",
       "      <td>0.027112</td>\n",
       "    </tr>\n",
       "  </tbody>\n",
       "</table>\n",
       "<p>61 rows × 1 columns</p>\n",
       "</div>"
      ],
      "text/plain": [
       "                      Importance\n",
       "TransactionId           0.009970\n",
       "AccountId               0.034400\n",
       "SubscriptionId          0.016644\n",
       "CustomerId              0.015889\n",
       "ISOWeek                 0.018477\n",
       "...                          ...\n",
       "TransactionWeekday_4    0.002909\n",
       "TransactionWeekday_5    0.028560\n",
       "TransactionWeekday_6    0.004639\n",
       "TransactionWeekday_7    0.003756\n",
       "DebitCredit_1           0.027112\n",
       "\n",
       "[61 rows x 1 columns]"
      ]
     },
     "execution_count": 36,
     "metadata": {},
     "output_type": "execute_result"
    }
   ],
   "source": [
    "df_feat"
   ]
  },
  {
   "cell_type": "code",
   "execution_count": 73,
   "id": "3470aa2a-311d-4551-ae9b-2a7c5a651122",
   "metadata": {},
   "outputs": [
    {
     "data": {
      "text/plain": [
       "0              ValueLog\n",
       "1          ProviderId_6\n",
       "2          ProductId_15\n",
       "3             AccountId\n",
       "4    TransactionsToDate\n",
       "Name: index, dtype: object"
      ]
     },
     "execution_count": 73,
     "metadata": {},
     "output_type": "execute_result"
    }
   ],
   "source": [
    "df_feat_plot"
   ]
  },
  {
   "cell_type": "code",
   "execution_count": 103,
   "id": "55a71592-7384-40f4-9a96-06d6bc43b221",
   "metadata": {},
   "outputs": [
    {
     "data": {
      "image/png": "[encoded data removed]",
      "text/plain": [
       "<Figure size 432x288 with 1 Axes>"
      ]
     },
     "metadata": {
      "needs_background": "light"
     },
     "output_type": "display_data"
    }
   ],
   "source": [
    "df_feat_plot = df_feat.query('Importance >= 0.03').reset_index().sort_values(by=['Importance'], \n",
    "                                                                             ascending=False,\n",
    "                                                                            ignore_index=True)\n",
    "x = df_feat_plot['index']\n",
    "y = df_feat_plot.Importance\n",
    "\n",
    "sns.scatterplot(x=x, y=y, marker='x', color='green')\n",
    "plt.xticks(ticks = range(5),\n",
    "           rotation=30, \n",
    "           labels=['Value', 'ProviderId 6', 'ProductId 15', 'AccountId', 'TransactionsToDate'],\n",
    "           fontsize=10,\n",
    "           ha='right'\n",
    "          )\n",
    "#plt.setp( plt.xaxis.get_majorticklabels(), rotation=-45, ha=\"right\" )\n",
    "plt.ylabel('Relative Importance (%)', fontsize=14)\n",
    "plt.yticks(ticks=np.linspace(0,3.5,8))\n",
    "plt.xlabel('Feature',fontsize=14)\n",
    "plt.grid(visible=True, axis='y', linestyle='--')\n",
    "plt.suptitle('Relative Feature Importance in Model', fontsize=16);\n"
   ]
  },
  {
   "cell_type": "code",
   "execution_count": 71,
   "id": "8d07bf8d-c07d-494f-9064-8f4adae90523",
   "metadata": {},
   "outputs": [
    {
     "name": "stdout",
     "output_type": "stream",
     "text": [
      "Fitting 5 folds for each of 24 candidates, totalling 120 fits\n"
     ]
    }
   ],
   "source": [
    "# GRID SEARCH ===========================\n",
    "\n",
    "param_grid = {'max_features': ['sqrt'], \n",
    "              'criterion': ['gini', 'entropy'],\n",
    "              'n_estimators': [500,600,700],\n",
    "              'random_state': [10,42,112,13]\n",
    "             }\n",
    "\n",
    "grid       = GridSearchCV(RandomForestClassifier(), param_grid, verbose=True, n_jobs=-1,scoring='f1')\n",
    "model_rf  = grid.fit(scaled_df_train_resampled, y_train_res)\n",
    "y_rf_grid_pred = model_rf.predict(scaled_df_test)"
   ]
  },
  {
   "cell_type": "code",
   "execution_count": 72,
   "id": "f2595fa3-cf9a-4f2d-a9df-1355c7ccec29",
   "metadata": {},
   "outputs": [
    {
     "name": "stdout",
     "output_type": "stream",
     "text": [
      "------------------------------------------------------------\n",
      "              precision    recall  f1-score   support\n",
      "\n",
      "           0       1.00      1.00      1.00     19096\n",
      "           1       0.88      0.97      0.92        37\n",
      "\n",
      "    accuracy                           1.00     19133\n",
      "   macro avg       0.94      0.99      0.96     19133\n",
      "weighted avg       1.00      1.00      1.00     19133\n",
      "\n",
      "------------------------------------------------------------\n",
      "Model F1-Score: 0.923076923076923\n",
      "------------------------------------------------------------\n",
      "Model Matthew Corr: 0.9241411579910072\n",
      "------------------------------------------------------------\n",
      "Confusion Matrix: \n",
      " [[19091     5]\n",
      " [    1    36]]\n"
     ]
    }
   ],
   "source": [
    "print(\"------\"*10)\n",
    "print(classification_report(y_test, y_rf_grid_pred))\n",
    "print(\"------\"*10)\n",
    "\n",
    "# F1-score on test set \n",
    "print(f'Model F1-Score: {f1_score(y_test, y_rf_grid_pred, average=\"binary\")}')\n",
    "print(\"------\"*10)\n",
    "print(f'Model Matthew Corr: {matthews_corrcoef(y_test, y_rf_grid_pred)}')\n",
    "print(\"------\"*10)\n",
    "print(\"Confusion Matrix: \\n\", \n",
    "        confusion_matrix(y_test, y_rf_grid_pred))"
   ]
  },
  {
   "cell_type": "code",
   "execution_count": 73,
   "id": "30b10fac-1d4d-4ea3-8976-b007fa5b9b72",
   "metadata": {},
   "outputs": [
    {
     "data": {
      "text/plain": [
       "{'criterion': 'entropy',\n",
       " 'max_features': 'sqrt',\n",
       " 'n_estimators': 500,\n",
       " 'random_state': 42}"
      ]
     },
     "execution_count": 73,
     "metadata": {},
     "output_type": "execute_result"
    }
   ],
   "source": [
    "model_rf.best_params_"
   ]
  },
  {
   "cell_type": "code",
   "execution_count": null,
   "id": "8e4c6578-35da-4b03-ae9e-2ee2c9b4ea12",
   "metadata": {},
   "outputs": [],
   "source": []
  },
  {
   "cell_type": "code",
   "execution_count": null,
   "id": "2f384835-357c-4b25-87c9-a72bf2864dc0",
   "metadata": {},
   "outputs": [],
   "source": []
  },
  {
   "cell_type": "code",
   "execution_count": null,
   "id": "a0654901-cd0b-489d-9f2c-c2dfd6da318f",
   "metadata": {},
   "outputs": [],
   "source": [
    "y_train_rf_pred = model.predict(scaled_df_train_resampled)\n",
    "train_rf_probs = model.predict_proba(scaled_df_train_resampled)[:, 1]\n",
    "\n",
    "y_rf_pred = model.predict(scaled_df_test)\n",
    "rf_probs = model.predict_proba(scaled_df_test)[:, 1]\n",
    "evaluate_model(y_rf_pred, rf_probs, y_train_rf_pred, train_rf_probs)"
   ]
  },
  {
   "cell_type": "code",
   "execution_count": null,
   "id": "af0a114a-bcf7-4ff0-bd91-61307529b269",
   "metadata": {},
   "outputs": [],
   "source": [
    "def evaluate_model(predictions, probs, train_predictions, train_probs):\n",
    "    \"\"\"Compare machine learning model to baseline performance.\n",
    "    Computes statistics and shows ROC curve.\"\"\"\n",
    "    \n",
    "    baseline = {}\n",
    "    \n",
    "    baseline['recall'] = recall_score(y_test, [1 for _ in range(len(y_test))])\n",
    "    baseline['precision'] = precision_score(y_test, [1 for _ in range(len(y_test))])\n",
    "    baseline['roc'] = 0.5\n",
    "    \n",
    "    results = {}\n",
    "    \n",
    "    results['recall'] = recall_score(y_test, predictions)\n",
    "    results['precision'] = precision_score(y_test, predictions)\n",
    "    results['roc'] = roc_auc_score(y_test, probs)\n",
    "    \n",
    "    train_results = {}\n",
    "    train_results['recall'] = recall_score(y_train_res, train_predictions)\n",
    "    train_results['precision'] = precision_score(y_train_res, train_predictions)\n",
    "    train_results['roc'] = roc_auc_score(y_train_res, train_probs)\n",
    "    \n",
    "    for metric in ['recall', 'precision', 'roc']:\n",
    "        print(f'{metric.capitalize()} Baseline: {round(baseline[metric], 2)} Test: {round(results[metric], 2)} Train: {round(train_results[metric], 2)}')\n",
    "    \n",
    "    # Calculate false positive rates and true positive rates\n",
    "    base_fpr, base_tpr, _ = roc_curve(y_test, [1 for _ in range(len(y_test))])\n",
    "    model_fpr, model_tpr, _ = roc_curve(y_test, probs)\n",
    "\n",
    "    plt.figure(figsize = (8, 6))\n",
    "    plt.rcParams['font.size'] = 16\n",
    "    \n",
    "    # Plot both curves\n",
    "    plt.plot(base_fpr, base_tpr, 'b', label = 'baseline')\n",
    "    plt.plot(model_fpr, model_tpr, 'r', label = 'model')\n",
    "    plt.legend();\n",
    "    plt.xlabel('False Positive Rate'); plt.ylabel('True Positive Rate'); plt.title('ROC Curves');\n"
   ]
  },
  {
   "cell_type": "code",
   "execution_count": null,
   "id": "64c9424f-4c14-4ec9-bf0f-0954b935cd2c",
   "metadata": {},
   "outputs": [],
   "source": []
  }
 ],
 "metadata": {
  "kernelspec": {
   "display_name": "Python 3 (ipykernel)",
   "language": "python",
   "name": "python3"
  },
  "language_info": {
   "codemirror_mode": {
    "name": "ipython",
    "version": 3
   },
   "file_extension": ".py",
   "mimetype": "text/x-python",
   "name": "python",
   "nbconvert_exporter": "python",
   "pygments_lexer": "ipython3",
   "version": "3.9.4"
  }
 },
 "nbformat": 4,
 "nbformat_minor": 5
}
