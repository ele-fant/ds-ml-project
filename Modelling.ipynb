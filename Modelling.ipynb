{
 "cells": [
  {
   "cell_type": "code",
   "execution_count": null,
   "id": "e0eaa22b-5b11-4614-b8fd-ed5754f1ff30",
   "metadata": {},
   "outputs": [],
   "source": [
    "import pandas as pd\n",
    "from datetime import datetime, date, time, timedelta\n",
    "import seaborn as sns\n",
    "import plotly.express as px\n",
    "import matplotlib.pyplot as plt\n",
    "import numpy as np"
   ]
  },
  {
   "cell_type": "code",
   "execution_count": null,
   "id": "ea148b3f-2a1c-456c-a93b-20d737fbec4e",
   "metadata": {},
   "outputs": [],
   "source": [
    "df = pd.read_csv(\"data/data_train_clean_withdummies.csv\")"
   ]
  },
  {
   "cell_type": "markdown",
   "id": "ff608248-c28b-4282-88e8-bd536e835855",
   "metadata": {},
   "source": [
    "### Splitting the data"
   ]
  },
  {
   "cell_type": "code",
   "execution_count": null,
   "id": "d8721e2c-52a8-43a2-8f62-bc5d909d89ef",
   "metadata": {},
   "outputs": [],
   "source": [
    "#separate predictor variables\n",
    "X = df.drop('FraudResult', axis =1)\n",
    "\n",
    "# separate target variable\n",
    "y = df['FraudResult']\n"
   ]
  },
  {
   "cell_type": "code",
   "execution_count": null,
   "id": "9d92352e-3e5a-40e5-b4d5-754e157ce957",
   "metadata": {},
   "outputs": [],
   "source": [
    "# importing train_test_split from sklearn\n",
    "from sklearn.model_selection import train_test_split\n",
    "# splitting the data\n",
    "X_train, X_test, y_train, y_test = train_test_split(X, y, test_size = 0.2, random_state = 42)"
   ]
  },
  {
   "cell_type": "markdown",
   "id": "a30f8091-45ae-49bd-846b-3ad8e35c076a",
   "metadata": {
    "tags": []
   },
   "source": [
    "### Data Balance - Oversampling"
   ]
  },
  {
   "cell_type": "code",
   "execution_count": null,
   "id": "e36daf1c-c1bc-4735-aa08-a6fc9b89e305",
   "metadata": {},
   "outputs": [],
   "source": [
    "from imblearn.over_sampling import SMOTE, ADASYN\n",
    "from collections import Counter\n",
    "from sklearn.model_selection import train_test_split\n",
    "from sklearn.preprocessing import StandardScaler\n",
    "from sklearn.neighbors import KNeighborsClassifier\n",
    "import numpy as np\n",
    "import matplotlib.pyplot as plt\n",
    "\n",
    "from sklearn.metrics import recall_score, roc_auc_score, roc_curve"
   ]
  }
 ],
 "metadata": {
  "kernelspec": {
   "display_name": "Python 3 (ipykernel)",
   "language": "python",
   "name": "python3"
  },
  "language_info": {
   "codemirror_mode": {
    "name": "ipython",
    "version": 3
   },
   "file_extension": ".py",
   "mimetype": "text/x-python",
   "name": "python",
   "nbconvert_exporter": "python",
   "pygments_lexer": "ipython3",
   "version": "3.9.4"
  }
 },
 "nbformat": 4,
 "nbformat_minor": 5
}
