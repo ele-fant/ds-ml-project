{
 "cells": [
  {
   "cell_type": "code",
   "execution_count": 74,
   "id": "e0eaa22b-5b11-4614-b8fd-ed5754f1ff30",
   "metadata": {},
   "outputs": [],
   "source": [
    "# Utilities\n",
    "import pandas as pd\n",
    "import numpy as np\n",
    "from datetime import datetime, date, time, timedelta\n",
    "from collections import Counter\n",
    "\n",
    "# Plotting\n",
    "import seaborn as sns\n",
    "import plotly.express as px\n",
    "import matplotlib.pyplot as plt\n",
    "\n",
    "# Modelling\n",
    "from imblearn.over_sampling import SMOTE, ADASYN\n",
    "from sklearn.preprocessing import StandardScaler\n",
    "from sklearn.neighbors import KNeighborsClassifier\n",
    "from sklearn.model_selection import train_test_split\n",
    "from sklearn.model_selection import GridSearchCV\n",
    "\n",
    "from sklearn.metrics import recall_score, f1_score, accuracy_score\n",
    "from sklearn.metrics import roc_auc_score, roc_curve\n",
    "from sklearn.metrics import classification_report\n",
    "from sklearn.metrics import matthews_corrcoef\n",
    "\n",
    "RSEED = 42"
   ]
  },
  {
   "cell_type": "code",
   "execution_count": 75,
   "id": "ea148b3f-2a1c-456c-a93b-20d737fbec4e",
   "metadata": {},
   "outputs": [],
   "source": [
    "df = pd.read_csv(\"data/data_train_clean_withdummies.csv\")"
   ]
  },
  {
   "cell_type": "code",
   "execution_count": 43,
   "id": "280e90fa-9767-4cf9-9ecb-898534a00816",
   "metadata": {},
   "outputs": [
    {
     "data": {
      "text/html": [
       "<div>\n",
       "<style scoped>\n",
       "    .dataframe tbody tr th:only-of-type {\n",
       "        vertical-align: middle;\n",
       "    }\n",
       "\n",
       "    .dataframe tbody tr th {\n",
       "        vertical-align: top;\n",
       "    }\n",
       "\n",
       "    .dataframe thead th {\n",
       "        text-align: right;\n",
       "    }\n",
       "</style>\n",
       "<table border=\"1\" class=\"dataframe\">\n",
       "  <thead>\n",
       "    <tr style=\"text-align: right;\">\n",
       "      <th></th>\n",
       "      <th>TransactionId</th>\n",
       "      <th>AccountId</th>\n",
       "      <th>SubscriptionId</th>\n",
       "      <th>CustomerId</th>\n",
       "      <th>Value</th>\n",
       "      <th>FraudResult</th>\n",
       "      <th>ISOWeek</th>\n",
       "      <th>TransactionInBatch</th>\n",
       "      <th>value_amount_diff</th>\n",
       "      <th>TransactionsToDate</th>\n",
       "      <th>...</th>\n",
       "      <th>DayTime_midday</th>\n",
       "      <th>DayTime_morning</th>\n",
       "      <th>DayTime_night</th>\n",
       "      <th>TransactionWeekday_2</th>\n",
       "      <th>TransactionWeekday_3</th>\n",
       "      <th>TransactionWeekday_4</th>\n",
       "      <th>TransactionWeekday_5</th>\n",
       "      <th>TransactionWeekday_6</th>\n",
       "      <th>TransactionWeekday_7</th>\n",
       "      <th>DebitCredit_1</th>\n",
       "    </tr>\n",
       "  </thead>\n",
       "  <tbody>\n",
       "    <tr>\n",
       "      <th>0</th>\n",
       "      <td>76871</td>\n",
       "      <td>3957</td>\n",
       "      <td>887</td>\n",
       "      <td>4406</td>\n",
       "      <td>1000</td>\n",
       "      <td>0</td>\n",
       "      <td>46</td>\n",
       "      <td>1</td>\n",
       "      <td>0.0</td>\n",
       "      <td>0</td>\n",
       "      <td>...</td>\n",
       "      <td>0</td>\n",
       "      <td>0</td>\n",
       "      <td>1</td>\n",
       "      <td>0</td>\n",
       "      <td>0</td>\n",
       "      <td>1</td>\n",
       "      <td>0</td>\n",
       "      <td>0</td>\n",
       "      <td>0</td>\n",
       "      <td>0</td>\n",
       "    </tr>\n",
       "    <tr>\n",
       "      <th>1</th>\n",
       "      <td>73770</td>\n",
       "      <td>4841</td>\n",
       "      <td>3829</td>\n",
       "      <td>4406</td>\n",
       "      <td>20</td>\n",
       "      <td>0</td>\n",
       "      <td>46</td>\n",
       "      <td>1</td>\n",
       "      <td>40.0</td>\n",
       "      <td>0</td>\n",
       "      <td>...</td>\n",
       "      <td>0</td>\n",
       "      <td>0</td>\n",
       "      <td>1</td>\n",
       "      <td>0</td>\n",
       "      <td>0</td>\n",
       "      <td>1</td>\n",
       "      <td>0</td>\n",
       "      <td>0</td>\n",
       "      <td>0</td>\n",
       "      <td>1</td>\n",
       "    </tr>\n",
       "    <tr>\n",
       "      <th>2</th>\n",
       "      <td>26203</td>\n",
       "      <td>4229</td>\n",
       "      <td>222</td>\n",
       "      <td>4683</td>\n",
       "      <td>500</td>\n",
       "      <td>0</td>\n",
       "      <td>46</td>\n",
       "      <td>1</td>\n",
       "      <td>0.0</td>\n",
       "      <td>0</td>\n",
       "      <td>...</td>\n",
       "      <td>0</td>\n",
       "      <td>0</td>\n",
       "      <td>1</td>\n",
       "      <td>0</td>\n",
       "      <td>0</td>\n",
       "      <td>1</td>\n",
       "      <td>0</td>\n",
       "      <td>0</td>\n",
       "      <td>0</td>\n",
       "      <td>0</td>\n",
       "    </tr>\n",
       "    <tr>\n",
       "      <th>3</th>\n",
       "      <td>380</td>\n",
       "      <td>648</td>\n",
       "      <td>2185</td>\n",
       "      <td>988</td>\n",
       "      <td>21800</td>\n",
       "      <td>0</td>\n",
       "      <td>46</td>\n",
       "      <td>1</td>\n",
       "      <td>1800.0</td>\n",
       "      <td>0</td>\n",
       "      <td>...</td>\n",
       "      <td>0</td>\n",
       "      <td>0</td>\n",
       "      <td>1</td>\n",
       "      <td>0</td>\n",
       "      <td>0</td>\n",
       "      <td>1</td>\n",
       "      <td>0</td>\n",
       "      <td>0</td>\n",
       "      <td>0</td>\n",
       "      <td>0</td>\n",
       "    </tr>\n",
       "    <tr>\n",
       "      <th>4</th>\n",
       "      <td>28195</td>\n",
       "      <td>4841</td>\n",
       "      <td>3829</td>\n",
       "      <td>988</td>\n",
       "      <td>644</td>\n",
       "      <td>0</td>\n",
       "      <td>46</td>\n",
       "      <td>1</td>\n",
       "      <td>1288.0</td>\n",
       "      <td>1</td>\n",
       "      <td>...</td>\n",
       "      <td>0</td>\n",
       "      <td>0</td>\n",
       "      <td>1</td>\n",
       "      <td>0</td>\n",
       "      <td>0</td>\n",
       "      <td>1</td>\n",
       "      <td>0</td>\n",
       "      <td>0</td>\n",
       "      <td>0</td>\n",
       "      <td>1</td>\n",
       "    </tr>\n",
       "  </tbody>\n",
       "</table>\n",
       "<p>5 rows × 63 columns</p>\n",
       "</div>"
      ],
      "text/plain": [
       "   TransactionId  AccountId  SubscriptionId  CustomerId  Value  FraudResult  \\\n",
       "0          76871       3957             887        4406   1000            0   \n",
       "1          73770       4841            3829        4406     20            0   \n",
       "2          26203       4229             222        4683    500            0   \n",
       "3            380        648            2185         988  21800            0   \n",
       "4          28195       4841            3829         988    644            0   \n",
       "\n",
       "   ISOWeek  TransactionInBatch  value_amount_diff  TransactionsToDate  ...  \\\n",
       "0       46                   1                0.0                   0  ...   \n",
       "1       46                   1               40.0                   0  ...   \n",
       "2       46                   1                0.0                   0  ...   \n",
       "3       46                   1             1800.0                   0  ...   \n",
       "4       46                   1             1288.0                   1  ...   \n",
       "\n",
       "   DayTime_midday  DayTime_morning  DayTime_night  TransactionWeekday_2  \\\n",
       "0               0                0              1                     0   \n",
       "1               0                0              1                     0   \n",
       "2               0                0              1                     0   \n",
       "3               0                0              1                     0   \n",
       "4               0                0              1                     0   \n",
       "\n",
       "   TransactionWeekday_3  TransactionWeekday_4  TransactionWeekday_5  \\\n",
       "0                     0                     1                     0   \n",
       "1                     0                     1                     0   \n",
       "2                     0                     1                     0   \n",
       "3                     0                     1                     0   \n",
       "4                     0                     1                     0   \n",
       "\n",
       "   TransactionWeekday_6  TransactionWeekday_7  DebitCredit_1  \n",
       "0                     0                     0              0  \n",
       "1                     0                     0              1  \n",
       "2                     0                     0              0  \n",
       "3                     0                     0              0  \n",
       "4                     0                     0              1  \n",
       "\n",
       "[5 rows x 63 columns]"
      ]
     },
     "execution_count": 43,
     "metadata": {},
     "output_type": "execute_result"
    }
   ],
   "source": [
    "df.head()"
   ]
  },
  {
   "cell_type": "markdown",
   "id": "ff608248-c28b-4282-88e8-bd536e835855",
   "metadata": {},
   "source": [
    "### Splitting the data"
   ]
  },
  {
   "cell_type": "code",
   "execution_count": 76,
   "id": "d8721e2c-52a8-43a2-8f62-bc5d909d89ef",
   "metadata": {},
   "outputs": [],
   "source": [
    "#separate predictor variables\n",
    "X = df.drop('FraudResult', axis =1)\n",
    "\n",
    "# separate target variable\n",
    "y = df['FraudResult']\n"
   ]
  },
  {
   "cell_type": "code",
   "execution_count": 77,
   "id": "9d92352e-3e5a-40e5-b4d5-754e157ce957",
   "metadata": {},
   "outputs": [],
   "source": [
    "# splitting the data\n",
    "X_train, X_test, y_train, y_test = train_test_split(X, y, test_size = 0.2, random_state = RSEED)"
   ]
  },
  {
   "cell_type": "markdown",
   "id": "a30f8091-45ae-49bd-846b-3ad8e35c076a",
   "metadata": {
    "tags": []
   },
   "source": [
    "### Data Balance - Oversampling\n",
    "\n",
    "*Usefull links*:\n",
    "- [SMOTE](https://imbalanced-learn.org/stable/over_sampling.html)\n",
    "- [Handling Imbalanced Data Sets, Medium](https://medium.com/coinmonks/handling-imbalanced-datasets-predicting-credit-card-fraud-544f5e74e0fd)\n",
    "- [Dealing with imbalanced Data, towardsdatascience](https://towardsdatascience.com/methods-for-dealing-with-imbalanced-data-5b761be45a18)"
   ]
  },
  {
   "cell_type": "code",
   "execution_count": 78,
   "id": "e36daf1c-c1bc-4735-aa08-a6fc9b89e305",
   "metadata": {},
   "outputs": [],
   "source": [
    "# apply resampling ONLY to train data\n",
    "X_train_res, y_train_res = SMOTE().fit_resample(X_train, y_train)"
   ]
  },
  {
   "cell_type": "code",
   "execution_count": 47,
   "id": "192b3600-6e9f-4da4-88f0-d1d3683a2ede",
   "metadata": {},
   "outputs": [
    {
     "data": {
      "text/plain": [
       "0         0\n",
       "1         0\n",
       "2         0\n",
       "3         0\n",
       "4         0\n",
       "         ..\n",
       "152741    1\n",
       "152742    1\n",
       "152743    1\n",
       "152744    1\n",
       "152745    1\n",
       "Name: FraudResult, Length: 152746, dtype: int64"
      ]
     },
     "execution_count": 47,
     "metadata": {},
     "output_type": "execute_result"
    }
   ],
   "source": [
    "y_train_res"
   ]
  },
  {
   "cell_type": "code",
   "execution_count": 79,
   "id": "698a09f9-700e-4500-afe8-78f6af487351",
   "metadata": {},
   "outputs": [],
   "source": [
    "scaler = StandardScaler()\n",
    "\n",
    "#standardization of train set (fit_transform)\n",
    "X_train_res_stand = scaler.fit_transform(X_train_res)\n",
    "\n",
    "#change array to dataframe\n",
    "scaled_df_train_resampled = pd.DataFrame(X_train_res_stand)\n",
    "scaled_df_train_resampled.columns = X_train.columns\n",
    "\n",
    "#standardization of test set (transform)\n",
    "X_test_stand = scaler.transform(X_test)\n",
    "\n",
    "#change array to dataframe\n",
    "scaled_df_test = pd.DataFrame(X_test_stand)\n",
    "scaled_df_test.columns = X_test.columns"
   ]
  },
  {
   "cell_type": "code",
   "execution_count": 49,
   "id": "82b2395c-fc6d-4415-ad8c-bb1556007cd9",
   "metadata": {},
   "outputs": [],
   "source": [
    "#scaled_df_resampled"
   ]
  },
  {
   "cell_type": "markdown",
   "id": "ccb02fbd-485d-46ba-acb4-cc731940694d",
   "metadata": {},
   "source": [
    "---\n",
    "\n",
    "## Base Line Model\n",
    "\n",
    "The following code for the classifier comparison was taken from [Machine Learning Mastery](https://machinelearningmastery.com/naive-classifiers-imbalanced-classification-metrics/)."
   ]
  },
  {
   "cell_type": "code",
   "execution_count": 80,
   "id": "296a09f6-50c5-40fa-93a1-9ae08820c8d5",
   "metadata": {},
   "outputs": [
    {
     "name": "stdout",
     "output_type": "stream",
     "text": [
      ">Uniform 0.500 (0.005)\n",
      ">Stratified 0.500 (0.004)\n",
      ">Majority 0.200 (0.305)\n",
      ">Minority 0.667 (0.000)\n",
      ">Prior 0.200 (0.305)\n"
     ]
    },
    {
     "data": {
      "image/png": "[encoded data removed]",
      "text/plain": [
       "<Figure size 432x288 with 1 Axes>"
      ]
     },
     "metadata": {
      "needs_background": "light"
     },
     "output_type": "display_data"
    }
   ],
   "source": [
    "# compare naive classifiers with f1-measure\n",
    "from numpy import mean\n",
    "from numpy import std\n",
    "from sklearn.datasets import make_classification\n",
    "from sklearn.model_selection import cross_val_score\n",
    "from sklearn.model_selection import RepeatedStratifiedKFold\n",
    "from sklearn.dummy import DummyClassifier\n",
    "from matplotlib import pyplot\n",
    "\n",
    "# evaluate a model\n",
    "def evaluate_model(X, y, model):\n",
    "\t# define evaluation procedure\n",
    "\tcv = RepeatedStratifiedKFold(n_splits=10, n_repeats=3, random_state=1)\n",
    "\t# evaluate model\n",
    "\tscores = cross_val_score(model, X, y, scoring='f1', cv=cv, n_jobs=-1)\n",
    "\treturn scores\n",
    "\n",
    "# define models to test\n",
    "def get_models():\n",
    "\tmodels, names = list(), list()\n",
    "\t# Uniformly Random Guess\n",
    "\tmodels.append(DummyClassifier(strategy='uniform'))\n",
    "\tnames.append('Uniform')\n",
    "\t# Prior Random Guess\n",
    "\tmodels.append(DummyClassifier(strategy='stratified'))\n",
    "\tnames.append('Stratified')\n",
    "\t# Majority Class: Predict 0\n",
    "\tmodels.append(DummyClassifier(strategy='most_frequent'))\n",
    "\tnames.append('Majority')\n",
    "\t# Minority Class: Predict 1\n",
    "\tmodels.append(DummyClassifier(strategy='constant', constant=1))\n",
    "\tnames.append('Minority')\n",
    "\t# Class Prior\n",
    "\tmodels.append(DummyClassifier(strategy='prior'))\n",
    "\tnames.append('Prior')\n",
    "\treturn models, names\n",
    "\n",
    "# define dataset\n",
    "\"\"\"\n",
    "X, y = make_classification(n_samples=10000, n_features=2, n_redundant=0,\n",
    "\tn_clusters_per_class=1, weights=[0.99], flip_y=0, random_state=4)\n",
    "\"\"\"\n",
    "# define models\n",
    "models, names = get_models()\n",
    "results = list()\n",
    "# evaluate each model\n",
    "for i in range(len(models)):\n",
    "\t# evaluate the model and store results\n",
    "\tscores = evaluate_model(scaled_df_train_resampled, y_train_res, models[i])\n",
    "\tresults.append(scores)\n",
    "\t# summarize and store\n",
    "\tprint('>%s %.3f (%.3f)' % (names[i], mean(scores), std(scores)))\n",
    "# plot the results\n",
    "pyplot.boxplot(results, labels=names, showmeans=True)\n",
    "pyplot.show()"
   ]
  },
  {
   "cell_type": "markdown",
   "id": "ab31a9cf-8050-49f7-bd23-8f6289503a2d",
   "metadata": {},
   "source": [
    "### Results:\n",
    "\n",
    "The 'Minority' `DummyClassifier` seems to deliver the best result (0.667) for a naive classifier with regards to the f1 score metric which is our goal."
   ]
  },
  {
   "cell_type": "code",
   "execution_count": 81,
   "id": "6e41c116-d51a-4896-bab9-0ca256204302",
   "metadata": {},
   "outputs": [],
   "source": [
    "dummy_clf = DummyClassifier(strategy=\"constant\", constant=1)\n",
    "dummy_clf.fit(scaled_df_train_resampled, y_train_res)\n",
    "\n",
    "y_dummy_pred = dummy_clf.predict(scaled_df_train_resampled)"
   ]
  },
  {
   "cell_type": "code",
   "execution_count": 82,
   "id": "20f7a1ed-bcd1-4664-8e67-dc34ea4b35ff",
   "metadata": {},
   "outputs": [
    {
     "name": "stdout",
     "output_type": "stream",
     "text": [
      "------------------------------------------------------------\n",
      "              precision    recall  f1-score   support\n",
      "\n",
      "           0       0.00      0.00      0.00     76373\n",
      "           1       0.50      1.00      0.67     76373\n",
      "\n",
      "    accuracy                           0.50    152746\n",
      "   macro avg       0.25      0.50      0.33    152746\n",
      "weighted avg       0.25      0.50      0.33    152746\n",
      "\n",
      "------------------------------------------------------------\n",
      "F1-score: 0.6666666666666666\n",
      "------------------------------------------------------------\n"
     ]
    },
    {
     "name": "stderr",
     "output_type": "stream",
     "text": [
      "/Users/fabioteichmann/neuefische/projects/ds-ml-project/.venv/lib/python3.9/site-packages/sklearn/metrics/_classification.py:1318: UndefinedMetricWarning: Precision and F-score are ill-defined and being set to 0.0 in labels with no predicted samples. Use `zero_division` parameter to control this behavior.\n",
      "  _warn_prf(average, modifier, msg_start, len(result))\n",
      "/Users/fabioteichmann/neuefische/projects/ds-ml-project/.venv/lib/python3.9/site-packages/sklearn/metrics/_classification.py:1318: UndefinedMetricWarning: Precision and F-score are ill-defined and being set to 0.0 in labels with no predicted samples. Use `zero_division` parameter to control this behavior.\n",
      "  _warn_prf(average, modifier, msg_start, len(result))\n",
      "/Users/fabioteichmann/neuefische/projects/ds-ml-project/.venv/lib/python3.9/site-packages/sklearn/metrics/_classification.py:1318: UndefinedMetricWarning: Precision and F-score are ill-defined and being set to 0.0 in labels with no predicted samples. Use `zero_division` parameter to control this behavior.\n",
      "  _warn_prf(average, modifier, msg_start, len(result))\n"
     ]
    }
   ],
   "source": [
    "print(\"------\"*10)\n",
    "print(classification_report(y_train_res, y_dummy_pred))\n",
    "print(\"------\"*10)\n",
    "\n",
    "# F1-score on test set\n",
    "print(\"F1-score:\", f1_score(y_train_res, y_dummy_pred, average='binary'))\n",
    "print(\"------\"*10)\n",
    "\n",
    "f1_baseline = f1_score(y_train_res, y_dummy_pred, average='binary')"
   ]
  },
  {
   "cell_type": "markdown",
   "id": "9f7ee686-63ff-424c-a4fc-0cb9c623fddf",
   "metadata": {},
   "source": [
    "## Modelling\n",
    "\n",
    "### First Models\n",
    "\n",
    "1. SVM ==> Daniela\n",
    "2. LogReg ==> Kai Yang\n",
    "\n",
    "### Advanced Models\n",
    "\n",
    "1. Random Forest ==> Fabio\n",
    "2. AdaBoost ==> \n",
    "3. Stacking ==> "
   ]
  },
  {
   "cell_type": "code",
   "execution_count": 53,
   "id": "b6c37fd8-d746-4766-b898-7e55072e6232",
   "metadata": {},
   "outputs": [],
   "source": [
    "# save TRAIN sets\n",
    "scaled_df_train_resampled.to_csv('data/x-train.csv', index=False)\n",
    "y_train_res.to_csv('data/y-train.csv', index=False)\n",
    "\n",
    "# save TEST sets\n",
    "scaled_df_test.to_csv('data/x-test.csv', index=False)\n",
    "y_test.to_csv('data/y-test.csv', index=False)"
   ]
  },
  {
   "cell_type": "code",
   "execution_count": null,
   "id": "3f17179a-55f0-4acf-a938-9b79bde2f9da",
   "metadata": {},
   "outputs": [],
   "source": []
  },
  {
   "cell_type": "code",
   "execution_count": 54,
   "id": "3419a6f2-4539-4274-a33c-bbf723939fdd",
   "metadata": {},
   "outputs": [],
   "source": [
    "from sklearn.tree import DecisionTreeClassifier\n",
    "from sklearn.ensemble import RandomForestClassifier\n",
    "from sklearn.metrics import precision_score, recall_score, roc_auc_score, roc_curve\n",
    "from sklearn.metrics import confusion_matrix"
   ]
  },
  {
   "cell_type": "code",
   "execution_count": 55,
   "id": "25496154-f4f8-4c36-881d-2d1063337081",
   "metadata": {},
   "outputs": [],
   "source": [
    "# Random Forest =================================\n",
    "# Make a decision tree and train\n",
    "tree = DecisionTreeClassifier(max_depth= None, random_state=RSEED)\n",
    "tree.fit(scaled_df_train_resampled, y_train_res)\n",
    "\n",
    "y_tree_pred = tree.predict(scaled_df_test)"
   ]
  },
  {
   "cell_type": "code",
   "execution_count": 56,
   "id": "57d83421-a776-4940-abab-6fbd9ba1ab9c",
   "metadata": {},
   "outputs": [
    {
     "data": {
      "text/plain": [
       "(19133,)"
      ]
     },
     "execution_count": 56,
     "metadata": {},
     "output_type": "execute_result"
    }
   ],
   "source": [
    "y_tree_pred.shape"
   ]
  },
  {
   "cell_type": "code",
   "execution_count": 57,
   "id": "32540338-1de3-461a-a6f5-04c07817f4f7",
   "metadata": {},
   "outputs": [
    {
     "data": {
      "text/plain": [
       "(19133,)"
      ]
     },
     "execution_count": 57,
     "metadata": {},
     "output_type": "execute_result"
    }
   ],
   "source": [
    "y_test.shape"
   ]
  },
  {
   "cell_type": "code",
   "execution_count": 58,
   "id": "84b62fa0-303c-41ec-8b98-18fcb7862f6f",
   "metadata": {},
   "outputs": [
    {
     "name": "stdout",
     "output_type": "stream",
     "text": [
      "Decision tree has 257 nodes with maximum depth 22.\n",
      "Model Accuracy: 1.0\n",
      "Model F1-Score: 0.8157894736842105\n"
     ]
    }
   ],
   "source": [
    "print(f'Decision tree has {tree.tree_.node_count} nodes with maximum depth {tree.tree_.max_depth}.')\n",
    "print(f'Model Accuracy: {tree.score(scaled_df_train_resampled, y_train_res)}')\n",
    "print(f'Model F1-Score: {f1_score(y_test, y_tree_pred, average=\"binary\")}')\n"
   ]
  },
  {
   "cell_type": "markdown",
   "id": "be4251b2-7c17-40fe-9122-712c81b65450",
   "metadata": {},
   "source": [
    "---\n",
    "\n",
    "#### Random Forest"
   ]
  },
  {
   "cell_type": "code",
   "execution_count": 59,
   "id": "e131867d-a771-4fa9-b439-feafa3c974ba",
   "metadata": {},
   "outputs": [
    {
     "name": "stderr",
     "output_type": "stream",
     "text": [
      "[Parallel(n_jobs=-1)]: Using backend ThreadingBackend with 8 concurrent workers.\n",
      "[Parallel(n_jobs=-1)]: Done  34 tasks      | elapsed:    0.6s\n",
      "[Parallel(n_jobs=-1)]: Done 184 tasks      | elapsed:    3.1s\n",
      "[Parallel(n_jobs=-1)]: Done 434 tasks      | elapsed:    7.2s\n",
      "[Parallel(n_jobs=-1)]: Done 784 tasks      | elapsed:   13.3s\n",
      "[Parallel(n_jobs=-1)]: Done 1000 out of 1000 | elapsed:   16.8s finished\n",
      "[Parallel(n_jobs=8)]: Using backend ThreadingBackend with 8 concurrent workers.\n",
      "[Parallel(n_jobs=8)]: Done  34 tasks      | elapsed:    0.0s\n",
      "[Parallel(n_jobs=8)]: Done 184 tasks      | elapsed:    0.0s\n",
      "[Parallel(n_jobs=8)]: Done 434 tasks      | elapsed:    0.1s\n",
      "[Parallel(n_jobs=8)]: Done 784 tasks      | elapsed:    0.2s\n",
      "[Parallel(n_jobs=8)]: Done 1000 out of 1000 | elapsed:    0.2s finished\n"
     ]
    }
   ],
   "source": [
    "# optimal params: n_estimators=1000, criterion=entropy, max_features=sqrt\n",
    "model = RandomForestClassifier(n_estimators=1000, \n",
    "                               random_state=RSEED, \n",
    "                               criterion = 'entropy',\n",
    "                               max_features = 'sqrt',\n",
    "                               max_depth = None,\n",
    "                               n_jobs=-1, verbose = 1)\n",
    "\n",
    "# Fit on training data\n",
    "model.fit(scaled_df_train_resampled, y_train_res)\n",
    "y_rf_pred = model.predict(scaled_df_test)"
   ]
  },
  {
   "cell_type": "code",
   "execution_count": 60,
   "id": "889aff3e-36f7-4c89-aa0f-5b628fce9c0d",
   "metadata": {},
   "outputs": [
    {
     "name": "stdout",
     "output_type": "stream",
     "text": [
      "------------------------------------------------------------\n",
      "              precision    recall  f1-score   support\n",
      "\n",
      "           0       1.00      1.00      1.00     19096\n",
      "           1       0.86      0.97      0.91        37\n",
      "\n",
      "    accuracy                           1.00     19133\n",
      "   macro avg       0.93      0.99      0.96     19133\n",
      "weighted avg       1.00      1.00      1.00     19133\n",
      "\n",
      "------------------------------------------------------------\n",
      "Model F1-Score: 0.9113924050632912\n",
      "------------------------------------------------------------\n",
      "Confusion Matrix: \n",
      " [[19090     6]\n",
      " [    1    36]]\n"
     ]
    }
   ],
   "source": [
    "print(\"------\"*10)\n",
    "print(classification_report(y_test, y_rf_pred))\n",
    "print(\"------\"*10)\n",
    "\n",
    "# F1-score on test set\n",
    "print(f'Model F1-Score: {f1_score(y_test, y_rf_pred, average=\"binary\")}')\n",
    "print(\"------\"*10)\n",
    "print(\"Confusion Matrix: \\n\", \n",
    "        confusion_matrix(y_test, y_rf_pred))"
   ]
  },
  {
   "cell_type": "markdown",
   "id": "50269299-1cbb-45d1-9f54-af810e698c71",
   "metadata": {},
   "source": [
    "---\n",
    "\n",
    "### Feature Importance (Random Forest)"
   ]
  },
  {
   "cell_type": "code",
   "execution_count": 99,
   "id": "33d2925f-19b8-43c0-b950-d4f9acb31d74",
   "metadata": {},
   "outputs": [
    {
     "data": {
      "text/plain": [
       "array([4.01312475e-03, 3.61758842e-02, 1.52619860e-02, 1.46763524e-02,\n",
       "       3.03807626e-01, 1.82933014e-02, 5.88196487e-04, 1.25581233e-02,\n",
       "       2.39375222e-02, 2.46985030e-01, 4.03070618e-06, 3.17662409e-03,\n",
       "       2.24541526e-02, 1.05151901e-02, 6.13343116e-02, 6.96211048e-06,\n",
       "       2.10317300e-02, 7.57694393e-04, 3.29463862e-05, 2.09929519e-02,\n",
       "       1.94127308e-04, 1.26626604e-05, 9.65474720e-06, 1.17601587e-02,\n",
       "       1.38360363e-04, 0.00000000e+00, 4.70523122e-05, 3.08042240e-04,\n",
       "       4.53614826e-02, 1.38031374e-08, 8.51180468e-05, 4.58895817e-04,\n",
       "       5.51602170e-04, 1.56924031e-05, 6.96587319e-09, 2.52594991e-05,\n",
       "       4.28618532e-07, 2.35771587e-04, 1.78839590e-02, 2.62610699e-05,\n",
       "       0.00000000e+00, 5.63900938e-04, 3.41808191e-05, 4.89582752e-04,\n",
       "       5.73955589e-04, 1.57802963e-02, 1.01388264e-02, 1.22569156e-04,\n",
       "       1.74387459e-03, 9.21371689e-03, 1.09402559e-02, 2.01694217e-03,\n",
       "       3.62597219e-03, 6.89345431e-03, 7.29593862e-04, 2.12097054e-03,\n",
       "       1.57033621e-03, 1.26536170e-03, 1.30250109e-02, 2.58732702e-03,\n",
       "       2.60884844e-03, 2.02367330e-02])"
      ]
     },
     "execution_count": 99,
     "metadata": {},
     "output_type": "execute_result"
    }
   ],
   "source": [
    "np.transpose(np.asarray(model.feature_importances_))"
   ]
  },
  {
   "cell_type": "code",
   "execution_count": 101,
   "id": "745fbff4-2c56-474b-ad80-8ae7e61add0b",
   "metadata": {},
   "outputs": [
    {
     "name": "stdout",
     "output_type": "stream",
     "text": [
      "[0.   0.04 0.02 0.01 0.3  0.02 0.   0.01 0.02 0.25 0.   0.   0.02 0.01\n",
      " 0.06 0.   0.02 0.   0.   0.02 0.   0.   0.   0.01 0.   0.   0.   0.\n",
      " 0.05 0.   0.   0.   0.   0.   0.   0.   0.   0.   0.02 0.   0.   0.\n",
      " 0.   0.   0.   0.02 0.01 0.   0.   0.01 0.01 0.   0.   0.01 0.   0.\n",
      " 0.   0.   0.01 0.   0.   0.02]\n",
      "['TransactionId' 'AccountId' 'SubscriptionId' 'CustomerId' 'Value'\n",
      " 'ISOWeek' 'TransactionInBatch' 'value_amount_diff' 'TransactionsToDate'\n",
      " 'ValueLog' 'ProviderId_2' 'ProviderId_3' 'ProviderId_4' 'ProviderId_5'\n",
      " 'ProviderId_6' 'ProductId_2' 'ProductId_3' 'ProductId_4' 'ProductId_5'\n",
      " 'ProductId_6' 'ProductId_7' 'ProductId_8' 'ProductId_9' 'ProductId_10'\n",
      " 'ProductId_11' 'ProductId_12' 'ProductId_13' 'ProductId_14'\n",
      " 'ProductId_15' 'ProductId_16' 'ProductId_19' 'ProductId_20'\n",
      " 'ProductId_21' 'ProductId_22' 'ProductId_23' 'ProductId_24'\n",
      " 'ProductId_27' 'ProductCategory_data_bundles'\n",
      " 'ProductCategory_financial_services' 'ProductCategory_movies'\n",
      " 'ProductCategory_other' 'ProductCategory_ticket'\n",
      " 'ProductCategory_transport' 'ProductCategory_tv'\n",
      " 'ProductCategory_utility_bill' 'ChannelId_2' 'ChannelId_3' 'ChannelId_5'\n",
      " 'PricingStrategy_1' 'PricingStrategy_2' 'PricingStrategy_4'\n",
      " 'DayTime_evening' 'DayTime_midday' 'DayTime_morning' 'DayTime_night'\n",
      " 'TransactionWeekday_2' 'TransactionWeekday_3' 'TransactionWeekday_4'\n",
      " 'TransactionWeekday_5' 'TransactionWeekday_6' 'TransactionWeekday_7'\n",
      " 'DebitCredit_1']\n"
     ]
    }
   ],
   "source": [
    "x=np.asarray(model.feature_importances_)\n",
    "print(np.array_str(x, precision=2, suppress_small=True))\n",
    "print(model.feature_names_in_)\n",
    "df_feat = pd.DataFrame(x, columns= ['Importance'],index=model.feature_names_in_)"
   ]
  },
  {
   "cell_type": "code",
   "execution_count": 102,
   "id": "0ecba409-e0e7-4114-9a96-81d6890a75db",
   "metadata": {},
   "outputs": [
    {
     "data": {
      "text/html": [
       "<div>\n",
       "<style scoped>\n",
       "    .dataframe tbody tr th:only-of-type {\n",
       "        vertical-align: middle;\n",
       "    }\n",
       "\n",
       "    .dataframe tbody tr th {\n",
       "        vertical-align: top;\n",
       "    }\n",
       "\n",
       "    .dataframe thead th {\n",
       "        text-align: right;\n",
       "    }\n",
       "</style>\n",
       "<table border=\"1\" class=\"dataframe\">\n",
       "  <thead>\n",
       "    <tr style=\"text-align: right;\">\n",
       "      <th></th>\n",
       "      <th>Importance</th>\n",
       "    </tr>\n",
       "  </thead>\n",
       "  <tbody>\n",
       "    <tr>\n",
       "      <th>TransactionId</th>\n",
       "      <td>0.004013</td>\n",
       "    </tr>\n",
       "    <tr>\n",
       "      <th>AccountId</th>\n",
       "      <td>0.036176</td>\n",
       "    </tr>\n",
       "    <tr>\n",
       "      <th>SubscriptionId</th>\n",
       "      <td>0.015262</td>\n",
       "    </tr>\n",
       "    <tr>\n",
       "      <th>CustomerId</th>\n",
       "      <td>0.014676</td>\n",
       "    </tr>\n",
       "    <tr>\n",
       "      <th>Value</th>\n",
       "      <td>0.303808</td>\n",
       "    </tr>\n",
       "    <tr>\n",
       "      <th>...</th>\n",
       "      <td>...</td>\n",
       "    </tr>\n",
       "    <tr>\n",
       "      <th>TransactionWeekday_4</th>\n",
       "      <td>0.001265</td>\n",
       "    </tr>\n",
       "    <tr>\n",
       "      <th>TransactionWeekday_5</th>\n",
       "      <td>0.013025</td>\n",
       "    </tr>\n",
       "    <tr>\n",
       "      <th>TransactionWeekday_6</th>\n",
       "      <td>0.002587</td>\n",
       "    </tr>\n",
       "    <tr>\n",
       "      <th>TransactionWeekday_7</th>\n",
       "      <td>0.002609</td>\n",
       "    </tr>\n",
       "    <tr>\n",
       "      <th>DebitCredit_1</th>\n",
       "      <td>0.020237</td>\n",
       "    </tr>\n",
       "  </tbody>\n",
       "</table>\n",
       "<p>62 rows × 1 columns</p>\n",
       "</div>"
      ],
      "text/plain": [
       "                      Importance\n",
       "TransactionId           0.004013\n",
       "AccountId               0.036176\n",
       "SubscriptionId          0.015262\n",
       "CustomerId              0.014676\n",
       "Value                   0.303808\n",
       "...                          ...\n",
       "TransactionWeekday_4    0.001265\n",
       "TransactionWeekday_5    0.013025\n",
       "TransactionWeekday_6    0.002587\n",
       "TransactionWeekday_7    0.002609\n",
       "DebitCredit_1           0.020237\n",
       "\n",
       "[62 rows x 1 columns]"
      ]
     },
     "execution_count": 102,
     "metadata": {},
     "output_type": "execute_result"
    }
   ],
   "source": [
    "df_feat"
   ]
  },
  {
   "cell_type": "code",
   "execution_count": 71,
   "id": "8d07bf8d-c07d-494f-9064-8f4adae90523",
   "metadata": {},
   "outputs": [
    {
     "name": "stdout",
     "output_type": "stream",
     "text": [
      "Fitting 5 folds for each of 24 candidates, totalling 120 fits\n"
     ]
    }
   ],
   "source": [
    "# GRID SEARCH ===========================\n",
    "\n",
    "param_grid = {'max_features': ['sqrt'], \n",
    "              'criterion': ['gini', 'entropy'],\n",
    "              'n_estimators': [500,600,700],\n",
    "              'random_state': [10,42,112,13]\n",
    "             }\n",
    "\n",
    "grid       = GridSearchCV(RandomForestClassifier(), param_grid, verbose=True, n_jobs=-1,scoring='f1')\n",
    "model_rf  = grid.fit(scaled_df_train_resampled, y_train_res)\n",
    "y_rf_grid_pred = model_rf.predict(scaled_df_test)"
   ]
  },
  {
   "cell_type": "code",
   "execution_count": 72,
   "id": "f2595fa3-cf9a-4f2d-a9df-1355c7ccec29",
   "metadata": {},
   "outputs": [
    {
     "name": "stdout",
     "output_type": "stream",
     "text": [
      "------------------------------------------------------------\n",
      "              precision    recall  f1-score   support\n",
      "\n",
      "           0       1.00      1.00      1.00     19096\n",
      "           1       0.88      0.97      0.92        37\n",
      "\n",
      "    accuracy                           1.00     19133\n",
      "   macro avg       0.94      0.99      0.96     19133\n",
      "weighted avg       1.00      1.00      1.00     19133\n",
      "\n",
      "------------------------------------------------------------\n",
      "Model F1-Score: 0.923076923076923\n",
      "------------------------------------------------------------\n",
      "Model Matthew Corr: 0.9241411579910072\n",
      "------------------------------------------------------------\n",
      "Confusion Matrix: \n",
      " [[19091     5]\n",
      " [    1    36]]\n"
     ]
    }
   ],
   "source": [
    "print(\"------\"*10)\n",
    "print(classification_report(y_test, y_rf_grid_pred))\n",
    "print(\"------\"*10)\n",
    "\n",
    "# F1-score on test set \n",
    "print(f'Model F1-Score: {f1_score(y_test, y_rf_grid_pred, average=\"binary\")}')\n",
    "print(\"------\"*10)\n",
    "print(f'Model Matthew Corr: {matthews_corrcoef(y_test, y_rf_grid_pred)}')\n",
    "print(\"------\"*10)\n",
    "print(\"Confusion Matrix: \\n\", \n",
    "        confusion_matrix(y_test, y_rf_grid_pred))"
   ]
  },
  {
   "cell_type": "code",
   "execution_count": 73,
   "id": "30b10fac-1d4d-4ea3-8976-b007fa5b9b72",
   "metadata": {},
   "outputs": [
    {
     "data": {
      "text/plain": [
       "{'criterion': 'entropy',\n",
       " 'max_features': 'sqrt',\n",
       " 'n_estimators': 500,\n",
       " 'random_state': 42}"
      ]
     },
     "execution_count": 73,
     "metadata": {},
     "output_type": "execute_result"
    }
   ],
   "source": [
    "model_rf.best_params_"
   ]
  },
  {
   "cell_type": "code",
   "execution_count": null,
   "id": "8e4c6578-35da-4b03-ae9e-2ee2c9b4ea12",
   "metadata": {},
   "outputs": [],
   "source": []
  },
  {
   "cell_type": "code",
   "execution_count": null,
   "id": "2f384835-357c-4b25-87c9-a72bf2864dc0",
   "metadata": {},
   "outputs": [],
   "source": []
  },
  {
   "cell_type": "code",
   "execution_count": null,
   "id": "a0654901-cd0b-489d-9f2c-c2dfd6da318f",
   "metadata": {},
   "outputs": [],
   "source": [
    "y_train_rf_pred = model.predict(scaled_df_train_resampled)\n",
    "train_rf_probs = model.predict_proba(scaled_df_train_resampled)[:, 1]\n",
    "\n",
    "y_rf_pred = model.predict(scaled_df_test)\n",
    "rf_probs = model.predict_proba(scaled_df_test)[:, 1]\n",
    "evaluate_model(y_rf_pred, rf_probs, y_train_rf_pred, train_rf_probs)"
   ]
  },
  {
   "cell_type": "code",
   "execution_count": null,
   "id": "af0a114a-bcf7-4ff0-bd91-61307529b269",
   "metadata": {},
   "outputs": [],
   "source": [
    "def evaluate_model(predictions, probs, train_predictions, train_probs):\n",
    "    \"\"\"Compare machine learning model to baseline performance.\n",
    "    Computes statistics and shows ROC curve.\"\"\"\n",
    "    \n",
    "    baseline = {}\n",
    "    \n",
    "    baseline['recall'] = recall_score(y_test, [1 for _ in range(len(y_test))])\n",
    "    baseline['precision'] = precision_score(y_test, [1 for _ in range(len(y_test))])\n",
    "    baseline['roc'] = 0.5\n",
    "    \n",
    "    results = {}\n",
    "    \n",
    "    results['recall'] = recall_score(y_test, predictions)\n",
    "    results['precision'] = precision_score(y_test, predictions)\n",
    "    results['roc'] = roc_auc_score(y_test, probs)\n",
    "    \n",
    "    train_results = {}\n",
    "    train_results['recall'] = recall_score(y_train_res, train_predictions)\n",
    "    train_results['precision'] = precision_score(y_train_res, train_predictions)\n",
    "    train_results['roc'] = roc_auc_score(y_train_res, train_probs)\n",
    "    \n",
    "    for metric in ['recall', 'precision', 'roc']:\n",
    "        print(f'{metric.capitalize()} Baseline: {round(baseline[metric], 2)} Test: {round(results[metric], 2)} Train: {round(train_results[metric], 2)}')\n",
    "    \n",
    "    # Calculate false positive rates and true positive rates\n",
    "    base_fpr, base_tpr, _ = roc_curve(y_test, [1 for _ in range(len(y_test))])\n",
    "    model_fpr, model_tpr, _ = roc_curve(y_test, probs)\n",
    "\n",
    "    plt.figure(figsize = (8, 6))\n",
    "    plt.rcParams['font.size'] = 16\n",
    "    \n",
    "    # Plot both curves\n",
    "    plt.plot(base_fpr, base_tpr, 'b', label = 'baseline')\n",
    "    plt.plot(model_fpr, model_tpr, 'r', label = 'model')\n",
    "    plt.legend();\n",
    "    plt.xlabel('False Positive Rate'); plt.ylabel('True Positive Rate'); plt.title('ROC Curves');\n"
   ]
  },
  {
   "cell_type": "code",
   "execution_count": null,
   "id": "64c9424f-4c14-4ec9-bf0f-0954b935cd2c",
   "metadata": {},
   "outputs": [],
   "source": []
  }
 ],
 "metadata": {
  "kernelspec": {
   "display_name": "Python 3 (ipykernel)",
   "language": "python",
   "name": "python3"
  },
  "language_info": {
   "codemirror_mode": {
    "name": "ipython",
    "version": 3
   },
   "file_extension": ".py",
   "mimetype": "text/x-python",
   "name": "python",
   "nbconvert_exporter": "python",
   "pygments_lexer": "ipython3",
   "version": "3.9.4"
  }
 },
 "nbformat": 4,
 "nbformat_minor": 5
}
