{
 "cells": [
  {
   "cell_type": "markdown",
   "id": "025bec02-807d-4e49-bdd1-766d1a74e131",
   "metadata": {},
   "source": [
    "In more detail:\n",
    "\n",
    "A machine learning algorithm tries to learn a function that models the relationship between the input (feature) data and the target variable (or label). When you test it, you will typically measure performance in one way or another. For example, your algorithm may be 75% accurate. But what does this mean? You can infer this meaning by comparing with a baseline's performance.\n",
    "\n",
    "There are perhaps five different naive classification methods that can be used to establish a baseline of performance on a dataset.\n",
    "\n",
    "Explained in the context of an imbalanced two-class (binary) classification problem, the naive classification methods are as follows:\n",
    "Typical baselines include those supported by scikit-learn's \"dummy\" estimators:\n",
    "\n",
    "\n",
    "- “stratified”: generates predictions by respecting the training set’s class distribution.\n",
    "- “most_frequent”: always predicts the most frequent label in the training set.\n",
    "- “prior”: always predicts the class that maximizes the class prior.\n",
    "- “uniform”: generates predictions uniformly at random.\n",
    "- “constant”: always predicts a constant label that is provided by the user.\n",
    "\n",
    "Explained in the context of an imbalanced two-class (binary) classification problem, the naive classification methods are as follows: (also in Dummy Classifier)\n",
    "\n",
    "Uniformly Random Guess: Predict 0 or 1 with equal probability.\n",
    "Prior Random Guess: Predict 0 or 1 proportional to the prior probability in the dataset.\n",
    "Majority Class: Predict 0.\n",
    "Minority Class: Predict 1.\n",
    "Class Prior: Predict the prior probability for each class.\n",
    "\n",
    "Uniformly Random Guess: Set the “strategy” argument to “uniform“.\n",
    "Prior Random Guess: Set the “strategy” argument to “stratified“.\n",
    "Majority Class: Set the “strategy” argument to “most_frequent“.\n",
    "Minority Class: Set the “strategy” argument to “constant” and set the “constant” argument to 1.\n",
    "Class Prior: Set the “strategy” argument to “prior“.\n",
    "\n",
    "https://scikit-learn.org/stable/modules/generated/sklearn.dummy.DummyClassifier.html#sklearn.dummy.DummyClassifier"
   ]
  },
  {
   "cell_type": "markdown",
   "id": "a4955e5e-29da-4f22-aedd-032c29038f0b",
   "metadata": {},
   "source": [
    "https://machinelearningmastery.com/naive-classifiers-imbalanced-classification-metrics/\n",
    "\n",
    "==> ggf.uniform and stratified am besten ==> bsp. code von Website implementieren "
   ]
  },
  {
   "cell_type": "markdown",
   "id": "f7326e42-fc58-4b99-8c88-ce0ae750ac8e",
   "metadata": {},
   "source": [
    "## Random Forest\n",
    "However, the algorithm does not work well for datasets having a lot of outliers, something which needs addressing prior to the model building.\n",
    "Works well with both (cont. and cat.) variables."
   ]
  },
  {
   "cell_type": "markdown",
   "id": "3438bf3b-f20d-4be5-935f-13c0f718ff4d",
   "metadata": {},
   "source": [
    "## Naïve Bayes\n",
    "The model works well with a small training dataset, provided all the classes of the categorical predictor are present.\n",
    "Applicable to categorical predictors only."
   ]
  },
  {
   "cell_type": "markdown",
   "id": "1041ec7d-1e7a-4653-834e-b8dd54c8ad5c",
   "metadata": {
    "tags": []
   },
   "source": [
    "## KNN\n",
    "It is a simple, fairly accurate model preferable mostly for smaller datasets, owing to huge computations involved on the continuous predictors."
   ]
  },
  {
   "cell_type": "markdown",
   "id": "ce0d3f4c-55df-4608-a59e-74900dc9ddda",
   "metadata": {},
   "source": [
    "## Logistic Regression"
   ]
  },
  {
   "cell_type": "markdown",
   "id": "e3d78dca-1df1-4cf3-9189-082c55694342",
   "metadata": {},
   "source": [
    "## SVM"
   ]
  },
  {
   "cell_type": "markdown",
   "id": "6d471be7-ea1f-446a-b1b8-28e0b6852339",
   "metadata": {},
   "source": [
    "https://www.datasklr.com/select-classification-methods/model-selection"
   ]
  }
 ],
 "metadata": {
  "kernelspec": {
   "display_name": "Python 3 (ipykernel)",
   "language": "python",
   "name": "python3"
  },
  "language_info": {
   "codemirror_mode": {
    "name": "ipython",
    "version": 3
   },
   "file_extension": ".py",
   "mimetype": "text/x-python",
   "name": "python",
   "nbconvert_exporter": "python",
   "pygments_lexer": "ipython3",
   "version": "3.9.4"
  }
 },
 "nbformat": 4,
 "nbformat_minor": 5
}
