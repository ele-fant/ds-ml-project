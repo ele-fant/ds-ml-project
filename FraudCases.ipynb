{
 "cells": [
  {
   "cell_type": "markdown",
   "id": "41ee4b69-d109-4d35-a0cc-5ecb7cfc90d3",
   "metadata": {
    "tags": []
   },
   "source": [
    "---\n",
    "\n",
    "## Investigating Fraud Cases"
   ]
  },
  {
   "cell_type": "code",
   "execution_count": null,
   "id": "a98de3bf-a558-47e5-830c-aaedb43cbdfe",
   "metadata": {},
   "outputs": [],
   "source": [
    "import pandas as pd\n",
    "import seaborn as sns\n",
    "import plotly.express as px\n",
    "import matplotlib.pyplot as plt\n",
    "import numpy as np\n",
    "data_train_clean = pd.read_csv(\"data/data_train_clean.csv\")"
   ]
  },
  {
   "cell_type": "code",
   "execution_count": null,
   "id": "99bf4dd4-1beb-4a9d-b21c-f37e6171d9ce",
   "metadata": {},
   "outputs": [],
   "source": [
    "frauds = data_train_clean.query('FraudResult == 1')"
   ]
  },
  {
   "cell_type": "code",
   "execution_count": null,
   "id": "c37e0259-c5f3-4948-9d93-e20a5465391b",
   "metadata": {},
   "outputs": [],
   "source": [
    "frauds.groupby('ProductCategory').count()"
   ]
  },
  {
   "cell_type": "code",
   "execution_count": null,
   "id": "8870bf07-d3ae-4273-a86f-59259212f598",
   "metadata": {},
   "outputs": [],
   "source": [
    "data_train_clean.groupby('ProductCategory').count()"
   ]
  },
  {
   "cell_type": "code",
   "execution_count": null,
   "id": "2e7e27c7-ff14-4ce9-bca5-0e428c6713c3",
   "metadata": {},
   "outputs": [],
   "source": [
    "frauds.groupby(['AccountId', 'CustomerId']).mean()"
   ]
  },
  {
   "cell_type": "code",
   "execution_count": null,
   "id": "b8ac89b7-ff79-4c0c-a356-df9be6e74775",
   "metadata": {},
   "outputs": [],
   "source": [
    "# Erstellen der Heatmap aller Variablen mit Korrelationskoeffizienten\n",
    "\n",
    "plt.figure(figsize = (20,10))\n",
    "corr = frauds.corr()\n",
    "ax = sns.heatmap(\n",
    "    corr, \n",
    "    vmin=-1, vmax=1, center=0,\n",
    "    cmap=sns.diverging_palette(20, 220, n=200),\n",
    "    square=True,\n",
    "    annot=True, \n",
    " #   fmt=\"f\"\n",
    ")\n",
    "ax.set_xticklabels(\n",
    "    ax.get_xticklabels(),\n",
    "    rotation=45,\n",
    "    horizontalalignment='right'\n",
    ");"
   ]
  },
  {
   "cell_type": "code",
   "execution_count": null,
   "id": "c0ae9dc5-d5f7-4179-a301-5cfe3e26e42e",
   "metadata": {},
   "outputs": [],
   "source": [
    "sns.pairplot(frauds)"
   ]
  },
  {
   "cell_type": "code",
   "execution_count": null,
   "id": "d1482e28-99a0-4759-8438-bb9f04424177",
   "metadata": {},
   "outputs": [],
   "source": [
    "g = sns.catplot(data=frauds, x=\"PricingStrategy\", y=\"Value\",hue=\"DebitCredit\",kind=\"swarm\")"
   ]
  },
  {
   "cell_type": "code",
   "execution_count": null,
   "id": "45e19a09-d53f-444c-8b1a-efa81359aa8f",
   "metadata": {},
   "outputs": [],
   "source": [
    "g = sns.catplot(data=frauds, x=\"TransactionWeekday\", y=\"Value\",hue=\"DebitCredit\",kind=\"swarm\")"
   ]
  },
  {
   "cell_type": "code",
   "execution_count": null,
   "id": "6f1f6e2c-e526-4ec6-bfc3-e9b9814d7c91",
   "metadata": {},
   "outputs": [],
   "source": [
    "g = sns.catplot(data=frauds, x=\"ProductId\", y=\"Value\",hue=\"DebitCredit\",kind=\"swarm\")"
   ]
  },
  {
   "cell_type": "code",
   "execution_count": null,
   "id": "8f8ddfdd-2f3e-47c7-b90e-668578684ee2",
   "metadata": {},
   "outputs": [],
   "source": [
    "g = sns.catplot(data=frauds, x=\"ChannelId\", y=\"Value\",hue=\"DebitCredit\",kind=\"swarm\")"
   ]
  },
  {
   "cell_type": "code",
   "execution_count": null,
   "id": "f1df908a-7d7d-4218-adc2-b0552722bfd2",
   "metadata": {},
   "outputs": [],
   "source": [
    "frauds.query('ChannelId == 2')"
   ]
  },
  {
   "cell_type": "code",
   "execution_count": null,
   "id": "0b33c5af-63e0-4bf9-8fbb-ea8d72a45b4c",
   "metadata": {},
   "outputs": [],
   "source": [
    "g = sns.catplot(data=frauds, x=\"ProviderId\", y=\"Value\",hue=\"DebitCredit\",kind=\"swarm\")"
   ]
  },
  {
   "cell_type": "code",
   "execution_count": null,
   "id": "41190dad-7176-486c-adbe-02e516a25b59",
   "metadata": {},
   "outputs": [],
   "source": [
    "g = sns.catplot(data=frauds, x=\"DayTime\", y=\"Value\",hue=\"DebitCredit\",kind=\"swarm\")"
   ]
  },
  {
   "cell_type": "markdown",
   "id": "3841bf35-f11b-42a2-8367-2a9ba7f736ea",
   "metadata": {},
   "source": [
    "Erkenntnisse:\n",
    "- Insgesamt gibt es nur 5 DebitCredit = 1 in frauds (Credit)\n",
    "- Frauds gibt es in allen PricingStrategien; In Strategie 1 nur DebitCredit =0\n",
    "- Frauds gibt es an allen Wochentagen\n",
    "- Frauds treten gehäuft bei Productid 15 auf\n",
    "- Frauds treten vor allem bei Channelid 3 auf; alle 5 Creditfrauds fallen in Channelid 2 (ausschließlich credits)\n",
    "- Frauds gibt es bei allen Providerids; alle 5 Creditfrauds fallen in Providerid 4 (ausschließlich credits)\n",
    "- Frauds verteilen sich recht gleichmäßig auf die vers. Tageszeiten (nachts etwas weniger)"
   ]
  }
 ],
 "metadata": {
  "kernelspec": {
   "display_name": "Python 3 (ipykernel)",
   "language": "python",
   "name": "python3"
  },
  "language_info": {
   "codemirror_mode": {
    "name": "ipython",
    "version": 3
   },
   "file_extension": ".py",
   "mimetype": "text/x-python",
   "name": "python",
   "nbconvert_exporter": "python",
   "pygments_lexer": "ipython3",
   "version": "3.9.4"
  }
 },
 "nbformat": 4,
 "nbformat_minor": 5
}
