{
 "cells": [
  {
   "cell_type": "markdown",
   "id": "41ee4b69-d109-4d35-a0cc-5ecb7cfc90d3",
   "metadata": {
    "tags": []
   },
   "source": [
    "---\n",
    "\n",
    "## Investigating Fraud Cases"
   ]
  },
  {
   "cell_type": "code",
   "execution_count": null,
   "id": "a98de3bf-a558-47e5-830c-aaedb43cbdfe",
   "metadata": {},
   "outputs": [],
   "source": [
    "import pandas as pd\n",
    "import seaborn as sns\n",
    "import plotly.express as px\n",
    "import matplotlib.pyplot as plt\n",
    "import numpy as np\n",
    "data_train_clean = pd.read_csv(\"data/data_train_clean.csv\")"
   ]
  },
  {
   "cell_type": "code",
   "execution_count": null,
   "id": "99bf4dd4-1beb-4a9d-b21c-f37e6171d9ce",
   "metadata": {},
   "outputs": [],
   "source": [
    "frauds = data_train_clean.query('FraudResult == 1')"
   ]
  },
  {
   "cell_type": "code",
   "execution_count": null,
   "id": "53efa316-7a70-401c-bd9e-c4fd8f8c3000",
   "metadata": {},
   "outputs": [],
   "source": [
    "frauds['ValueInMio']= frauds.Value/1000000"
   ]
  },
  {
   "cell_type": "code",
   "execution_count": null,
   "id": "02cfe752-1ed4-43a0-b05d-ff2d43d0fcb2",
   "metadata": {},
   "outputs": [],
   "source": [
    "frauds.head()"
   ]
  },
  {
   "cell_type": "code",
   "execution_count": null,
   "id": "2b254138-401d-4c4f-82a1-15bd880a2de9",
   "metadata": {},
   "outputs": [],
   "source": [
    "!pip install plotly"
   ]
  },
  {
   "cell_type": "code",
   "execution_count": null,
   "id": "c37e0259-c5f3-4948-9d93-e20a5465391b",
   "metadata": {},
   "outputs": [],
   "source": [
    "frauds.groupby('ProductCategory').count()"
   ]
  },
  {
   "cell_type": "code",
   "execution_count": null,
   "id": "1a37d351-a867-43f1-9744-63f83623dd97",
   "metadata": {},
   "outputs": [],
   "source": [
    "#What is the amount percentage of frauds?\n",
    "\n",
    "sum_fraud = data_train_clean[data_train_clean['FraudResult'] == 1]['Value'].sum() \n",
    "sum_fraud / data_train_clean['Value'].sum() * 100"
   ]
  },
  {
   "cell_type": "code",
   "execution_count": null,
   "id": "51e21f96-8db2-4d57-af04-db12ee1d8329",
   "metadata": {},
   "outputs": [],
   "source": [
    "sum_fraud2 = data_train_clean[data_train_clean['FraudResult'] == 1]['TransactionId'].count() \n",
    "sum_fraud2 / data_train_clean['TransactionId'].count() * 100"
   ]
  },
  {
   "cell_type": "code",
   "execution_count": null,
   "id": "6ca9a6d8-2a10-460b-bd5e-22527c48c6d0",
   "metadata": {},
   "outputs": [],
   "source": [
    "import plotly.express as px\n",
    "\n",
    "a = px.pie(data_train_clean.groupby('FraudResult').sum()[['Value']].reset_index(), \n",
    "           values = 'Value', names ='FraudResult',\n",
    "           title='Volume of Fraud transactions',\n",
    "           color_discrete_sequence=px.colors.qualitative.Prism,\n",
    "   #        color_discrete_map={'0':'lightcyan',\n",
    "     #                          '1':'cyan',\n",
    "      #                          })\n",
    "                                  )\n",
    "a.update_layout(title_x=0.5)\n",
    "\n",
    "                                  \n",
    "                \n",
    "#a.write_image('graphs/Volume_of_fraud_transactions.png')"
   ]
  },
  {
   "cell_type": "code",
   "execution_count": null,
   "id": "e70e6737-dd3e-4b6b-899c-ac31cdb02028",
   "metadata": {},
   "outputs": [],
   "source": [
    "pip install -U kaleido"
   ]
  },
  {
   "cell_type": "code",
   "execution_count": null,
   "id": "8a726c36-4afa-43b3-82e2-11f113f01cd8",
   "metadata": {},
   "outputs": [],
   "source": [
    "\n",
    "a = px.pie(frauds.groupby('DebitCredit').sum()[['Value']].reset_index(), \n",
    "           values = 'Value', names ='DebitCredit',\n",
    "           title='Frauds regarding Debit and Credit',\n",
    "           color_discrete_sequence=px.colors.qualitative.Prism,\n",
    "   #        color_discrete_map={'0':'lightcyan',\n",
    "     #                          '1':'cyan',\n",
    "      #                          })\n",
    "                                  )\n",
    "a.update_layout(title_x=0.5)\n",
    "#fig.savefig('../graphs/distribution-conditions.png', dpi=300, transparent=True, pad_inches=1)"
   ]
  },
  {
   "cell_type": "code",
   "execution_count": null,
   "id": "8870bf07-d3ae-4273-a86f-59259212f598",
   "metadata": {},
   "outputs": [],
   "source": [
    "data_train_clean.groupby('ProductCategory').count()"
   ]
  },
  {
   "cell_type": "code",
   "execution_count": null,
   "id": "2e7e27c7-ff14-4ce9-bca5-0e428c6713c3",
   "metadata": {},
   "outputs": [],
   "source": [
    "#frauds.groupby(['AccountId', 'CustomerId']).mean()"
   ]
  },
  {
   "cell_type": "code",
   "execution_count": null,
   "id": "b8ac89b7-ff79-4c0c-a356-df9be6e74775",
   "metadata": {},
   "outputs": [],
   "source": [
    "# Erstellen der Heatmap aller Variablen mit Korrelationskoeffizienten\n",
    "\n",
    "plt.figure(figsize = (20,10))\n",
    "corr = frauds.corr()\n",
    "ax = sns.heatmap(\n",
    "    corr, \n",
    "    vmin=-1, vmax=1, center=0,\n",
    "    cmap=sns.diverging_palette(20, 220, n=200),\n",
    "    square=True,\n",
    "    annot=True, \n",
    " #   fmt=\"f\"\n",
    ")\n",
    "ax.set_xticklabels(\n",
    "    ax.get_xticklabels(),\n",
    "    rotation=45,\n",
    "    horizontalalignment='right'\n",
    ");"
   ]
  },
  {
   "cell_type": "code",
   "execution_count": null,
   "id": "74f30366-3242-4a66-96b2-9de2df3cd933",
   "metadata": {},
   "outputs": [],
   "source": [
    "import matplotlib.patches as mpatches\n",
    "pop_a = mpatches.Patch(color='darkcyan', label='legal')\n",
    "pop_b = mpatches.Patch(color='cyan', label='fraud')"
   ]
  },
  {
   "cell_type": "code",
   "execution_count": null,
   "id": "3f59ec39-e66f-4992-af87-1744e811dc1b",
   "metadata": {},
   "outputs": [],
   "source": [
    "g = sns.histplot(data=frauds, x=\"TransactionWeekday\",color = ['darkcyan'])\n",
    "plt.suptitle('Frauds per Weekday', fontsize=16)\n",
    "plt.ylabel('Number of frauds', fontsize=14)\n",
    "plt.xlabel('Weekday', fontsize=14);"
   ]
  },
  {
   "cell_type": "code",
   "execution_count": null,
   "id": "11a10371-d0e0-4ac2-9101-43b56f054af6",
   "metadata": {},
   "outputs": [],
   "source": [
    "g = sns.barplot(data=frauds, x=\"TransactionWeekday\", y ='ValueInMio',palette = ['darkcyan'])\n",
    "plt.ylabel('Value UGX in MIO', fontsize=14)\n",
    "plt.xlabel('Transaction per Weekday', fontsize=14)\n",
    "plt.yticks(ticks=np.linspace(0,3.5,8))\n",
    "plt.suptitle('Fraudvolume per Weekday', fontsize=16);\n"
   ]
  },
  {
   "cell_type": "code",
   "execution_count": null,
   "id": "f1df908a-7d7d-4218-adc2-b0552722bfd2",
   "metadata": {},
   "outputs": [],
   "source": [
    "frauds.query('ChannelId == 2')"
   ]
  },
  {
   "cell_type": "code",
   "execution_count": null,
   "id": "52e612bf-ba0a-4d0c-9c05-71062b0a976c",
   "metadata": {},
   "outputs": [],
   "source": [
    "g = sns.histplot(data=frauds, x=\"DayTime\",color= ['darkcyan'])\n",
    "plt.suptitle('Frauds per Daytime', fontsize=16)\n",
    "plt.ylabel('Number of frauds', fontsize=14)\n",
    "plt.xlabel('Daytime', fontsize=14);"
   ]
  },
  {
   "cell_type": "code",
   "execution_count": null,
   "id": "962444a3-1b3f-4b78-807b-c567954318b9",
   "metadata": {},
   "outputs": [],
   "source": [
    "g = sns.barplot(data=frauds, x=\"DayTime\", y ='ValueInMio',palette = ['darkcyan'])\n",
    "plt.suptitle('Fraudvolume per Daytime', fontsize=16)\n",
    "plt.ylabel('Value UGX in MIO', fontsize=14)\n",
    "plt.xlabel('Daytime', fontsize=14);"
   ]
  },
  {
   "cell_type": "code",
   "execution_count": null,
   "id": "c2eab11e-0b24-44f6-b53c-886aa04ae037",
   "metadata": {},
   "outputs": [],
   "source": [
    "frauds = data_train_clean[data_train_clean[\"FraudResult\"] == 1]"
   ]
  },
  {
   "cell_type": "code",
   "execution_count": null,
   "id": "55d5019e-3ecd-4aac-b94b-59f2775054d3",
   "metadata": {},
   "outputs": [],
   "source": [
    "provider_compare = data_train_clean.groupby([\"FraudResult\",\"ProviderId\"],as_index=False)[\"Value\"].sum()\n",
    "provider_compare"
   ]
  },
  {
   "cell_type": "code",
   "execution_count": null,
   "id": "8e27fb09-10c5-44f4-8504-9fca15a821fd",
   "metadata": {},
   "outputs": [],
   "source": [
    "product_compare = data_train_clean.groupby([\"FraudResult\",\"ProductCategory\"],as_index=False)[\"Value\"].sum()\n",
    "product_compare"
   ]
  },
  {
   "cell_type": "code",
   "execution_count": null,
   "id": "4906b3e2-3ca6-40e3-9633-d625ee509567",
   "metadata": {},
   "outputs": [],
   "source": [
    "pricing_compare = data_train_clean.groupby([\"FraudResult\",\"PricingStrategy\"],as_index=False)[\"Value\"].sum()\n",
    "pricing_compare"
   ]
  },
  {
   "cell_type": "code",
   "execution_count": null,
   "id": "1c2ad075-125f-42e5-be49-be35eb0b0780",
   "metadata": {},
   "outputs": [],
   "source": [
    "channel_compare = data_train_clean.groupby([\"FraudResult\",\"ChannelId\"],as_index=False)[\"Value\"].sum()\n",
    "channel_compare.head(10)"
   ]
  },
  {
   "cell_type": "code",
   "execution_count": null,
   "id": "0216bc8a-e296-4f76-b409-ae2a92bf766b",
   "metadata": {},
   "outputs": [],
   "source": [
    "sns.barplot(x=\"ProductCategory\", y=\"Value\", data=product_compare.query('FraudResult ==1'),palette = ['darkcyan','darkslategrey','cyan', 'cadetblue'])\n",
    "plt.suptitle('Fraudvolume per Product Category', fontsize=16)\n",
    "plt.ylabel('Value UGX in MIO', fontsize=14)\n",
    "plt.xlabel('Product Category', fontsize=14);"
   ]
  },
  {
   "cell_type": "code",
   "execution_count": null,
   "id": "4d8245d4-b83c-4ab8-82a3-9c35e0b2e237",
   "metadata": {},
   "outputs": [],
   "source": [
    "sns.barplot(data=channel_compare, x=\"ChannelId\", y=\"Value\", hue=\"FraudResult\",palette = ['darkcyan','cyan', 'cadetblue'])\n",
    "plt.xticks( ticks = range(5) ,labels = ['web','android', 'IOS', 'checkout','pay later'] )\n",
    "plt.legend(handles=[pop_a,pop_b])\n",
    "plt.suptitle('Fraudvolume per Channel', fontsize=16)\n",
    "plt.ylabel('Value UGX in MIO', fontsize=14)\n",
    "plt.xlabel('Channel', fontsize=14);"
   ]
  },
  {
   "cell_type": "code",
   "execution_count": null,
   "id": "2566c2a1-48db-432f-b116-469ca6998d54",
   "metadata": {},
   "outputs": [],
   "source": [
    "p= sns.histplot(data=frauds, x=\"ChannelId\",color= ['darkcyan'])\n",
    "plt.suptitle('Frauds per Channel', fontsize=16)\n",
    "plt.ylabel('Number of frauds', fontsize=14)\n",
    "plt.xlabel('Channel', fontsize=14)\n",
    "plt.xticks( ticks = [0,1,2,3,4] )\n",
    "#plt.xticks( ticks = range(5) ,labels = ['web','android', 'IOS', 'checkout','pay later'] );"
   ]
  },
  {
   "cell_type": "code",
   "execution_count": null,
   "id": "6719286f-2634-4fbd-8a5c-b63d7d2dce15",
   "metadata": {},
   "outputs": [],
   "source": [
    "sns.barplot(data=provider_compare, x=\"ProviderId\", y=\"Value\", hue=\"FraudResult\",palette = ['darkcyan','cyan', 'cadetblue'])\n",
    "plt.legend(handles=[pop_a,pop_b])\n",
    "plt.suptitle('Fraudvolume per Provider', fontsize=16)\n",
    "plt.ylabel('Value UGX in MIO', fontsize=14)\n",
    "plt.xlabel('Provider', fontsize=14);"
   ]
  },
  {
   "cell_type": "code",
   "execution_count": null,
   "id": "ac5fb05e-3b16-48c0-8631-4f261b331be9",
   "metadata": {},
   "outputs": [],
   "source": [
    "p= sns.histplot(data=frauds, x=\"ProviderId\",color= ['darkcyan'])\n",
    "plt.suptitle('Frauds per Provider', fontsize=16)\n",
    "plt.ylabel('Number of frauds', fontsize=14)\n",
    "plt.xlabel('Provider', fontsize=14);"
   ]
  },
  {
   "cell_type": "code",
   "execution_count": null,
   "id": "2107d115-229c-463a-b604-c9a402cd2d21",
   "metadata": {},
   "outputs": [],
   "source": [
    "sns.barplot(data=product_compare, x=\"ProductCategory\", y=\"Value\", hue=\"FraudResult\",palette = ['darkcyan','cyan', 'cadetblue'])\n",
    "\n",
    "plt.xticks(rotation=45);\n",
    "# Creating legend with color box\n",
    "\n",
    "plt.legend(handles=[pop_a,pop_b])\n",
    "plt.suptitle('Fraudvolume per Product Category', fontsize=16)\n",
    "plt.ylabel('Value UGX in MIO', fontsize=14)\n",
    "plt.xlabel('Product Category', fontsize=14)\n",
    "plt.xticks(ha = 'right');"
   ]
  },
  {
   "cell_type": "code",
   "execution_count": null,
   "id": "8cb913f4-ce14-4012-8781-bc4b23e72788",
   "metadata": {},
   "outputs": [],
   "source": [
    "sns.barplot(data=pricing_compare, x=\"PricingStrategy\", y='Value', hue=\"FraudResult\",palette = ['darkcyan','cyan', 'cadetblue'])\n",
    "plt.suptitle('Fraudvolume per Pricing Strategy', fontsize=16)\n",
    "plt.ylabel('Value UGX in MIO', fontsize=14)\n",
    "plt.xlabel('Pricing Strategy', fontsize=14)\n",
    "plt.xticks(ticks=np.linspace(1,4.0,4), ha = 'center');"
   ]
  },
  {
   "cell_type": "code",
   "execution_count": null,
   "id": "5fea9915-5b7a-40d7-bd57-56ffa3c0070a",
   "metadata": {},
   "outputs": [],
   "source": [
    "TransactionsToDate = data_train_clean.groupby([\"TransactionsToDate\"],as_index=False)[\"FraudResult\"].sum()\n",
    "TransactionsToDate.head(15)\n",
    "TTDa = TransactionsToDate.query('FraudResult > 2')\n",
    "TTDa"
   ]
  },
  {
   "cell_type": "code",
   "execution_count": null,
   "id": "df64d754-ee87-45aa-af09-777fcdd7862a",
   "metadata": {},
   "outputs": [],
   "source": [
    "g = sns.barplot(data=TTDa, x=\"TransactionsToDate\", y=\"FraudResult\",palette = ['darkcyan','cyan', 'cadetblue'])\n",
    "g.set_xlabel(\"Transactions to Date\", fontsize = 14)\n",
    "g.set_ylabel(\"Number of Frauds\", fontsize = 14)\n",
    "plt.suptitle('Previous Transactions', fontsize=16);"
   ]
  },
  {
   "cell_type": "code",
   "execution_count": null,
   "id": "266904b3-5a21-4971-beac-e8a0cc989633",
   "metadata": {},
   "outputs": [],
   "source": [
    "batch = sns.histplot(data = frauds, x ='TransactionInBatch',color = ['darkcyan'])\n",
    "plt.ylabel('Number of frauds', fontsize=14)\n",
    "plt.xlabel('Transaction per Batch', fontsize=14)\n",
    "plt.xticks(ticks=np.linspace(1,4.0,4), ha = 'center')\n",
    "plt.suptitle('Frauds per Batchsize', fontsize=16);"
   ]
  },
  {
   "cell_type": "markdown",
   "id": "3841bf35-f11b-42a2-8367-2a9ba7f736ea",
   "metadata": {},
   "source": [
    "Erkenntnisse:\n",
    "- Insgesamt gibt es nur 5 DebitCredit = 1 in frauds (Credit)\n",
    "- Frauds gibt es in allen PricingStrategien; In Strategie 1 nur DebitCredit =0\n",
    "- Frauds gibt es an allen Wochentagen\n",
    "- Frauds treten gehäuft bei Productid 15 auf\n",
    "- Frauds treten vor allem bei Channelid 3 auf; alle 5 Creditfrauds fallen in Channelid 2 (ausschließlich credits)\n",
    "- Frauds gibt es bei allen Providerids; alle 5 Creditfrauds fallen in Providerid 4 (ausschließlich credits)\n",
    "- Frauds verteilen sich recht gleichmäßig auf die vers. Tageszeiten (nachts etwas weniger)"
   ]
  }
 ],
 "metadata": {
  "kernelspec": {
   "display_name": "Python 3 (ipykernel)",
   "language": "python",
   "name": "python3"
  },
  "language_info": {
   "codemirror_mode": {
    "name": "ipython",
    "version": 3
   },
   "file_extension": ".py",
   "mimetype": "text/x-python",
   "name": "python",
   "nbconvert_exporter": "python",
   "pygments_lexer": "ipython3",
   "version": "3.9.4"
  }
 },
 "nbformat": 4,
 "nbformat_minor": 5
}
