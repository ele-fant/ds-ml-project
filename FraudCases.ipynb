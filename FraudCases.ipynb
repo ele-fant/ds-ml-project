{
 "cells": [
  {
   "cell_type": "markdown",
   "id": "41ee4b69-d109-4d35-a0cc-5ecb7cfc90d3",
   "metadata": {
    "tags": []
   },
   "source": [
    "---\n",
    "\n",
    "## Investigating Fraud Cases"
   ]
  },
  {
   "cell_type": "code",
   "execution_count": null,
   "id": "a98de3bf-a558-47e5-830c-aaedb43cbdfe",
   "metadata": {},
   "outputs": [],
   "source": [
    "import pandas as pd\n",
    "import seaborn as sns\n",
    "import plotly.express as px\n",
    "import matplotlib.pyplot as plt\n",
    "import numpy as np\n",
    "data_train_clean = pd.read_csv(\"data/data_train_clean.csv\")"
   ]
  },
  {
   "cell_type": "code",
   "execution_count": null,
   "id": "99bf4dd4-1beb-4a9d-b21c-f37e6171d9ce",
   "metadata": {},
   "outputs": [],
   "source": [
    "frauds = data_train_clean.query('FraudResult == 1')"
   ]
  },
  {
   "cell_type": "code",
   "execution_count": null,
   "id": "2b254138-401d-4c4f-82a1-15bd880a2de9",
   "metadata": {},
   "outputs": [],
   "source": [
    "!pip install plotly"
   ]
  },
  {
   "cell_type": "code",
   "execution_count": null,
   "id": "c37e0259-c5f3-4948-9d93-e20a5465391b",
   "metadata": {},
   "outputs": [],
   "source": [
    "frauds.groupby('ProductCategory').count()"
   ]
  },
  {
   "cell_type": "code",
   "execution_count": null,
   "id": "1a37d351-a867-43f1-9744-63f83623dd97",
   "metadata": {},
   "outputs": [],
   "source": [
    "#What is the amount percentage of frauds?\n",
    "\n",
    "sum_fraud = data_train_clean[data_train_clean['FraudResult'] == 1]['Value'].sum() \n",
    "sum_fraud / data_train_clean['Value'].sum() * 100"
   ]
  },
  {
   "cell_type": "code",
   "execution_count": null,
   "id": "51e21f96-8db2-4d57-af04-db12ee1d8329",
   "metadata": {},
   "outputs": [],
   "source": [
    "sum_fraud2 = data_train_clean[data_train_clean['FraudResult'] == 1]['TransactionId'].count() \n",
    "sum_fraud2 / data_train_clean['TransactionId'].count() * 100"
   ]
  },
  {
   "cell_type": "code",
   "execution_count": null,
   "id": "6ca9a6d8-2a10-460b-bd5e-22527c48c6d0",
   "metadata": {},
   "outputs": [],
   "source": [
    "import plotly.express as px\n",
    "\n",
    "a = px.pie(data_train_clean.groupby('FraudResult').sum()[['Value']].reset_index(), \n",
    "           values = 'Value', names ='FraudResult',\n",
    "           title='Volume of Fraud transactions',\n",
    "           color_discrete_sequence=px.colors.qualitative.Prism,\n",
    "   #        color_discrete_map={'0':'lightcyan',\n",
    "     #                          '1':'cyan',\n",
    "      #                          })\n",
    "                                  )\n",
    "a.update_layout(title_x=0.5)\n",
    "\n",
    "                                  \n",
    "                \n",
    "#a.write_image('graphs/Volume_of_fraud_transactions.png')"
   ]
  },
  {
   "cell_type": "code",
   "execution_count": null,
   "id": "e70e6737-dd3e-4b6b-899c-ac31cdb02028",
   "metadata": {},
   "outputs": [],
   "source": [
    "pip install -U kaleido"
   ]
  },
  {
   "cell_type": "code",
   "execution_count": null,
   "id": "8a726c36-4afa-43b3-82e2-11f113f01cd8",
   "metadata": {},
   "outputs": [],
   "source": [
    "\n",
    "a = px.pie(frauds.groupby('DebitCredit').sum()[['Value']].reset_index(), \n",
    "           values = 'Value', names ='DebitCredit',\n",
    "           title='Frauds regarding Debit and Credit',\n",
    "           color_discrete_sequence=px.colors.qualitative.Prism,\n",
    "   #        color_discrete_map={'0':'lightcyan',\n",
    "     #                          '1':'cyan',\n",
    "      #                          })\n",
    "                                  )\n",
    "a.update_layout(title_x=0.5)\n",
    "#fig.savefig('../graphs/distribution-conditions.png', dpi=300, transparent=True, pad_inches=1)"
   ]
  },
  {
   "cell_type": "code",
   "execution_count": null,
   "id": "8870bf07-d3ae-4273-a86f-59259212f598",
   "metadata": {},
   "outputs": [],
   "source": [
    "data_train_clean.groupby('ProductCategory').count()"
   ]
  },
  {
   "cell_type": "code",
   "execution_count": null,
   "id": "2e7e27c7-ff14-4ce9-bca5-0e428c6713c3",
   "metadata": {},
   "outputs": [],
   "source": [
    "#frauds.groupby(['AccountId', 'CustomerId']).mean()"
   ]
  },
  {
   "cell_type": "code",
   "execution_count": null,
   "id": "b8ac89b7-ff79-4c0c-a356-df9be6e74775",
   "metadata": {},
   "outputs": [],
   "source": [
    "# Erstellen der Heatmap aller Variablen mit Korrelationskoeffizienten\n",
    "\n",
    "plt.figure(figsize = (20,10))\n",
    "corr = frauds.corr()\n",
    "ax = sns.heatmap(\n",
    "    corr, \n",
    "    vmin=-1, vmax=1, center=0,\n",
    "    cmap=sns.diverging_palette(20, 220, n=200),\n",
    "    square=True,\n",
    "    annot=True, \n",
    " #   fmt=\"f\"\n",
    ")\n",
    "ax.set_xticklabels(\n",
    "    ax.get_xticklabels(),\n",
    "    rotation=45,\n",
    "    horizontalalignment='right'\n",
    ");"
   ]
  },
  {
   "cell_type": "code",
   "execution_count": null,
   "id": "c0ae9dc5-d5f7-4179-a301-5cfe3e26e42e",
   "metadata": {},
   "outputs": [],
   "source": [
    "sns.pairplot(frauds)"
   ]
  },
  {
   "cell_type": "code",
   "execution_count": null,
   "id": "d1482e28-99a0-4759-8438-bb9f04424177",
   "metadata": {},
   "outputs": [],
   "source": [
    "g = sns.catplot(data=frauds, x=\"PricingStrategy\", y=\"Value\",hue=\"DebitCredit\",kind=\"swarm\")"
   ]
  },
  {
   "cell_type": "code",
   "execution_count": null,
   "id": "45e19a09-d53f-444c-8b1a-efa81359aa8f",
   "metadata": {},
   "outputs": [],
   "source": [
    "g = sns.catplot(data=frauds, x=\"TransactionWeekday\", y=\"Value\",kind=\"swarm\",palette = ['darkcyan'])"
   ]
  },
  {
   "cell_type": "code",
   "execution_count": null,
   "id": "3f59ec39-e66f-4992-af87-1744e811dc1b",
   "metadata": {},
   "outputs": [],
   "source": [
    "g = sns.histplot(data=frauds, x=\"TransactionWeekday\",palette = ['darkcyan'])"
   ]
  },
  {
   "cell_type": "code",
   "execution_count": null,
   "id": "11a10371-d0e0-4ac2-9101-43b56f054af6",
   "metadata": {},
   "outputs": [],
   "source": [
    "g = sns.barplot(data=frauds, x=\"TransactionWeekday\", y ='Value',palette = ['darkcyan'])"
   ]
  },
  {
   "cell_type": "code",
   "execution_count": null,
   "id": "6f1f6e2c-e526-4ec6-bfc3-e9b9814d7c91",
   "metadata": {},
   "outputs": [],
   "source": [
    "g = sns.catplot(data=frauds, x=\"ProductId\", y=\"Value\",hue=\"DebitCredit\",kind=\"swarm\")"
   ]
  },
  {
   "cell_type": "code",
   "execution_count": null,
   "id": "8f8ddfdd-2f3e-47c7-b90e-668578684ee2",
   "metadata": {},
   "outputs": [],
   "source": [
    "g = sns.catplot(data=frauds, x=\"ChannelId\", y=\"Value\",hue=\"DebitCredit\",kind=\"swarm\")"
   ]
  },
  {
   "cell_type": "code",
   "execution_count": null,
   "id": "f1df908a-7d7d-4218-adc2-b0552722bfd2",
   "metadata": {},
   "outputs": [],
   "source": [
    "frauds.query('ChannelId == 2')"
   ]
  },
  {
   "cell_type": "code",
   "execution_count": null,
   "id": "0b33c5af-63e0-4bf9-8fbb-ea8d72a45b4c",
   "metadata": {},
   "outputs": [],
   "source": [
    "g = sns.catplot(data=frauds, x=\"ProviderId\", y=\"Value\",hue=\"DebitCredit\",kind=\"swarm\")"
   ]
  },
  {
   "cell_type": "code",
   "execution_count": null,
   "id": "41190dad-7176-486c-adbe-02e516a25b59",
   "metadata": {},
   "outputs": [],
   "source": [
    "g = sns.catplot(data=frauds, x=\"DayTime\", y=\"Value\",kind=\"swarm\",palette = ['darkcyan'])"
   ]
  },
  {
   "cell_type": "code",
   "execution_count": null,
   "id": "52e612bf-ba0a-4d0c-9c05-71062b0a976c",
   "metadata": {},
   "outputs": [],
   "source": [
    "g = sns.histplot(data=frauds, x=\"DayTime\",palette = ['darkcyan'])"
   ]
  },
  {
   "cell_type": "code",
   "execution_count": null,
   "id": "962444a3-1b3f-4b78-807b-c567954318b9",
   "metadata": {},
   "outputs": [],
   "source": [
    "g = sns.barplot(data=frauds, x=\"DayTime\", y ='Value',palette = ['darkcyan'])"
   ]
  },
  {
   "cell_type": "code",
   "execution_count": null,
   "id": "a8c0439d-134b-4ff7-864d-83de6525c003",
   "metadata": {},
   "outputs": [],
   "source": []
  },
  {
   "cell_type": "code",
   "execution_count": null,
   "id": "c2eab11e-0b24-44f6-b53c-886aa04ae037",
   "metadata": {},
   "outputs": [],
   "source": [
    "frauds = data_train_clean[data_train_clean[\"FraudResult\"] == 1]"
   ]
  },
  {
   "cell_type": "code",
   "execution_count": null,
   "id": "f17bb381-176e-4d93-8079-9f195c76dbcd",
   "metadata": {},
   "outputs": [],
   "source": [
    "data= frauds.groupby(['ProviderId'],as_index=False)['Value'].sum()\n",
    "data = pd.DataFrame(data)\n",
    "data"
   ]
  },
  {
   "cell_type": "code",
   "execution_count": null,
   "id": "3ce2ac0c-fb45-4f1a-aae3-3daa44c65dad",
   "metadata": {},
   "outputs": [],
   "source": [
    "a = sns.barplot(data=data, x='ProviderId', y ='Value', palette = ['darkcyan','darkslategrey','cyan', 'cadetblue'])\n"
   ]
  },
  {
   "cell_type": "code",
   "execution_count": null,
   "id": "4ea31df4-57f8-49c5-90e8-777c036adee0",
   "metadata": {},
   "outputs": [],
   "source": [
    "data2= frauds.groupby(['PricingStrategy'],as_index=False)['Value'].sum()\n",
    "data2 = pd.DataFrame(data2)\n",
    "data2"
   ]
  },
  {
   "cell_type": "code",
   "execution_count": null,
   "id": "305e9d72-21a5-4cdc-921a-51a9fa3e3605",
   "metadata": {},
   "outputs": [],
   "source": [
    "a = sns.barplot(data=data2, x='PricingStrategy', y ='Value', palette = ['darkcyan','darkslategrey','cyan', 'cadetblue'])"
   ]
  },
  {
   "cell_type": "code",
   "execution_count": null,
   "id": "2eb9429b-aa5d-46c4-82d8-b92317b66195",
   "metadata": {},
   "outputs": [],
   "source": [
    "data3= frauds.groupby(['ProductCategory'],as_index=False)['Value'].sum()\n",
    "data3 = pd.DataFrame(data3)\n",
    "data3"
   ]
  },
  {
   "cell_type": "code",
   "execution_count": null,
   "id": "dcf0851d-1159-459c-8c51-0ce323355fb1",
   "metadata": {},
   "outputs": [],
   "source": [
    "a = sns.barplot(data=data3, x='ProductCategory', y ='Value', palette = ['darkcyan','darkslategrey','cyan', 'cadetblue'])"
   ]
  },
  {
   "cell_type": "code",
   "execution_count": null,
   "id": "55d5019e-3ecd-4aac-b94b-59f2775054d3",
   "metadata": {},
   "outputs": [],
   "source": [
    "provider_compare = data_train_clean.groupby([\"FraudResult\",\"ProviderId\"],as_index=False)[\"Value\"].sum()\n",
    "provider_compare"
   ]
  },
  {
   "cell_type": "code",
   "execution_count": null,
   "id": "8e27fb09-10c5-44f4-8504-9fca15a821fd",
   "metadata": {},
   "outputs": [],
   "source": [
    "product_compare = data_train_clean.groupby([\"FraudResult\",\"ProductCategory\"],as_index=False)[\"Value\"].sum()\n",
    "product_compare"
   ]
  },
  {
   "cell_type": "code",
   "execution_count": null,
   "id": "4906b3e2-3ca6-40e3-9633-d625ee509567",
   "metadata": {},
   "outputs": [],
   "source": [
    "pricing_compare = data_train_clean.groupby([\"FraudResult\",\"PricingStrategy\"],as_index=False)[\"Value\"].sum()\n",
    "pricing_compare"
   ]
  },
  {
   "cell_type": "code",
   "execution_count": null,
   "id": "4a7d9d28-c852-4ad7-b232-395abfeb598d",
   "metadata": {},
   "outputs": [],
   "source": [
    "channel_compare = data_train_clean.groupby([\"FraudResult\",\"ChannelId\"],as_index=False)[\"Value\"].sum()\n",
    "channel_compare"
   ]
  },
  {
   "cell_type": "code",
   "execution_count": null,
   "id": "0216bc8a-e296-4f76-b409-ae2a92bf766b",
   "metadata": {},
   "outputs": [],
   "source": [
    "sns.barplot(x=\"ProductCategory\", y=\"Value\", data=product_compare.query('FraudResult ==1'),palette = ['darkcyan','darkslategrey','cyan', 'cadetblue'])"
   ]
  },
  {
   "cell_type": "code",
   "execution_count": null,
   "id": "4d8245d4-b83c-4ab8-82a3-9c35e0b2e237",
   "metadata": {},
   "outputs": [],
   "source": [
    "sns.barplot(data=channel_compare, x=\"ChannelId\", y=\"Value\", hue=\"FraudResult\",palette = ['darkcyan','cyan', 'cadetblue']).set(title='Fraudvolume per Channel')\n",
    "plt.xticks( ticks = [0,1,2,3,4] )\n",
    "#plt.legend(title='Legend', loc='upper right', labels=['legal', 'fraud']);"
   ]
  },
  {
   "cell_type": "code",
   "execution_count": null,
   "id": "2566c2a1-48db-432f-b116-469ca6998d54",
   "metadata": {},
   "outputs": [],
   "source": [
    "h = sns.histplot(data=frauds, x=\"ChannelId\",palette = ['darkcyan'])\n",
    "plt.xticks( ticks = [0,1,2,3,4] )\n",
    "#plt.legend(title='Legend', loc='upper right', labels=['legal', 'fraud']);"
   ]
  },
  {
   "cell_type": "code",
   "execution_count": null,
   "id": "6719286f-2634-4fbd-8a5c-b63d7d2dce15",
   "metadata": {},
   "outputs": [],
   "source": [
    "sns.barplot(data=provider_compare, x=\"ProviderId\", y=\"Value\", hue=\"FraudResult\",palette = ['darkcyan','cyan', 'cadetblue']).set(title='Fraudvolume per Provider');\n",
    "#plt.legend(title='Fraud Result', loc='upper right', labels=['legal', 'fraud'])"
   ]
  },
  {
   "cell_type": "code",
   "execution_count": null,
   "id": "2107d115-229c-463a-b604-c9a402cd2d21",
   "metadata": {},
   "outputs": [],
   "source": [
    "sns.barplot(data=product_compare, x=\"ProductCategory\", y=\"Value\", hue=\"FraudResult\",palette = ['darkcyan','cyan', 'cadetblue']).set(title='Fraudvolume per Product Category')\n",
    "plt.xticks(rotation=45);\n",
    "#plt.legend(title='Legend', loc='upper right', labels=['legal', 'fraud'])\n",
    "plt.xticks(rotation=45);"
   ]
  },
  {
   "cell_type": "code",
   "execution_count": null,
   "id": "8cb913f4-ce14-4012-8781-bc4b23e72788",
   "metadata": {},
   "outputs": [],
   "source": [
    "sns.barplot(data=pricing_compare, x=\"PricingStrategy\", y=\"Value\", hue=\"FraudResult\",palette = ['darkcyan','cyan', 'cadetblue']).set(title='Fraudvolume per Pricing Strategy')\n",
    "plt.xticks(rotation=45);"
   ]
  },
  {
   "cell_type": "code",
   "execution_count": null,
   "id": "5fea9915-5b7a-40d7-bd57-56ffa3c0070a",
   "metadata": {},
   "outputs": [],
   "source": [
    "TransactionsToDate = data_train_clean.groupby([\"TransactionsToDate\"],as_index=False)[\"FraudResult\"].sum()\n",
    "TransactionsToDate.head(15)\n",
    "TTDa = TransactionsToDate.query('FraudResult > 2')\n",
    "TTDa"
   ]
  },
  {
   "cell_type": "code",
   "execution_count": null,
   "id": "df64d754-ee87-45aa-af09-777fcdd7862a",
   "metadata": {},
   "outputs": [],
   "source": [
    "g = sns.barplot(data=TTDa, x=\"TransactionsToDate\", y=\"FraudResult\",palette = ['darkcyan','cyan', 'cadetblue'])\n",
    "g.set_xlabel(\"Transactions To Date\", fontsize = 10)\n",
    "g.set_ylabel(\"Frauds count\", fontsize = 10)"
   ]
  },
  {
   "cell_type": "markdown",
   "id": "3841bf35-f11b-42a2-8367-2a9ba7f736ea",
   "metadata": {},
   "source": [
    "Erkenntnisse:\n",
    "- Insgesamt gibt es nur 5 DebitCredit = 1 in frauds (Credit)\n",
    "- Frauds gibt es in allen PricingStrategien; In Strategie 1 nur DebitCredit =0\n",
    "- Frauds gibt es an allen Wochentagen\n",
    "- Frauds treten gehäuft bei Productid 15 auf\n",
    "- Frauds treten vor allem bei Channelid 3 auf; alle 5 Creditfrauds fallen in Channelid 2 (ausschließlich credits)\n",
    "- Frauds gibt es bei allen Providerids; alle 5 Creditfrauds fallen in Providerid 4 (ausschließlich credits)\n",
    "- Frauds verteilen sich recht gleichmäßig auf die vers. Tageszeiten (nachts etwas weniger)"
   ]
  }
 ],
 "metadata": {
  "kernelspec": {
   "display_name": "Python 3 (ipykernel)",
   "language": "python",
   "name": "python3"
  },
  "language_info": {
   "codemirror_mode": {
    "name": "ipython",
    "version": 3
   },
   "file_extension": ".py",
   "mimetype": "text/x-python",
   "name": "python",
   "nbconvert_exporter": "python",
   "pygments_lexer": "ipython3",
   "version": "3.9.4"
  }
 },
 "nbformat": 4,
 "nbformat_minor": 5
}
