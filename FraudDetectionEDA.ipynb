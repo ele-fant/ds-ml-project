{
 "cells": [
  {
   "cell_type": "markdown",
   "id": "10e5ee88-1915-4c78-a289-4f0861a42f7d",
   "metadata": {},
   "source": [
    "## Description\n",
    "The objective of this competition is to create a machine learning model to detect fraudulent transactions.\n",
    "\n",
    "Fraud detection is an important application of machine learning in the financial services sector. This solution will help Xente provide improved and safer service to its customers.\n",
    "\n",
    "This competition is sponsored by Xente, Innovation Village, and insight2impact."
   ]
  },
  {
   "cell_type": "markdown",
   "id": "a1d6fbaf-cca6-4eff-a552-1cf359912666",
   "metadata": {},
   "source": [
    "## Data\n",
    "Xente is an e-commerce and financial service app serving 10,000+ customers in Uganda.\n",
    "\n",
    "This dataset includes a sample of approximately 140,000 transactions that occurred between 15 November 2018 and 15 March 2019.\n",
    "\n",
    "One of the challenges of fraud detection problems is that the data is highly imbalanced. \n",
    "\n",
    "Xente_variable_definitions.csv: Definition of the features per transaction\n",
    "Training.csv: Transactions from 15 November 2018 to 13 February 2019, including whether or not each transaction is fraudulent. You will use this file to train your model.\n",
    "Test.csv: Transactions from 13 February 2019 to 14 March 2019, not including whether or not each transaction is fraudulent. You will test your model on this file.\n",
    "sample_submission.csv: is an example of what your submission file should look like. The order of the rows does not matter, but the names of the TransactionId must be correct. The value in FraudResult will be 1 for is a Fraud and 0 for is not a fraud."
   ]
  },
  {
   "cell_type": "markdown",
   "id": "49032cef-fe19-4a17-86f9-434387501f55",
   "metadata": {},
   "source": [
    "## Evaluation\n",
    "The error metric for this competition is the F1 score, which ranges from 0 (total failure) to 1 (perfect score). Hence, the closer your score is to 1, the better your model.\n",
    "\n",
    "F1 Score: A performance score that combines both precision and recall. It is a harmonic mean of these two variables. Formula is given as: 2*Precision*Recall/(Precision + Recall)\n",
    "\n",
    "Precision: This is an indicator of the number of items correctly identified as positive out of total items identified as positive. Formula is given as: TP/(TP+FP)\n",
    "\n",
    "Recall / Sensitivity / True Positive Rate (TPR): This is an indicator of the number of items correctly identified as positive out of total actual positives. Formula is given as: TP/(TP+FN)\n",
    "\n",
    "Where:\n",
    "\n",
    "TP=True Positive\n",
    "FP=False Positive\n",
    "TN=True Negative\n",
    "FN=False Negative"
   ]
  },
  {
   "cell_type": "markdown",
   "id": "38764bb2-f62d-442e-b39d-4e28271a221b",
   "metadata": {},
   "source": [
    "Info from Leaderboard: score to beat: 0,89"
   ]
  },
  {
   "cell_type": "code",
   "execution_count": null,
   "id": "c648c816-dc0a-4748-b0f4-8b9ba9bed238",
   "metadata": {},
   "outputs": [],
   "source": [
    "import pandas as pd\n",
    "from datetime import datetime, date, time, timedelta\n",
    "import seaborn as sns\n",
    "import plotly.express as px\n",
    "import matplotlib.pyplot as plt\n",
    "import numpy as np"
   ]
  },
  {
   "cell_type": "code",
   "execution_count": null,
   "id": "94291c31-b9be-49be-a5da-9ff9b580e2f4",
   "metadata": {},
   "outputs": [],
   "source": [
    "!pip install plotly"
   ]
  },
  {
   "cell_type": "code",
   "execution_count": null,
   "id": "75696f30-238b-48f3-b75c-1bf910193b9e",
   "metadata": {},
   "outputs": [],
   "source": [
    "# Load the variable names\n",
    "variable_meanings = pd.read_csv(\"data/variable meanings.csv\")\n",
    "pd.set_option('max_colwidth', 800)\n",
    "variable_meanings"
   ]
  },
  {
   "cell_type": "markdown",
   "id": "01f2d99f-0968-4617-b22d-21a5dd93b05d",
   "metadata": {},
   "source": [
    "## Results from Pandas Profile\n",
    "1. There is only one `CurrencyCode`, that means there is no additional information provided by this feature ==> Drop CurrencyCode\n",
    "2. There is only one CountryCode, that means there is no additional information provided by this feature ==> Drop CountryCode\n",
    "3. TransactionIDs are all distinct, that means there is no additional information provided ==> Drop TransactionIds\n",
    "4. TransactionStartTime consist of timestamps. For further analysis ==> group them into timeframes (use \"datetime\")\n",
    "5. Amount contains + and - values (due to debit/credit) ==> we need to create a column with debit credit and transform \"amount\" to absolut values\n",
    "6. Extreeeemely imbalanced target value ==> Oversampling? ==> read further information / links auf zindi nutzen\n",
    "7. Definition for column  CustomerID and AccountId seems to be mixed up\n",
    "\n",
    "8. Transform variable amount (log) due to skewness ==> no log function for negative values ==> we won't use this variable in model\n",
    "9. Transform variable value or value (USD) (log) due to skewness => we choose ValueUSD (smaller values)\n",
    "(10.Transform variable Providerid (log) due to skewness)\n"
   ]
  },
  {
   "cell_type": "code",
   "execution_count": null,
   "id": "b74be5f8-76eb-446a-805d-9013f8307886",
   "metadata": {},
   "outputs": [],
   "source": [
    "# Load the data\n",
    "data_test = pd.read_csv(\"data/test.csv\")\n",
    "data_train = pd.read_csv(\"data/training.csv\")\n"
   ]
  },
  {
   "cell_type": "code",
   "execution_count": null,
   "id": "1c3af7f2-491f-4b85-b296-b8fd900d1f19",
   "metadata": {},
   "outputs": [],
   "source": [
    "data_train.head()"
   ]
  },
  {
   "cell_type": "code",
   "execution_count": null,
   "id": "909c2139-b0fc-485f-91c0-996b28f421ad",
   "metadata": {
    "tags": []
   },
   "outputs": [],
   "source": [
    "data_train.shape"
   ]
  },
  {
   "cell_type": "markdown",
   "id": "1a6963f1-7d4b-4fe9-b104-36ceca43f867",
   "metadata": {},
   "source": [
    "---\n",
    "\n",
    "## Data cleaning\n",
    "\n",
    "* Stripped the ID columns from non-integer characters and converted them to integers\n",
    "* Separated TransactionStartTime into transactiontime and transactiondate\n",
    "* Drop redundant columns"
   ]
  },
  {
   "cell_type": "code",
   "execution_count": null,
   "id": "367e94ed-ec2e-44bc-9889-690d1d54780a",
   "metadata": {},
   "outputs": [],
   "source": [
    "def remove_letters(string):\n",
    "    return int(string.split('_')[1])\n",
    "    \n",
    "id_columns = [\"TransactionId\",\"BatchId\",\"AccountId\",\"SubscriptionId\",\"CustomerId\",\"ProviderId\",\"ProductId\",\"ChannelId\"]    \n",
    "for i in id_columns:\n",
    "    data_train[i] = data_train[i].apply(lambda x:remove_letters(x))"
   ]
  },
  {
   "cell_type": "code",
   "execution_count": null,
   "id": "2cd10424-c18a-46e9-90cd-a6f612656d8d",
   "metadata": {},
   "outputs": [],
   "source": [
    "data_train.head()"
   ]
  },
  {
   "cell_type": "code",
   "execution_count": null,
   "id": "2da62bd0-21c6-43ae-9617-3a425a216c2c",
   "metadata": {},
   "outputs": [],
   "source": [
    "# seperate `TransactionStartTime` into time and date\n",
    "def convert_to_date(date):\n",
    "    # convert field into datetime format\n",
    "    d = datetime.strptime(date,'%Y-%m-%dT%H:%M:%SZ')\n",
    "    # extract date\n",
    "    return d.date()\n",
    "\n",
    "def convert_to_time(date):\n",
    "    d = datetime.strptime(date,'%Y-%m-%dT%H:%M:%SZ')\n",
    "    # extract time\n",
    "    return d.time()\n",
    "\n",
    "# create new columns with seperate information for `TransactionTime` and `TransactionDate`\n",
    "data_train['TransactionTime'] = data_train.TransactionStartTime.apply(lambda x: convert_to_time(x))\n",
    "data_train['TransactionDate'] = data_train.TransactionStartTime.apply(lambda x: convert_to_date(x))"
   ]
  },
  {
   "cell_type": "markdown",
   "id": "b0f6d73b-3fe4-4450-95d5-0f149af673be",
   "metadata": {},
   "source": [
    "Consolidate times into seperate blocks:\n",
    "\n",
    "1. 00:00 - 05:59 (night)\n",
    "2. 06:00 - 09:59 (morning)\n",
    "3. 10:00 - 13:59 (midday)\n",
    "4. 14:00 - 17:59 (afternoon)\n",
    "5. 18:00 - 23:59 (evening)"
   ]
  },
  {
   "cell_type": "code",
   "execution_count": null,
   "id": "5c691912-f349-4626-8f8a-6d4e96785c98",
   "metadata": {},
   "outputs": [],
   "source": [
    "# verify that time scale is 0-23\n",
    "#data_train.TransactionTime.apply(lambda x: x.hour).value_counts()"
   ]
  },
  {
   "cell_type": "code",
   "execution_count": null,
   "id": "133837fd-fc74-4474-8b24-4b5a97eed163",
   "metadata": {},
   "outputs": [],
   "source": [
    "# apply day time consolidation\n",
    "def consolidate_time(time):\n",
    "    if time.hour < 6:\n",
    "        return 'night'\n",
    "    elif time.hour < 10:\n",
    "        return 'morning'\n",
    "    elif time.hour < 14:\n",
    "        return 'midday'\n",
    "    elif time.hour < 18:\n",
    "        return 'afternoon'\n",
    "    else:\n",
    "        return 'evening'\n",
    "    \n",
    "data_train['DayTime'] = data_train.TransactionTime.apply(lambda x: consolidate_time(x))"
   ]
  },
  {
   "cell_type": "code",
   "execution_count": null,
   "id": "53f7f7de-00b3-46d9-a0ee-a98257755ba5",
   "metadata": {},
   "outputs": [],
   "source": [
    "# extract weekdays from `TransactionDate`\n",
    "data_train['TransactionWeekday'] = data_train.TransactionDate.apply(lambda x: x.isoweekday())"
   ]
  },
  {
   "cell_type": "code",
   "execution_count": null,
   "id": "b3261250-3e13-4772-ad9f-03fb1c6090c1",
   "metadata": {},
   "outputs": [],
   "source": [
    "# create new feature to distinguish between Debit (0) and Credit (1)\n",
    "data_train['DebitCredit'] = data_train.Amount.apply(lambda x: 0 if x > 0 else 1)"
   ]
  },
  {
   "cell_type": "code",
   "execution_count": null,
   "id": "5fdaa11f-902a-4122-a062-d75bb6884c00",
   "metadata": {},
   "outputs": [],
   "source": [
    "# add column for value in USD (1 UGX = 0.00028 USD (12.01.2022, UTC 12:10))\n",
    "data_train['ValueUSD'] = data_train.Value.apply(lambda x: x * 0.00028)"
   ]
  },
  {
   "cell_type": "markdown",
   "id": "b18b8c7b-fa37-408f-9d18-4417368cdabb",
   "metadata": {},
   "source": [
    "Überlegungen Feature Engineering:\n",
    "    - Spalte einfügen mit Anzahl der Transaktionen je Batch ==> prüfen ob Auffälligkeit der Batchgröße bei Frauds\n",
    "    - Spalte einfügen mit Amount != Value : Absolutbetrag Differenz nutzen\n",
    "    - Spalte einfügen mit Anzahl der bis zum Zeitpunkt der aktuellen Transaktion (Transactions to date) getätigten Transaktionen je Account"
   ]
  },
  {
   "cell_type": "code",
   "execution_count": null,
   "id": "dc18dad5-d4b6-4690-99ed-a15d401dfbf7",
   "metadata": {},
   "outputs": [],
   "source": [
    "def convert_to_isoweek(date):\n",
    "    return date.isocalendar()[1]\n",
    "\n",
    "data_train['ISOWeek'] = data_train.TransactionDate.apply(lambda x: convert_to_isoweek(x))"
   ]
  },
  {
   "cell_type": "code",
   "execution_count": null,
   "id": "0efc3124-7d94-4c9e-9b24-cc5de197083d",
   "metadata": {},
   "outputs": [],
   "source": [
    "# 2. Step (after first models) create new feature Transaktion per Batch\n",
    "a = data_train.groupby('BatchId', as_index=False)['TransactionId'].count()\n",
    "#a.unique()\n",
    "a.rename(columns= {'TransactionId': 'TransactionInBatch' }, inplace=True)\n",
    "data_train = data_train.merge(a, on='BatchId')\n",
    "data_train.head()"
   ]
  },
  {
   "cell_type": "code",
   "execution_count": null,
   "id": "877bd0f9-b12c-4332-b798-006fb8e50b37",
   "metadata": {},
   "outputs": [],
   "source": [
    "# 2. Step (after first models) Difference Amount and Value \n",
    "\n",
    "data_train['value_amount_diff'] = abs(data_train[\"Value\"] - data_train[\"Amount\"])\n",
    "data_train.head()"
   ]
  },
  {
   "cell_type": "code",
   "execution_count": null,
   "id": "d1ee458e-88ab-4234-9198-ce45778ffed3",
   "metadata": {},
   "outputs": [],
   "source": [
    "# 2. Step (after first models) \n",
    "def convert_to_datetime(date):\n",
    "    # convert field into datetime format\n",
    "    d = datetime.strptime(date,'%Y-%m-%dT%H:%M:%SZ')\n",
    "    # extract date\n",
    "    return d\n",
    "data_train['DT'] = data_train.TransactionStartTime.apply(lambda x: convert_to_datetime(x))"
   ]
  },
  {
   "cell_type": "code",
   "execution_count": null,
   "id": "c3b8db16-4fa5-4e81-904e-75835350ad0b",
   "metadata": {},
   "outputs": [],
   "source": [
    "# 2. Step (after first models) \n",
    "# only ONE account_id\n",
    "def transactions_toDate(df, transaction_id, account_id):\n",
    "    \"\"\"\n",
    "    returns dataframe\n",
    "    \"\"\"\n",
    "    # create empty dictionary\n",
    "    TTD = {'t_id': [], 'a_id': [], \n",
    "           'TransactionsToDate': []}#, 'date': []}\n",
    "\n",
    "    count = 0\n",
    "    # iterate through all transaction ids for one account id and assign counts\n",
    "    for t in transaction_id:\n",
    "        TTD['t_id'] += [t]\n",
    "        TTD['a_id'] += [account_id]\n",
    "        TTD['TransactionsToDate'] += [count]\n",
    "        count += 1\n",
    "    # return counts in data frame format \n",
    "    return pd.DataFrame.from_dict(TTD)"
   ]
  },
  {
   "cell_type": "code",
   "execution_count": null,
   "id": "2e395c8d-6e9c-427c-b6cd-4a2b1d119bf8",
   "metadata": {},
   "outputs": [],
   "source": [
    "temp = pd.DataFrame()\n",
    "for i in data_train.AccountId.unique():\n",
    "    df = data_train.query('AccountId == @i')\n",
    "    \n",
    "    # count seperately for every sub set of account ids\n",
    "    TTD = transactions_toDate(df, df.TransactionId,i)\n",
    "    # add counts vertically to temporary data frame\n",
    "    temp = pd.concat([temp, TTD], axis=0)"
   ]
  },
  {
   "cell_type": "code",
   "execution_count": null,
   "id": "e8a391e4-4732-4e78-8e39-c0eaa71f49e8",
   "metadata": {
    "tags": []
   },
   "outputs": [],
   "source": [
    "data_train = data_train.merge(temp, left_on='TransactionId', right_on='t_id')\n",
    "data_train.drop(['t_id', 'a_id'], inplace=True, axis=1)"
   ]
  },
  {
   "cell_type": "code",
   "execution_count": null,
   "id": "b7bba96e-b019-4e27-a7df-5be1b5a7a5f6",
   "metadata": {},
   "outputs": [],
   "source": [
    "Value_Amount = data_train.query('abs(Value) != abs(Amount) and FraudResult ==1')[['Value','Amount','ProductId','BatchId']]"
   ]
  },
  {
   "cell_type": "code",
   "execution_count": null,
   "id": "61c0690e-d205-4dd8-b214-d1d79f4ccbc8",
   "metadata": {},
   "outputs": [],
   "source": [
    "Value_Amount['dif']= abs(Value_Amount.Value - Value_Amount.Amount)\n",
    "Value_Amount"
   ]
  },
  {
   "cell_type": "code",
   "execution_count": null,
   "id": "fc7fcc85-30c0-48e1-88ed-7eee9e3f2c0a",
   "metadata": {},
   "outputs": [],
   "source": [
    "# 2565 rows with differences in Value/Amount ==> maybe drop these rows later"
   ]
  },
  {
   "cell_type": "code",
   "execution_count": null,
   "id": "721f3776-069c-403d-b17d-523db7a873df",
   "metadata": {},
   "outputs": [],
   "source": [
    "#data_train.groupby('AccountId')['CustomerId'].count()\n",
    "#sorted(data_train.groupby('CustomerId')['AccountId'].count(), reverse = True )"
   ]
  },
  {
   "cell_type": "code",
   "execution_count": null,
   "id": "9c707785-ef79-48e3-8392-37318b647e72",
   "metadata": {},
   "outputs": [],
   "source": [
    "data_train.query('AccountId != SubscriptionId')[['AccountId','SubscriptionId']]"
   ]
  },
  {
   "cell_type": "markdown",
   "id": "6b79df52-083f-4f5a-a7bf-adf6ab1ccfa4",
   "metadata": {},
   "source": [
    "==>SubscriptionId und AccountID sind immer unterschiedlich!"
   ]
  },
  {
   "cell_type": "code",
   "execution_count": null,
   "id": "86076304-0c4c-43d5-ad70-f6767565b6f3",
   "metadata": {},
   "outputs": [],
   "source": [
    "data_train.query('AccountId == CustomerId')[['AccountId','CustomerId','FraudResult']]"
   ]
  },
  {
   "cell_type": "code",
   "execution_count": null,
   "id": "80b827b6-5aa2-456e-aa87-8c87c36fb54d",
   "metadata": {},
   "outputs": [],
   "source": [
    "data_train.head()"
   ]
  },
  {
   "cell_type": "code",
   "execution_count": null,
   "id": "eeb6d5e5-b445-423f-8c99-6339517ef81c",
   "metadata": {},
   "outputs": [],
   "source": [
    "# drop columns that do not convey additional meaning\n",
    "#'TransactionId' ==> remove later before modelling\n",
    "cols_to_drop = ['CurrencyCode', 'CountryCode', 'TransactionStartTime', 'BatchId','DT','TransactionTime','Amount','ValueUSD','TransactionDate']\n",
    "data_train_clean = data_train.drop(columns=cols_to_drop, inplace=False)\n",
    "data_train_clean.to_csv('data/data_train_clean.csv')"
   ]
  },
  {
   "cell_type": "code",
   "execution_count": null,
   "id": "a76252e2-7b41-4a89-a875-1e215eebb9d5",
   "metadata": {},
   "outputs": [],
   "source": [
    "data_train_clean.head()"
   ]
  },
  {
   "cell_type": "code",
   "execution_count": null,
   "id": "96d9cbe8-c39c-4ebe-b7e9-0ee1caee81a8",
   "metadata": {},
   "outputs": [],
   "source": [
    "fraudparts= data_train_clean.groupby('FraudResult')['TransactionId'].count()\n",
    "fraudparts"
   ]
  },
  {
   "cell_type": "code",
   "execution_count": null,
   "id": "c0e20868-6670-4dfc-8f48-c07925579a68",
   "metadata": {},
   "outputs": [],
   "source": [
    "fraudcosts= data_train_clean.groupby('FraudResult')['Value'].sum()\n",
    "fraudcosts"
   ]
  },
  {
   "cell_type": "code",
   "execution_count": null,
   "id": "a54bf2af-a7be-4e16-9197-39d0342d07a4",
   "metadata": {},
   "outputs": [],
   "source": [
    "debitcredit= data_train_clean.query('FraudResult == 1').groupby('DebitCredit')['Value'].sum()\n",
    "debitcredit"
   ]
  },
  {
   "cell_type": "code",
   "execution_count": null,
   "id": "49122dd6-a508-4fb0-ab99-bf7bd06aa3a0",
   "metadata": {},
   "outputs": [],
   "source": [
    "pivot1 = pd.pivot_table(data_train_clean, values='TransactionId', index='ProductId', columns='ProductCategory', aggfunc ='count')\n",
    "pivot1.fillna('0', inplace = True)\n",
    "pivot1"
   ]
  },
  {
   "cell_type": "code",
   "execution_count": null,
   "id": "3c5d35a6-e6c3-48fd-ad87-bd53cfc2e6da",
   "metadata": {},
   "outputs": [],
   "source": [
    "pivot1 = pd.pivot_table(data_train_clean, values='Value', index='FraudResult', columns='ProductCategory', aggfunc =sum)\n",
    "pivot1"
   ]
  },
  {
   "cell_type": "markdown",
   "id": "17d63e2b-45d2-45c4-b55a-4d21b93c049b",
   "metadata": {},
   "source": [
    "- Columns Transactionweekday: Unauffällig\n",
    "- Columns Daytime: Unauffällig"
   ]
  },
  {
   "cell_type": "code",
   "execution_count": null,
   "id": "1f4bbdfb-50e6-4190-a90a-45c7eae3c749",
   "metadata": {},
   "outputs": [],
   "source": [
    "pivot2 = pd.pivot_table(data_train_clean.query('FraudResult ==1'), values='TransactionId', index='PricingStrategy', columns='ProductId', aggfunc ='count')\n",
    "pivot2.fillna('0', inplace = True)\n",
    "pivot2"
   ]
  },
  {
   "cell_type": "code",
   "execution_count": null,
   "id": "8173edb1-54a3-4950-b370-ba9a25d7866a",
   "metadata": {},
   "outputs": [],
   "source": [
    "pivot2a = pd.pivot_table(data_train_clean.query('FraudResult ==1'), values='Value', index='PricingStrategy', columns='ProductId', aggfunc ='sum')\n",
    "pivot2a.fillna('0', inplace = True)\n",
    "pivot2a\n"
   ]
  },
  {
   "cell_type": "markdown",
   "id": "370e4a13-f2fe-4d60-beef-29da57ea9709",
   "metadata": {},
   "source": [
    "===> Häufung der Frauds bei Konstellation PricingStrategy=2 und ProductId=15"
   ]
  },
  {
   "cell_type": "code",
   "execution_count": null,
   "id": "332ff634-b0aa-47f5-913f-c8e42648d954",
   "metadata": {},
   "outputs": [],
   "source": [
    "pivot3 = pd.pivot_table(data_train.query('abs(Value) != abs(Amount)'), values='TransactionId', index='FraudResult', columns='ProductId', aggfunc ='count')\n",
    "pivot3"
   ]
  },
  {
   "cell_type": "markdown",
   "id": "a3bbd777-b4e7-4b0e-9643-2dd3478f8277",
   "metadata": {},
   "source": [
    "Überlegungen Feature Engineering:\n",
    "    - Spalte einfügen mit Anzahl der Transaktionen je Batch ==> prüfen ob Auffälligkeit der Batchgröße bei Frauds\n",
    "    - Spalte einfügen mit Amount != Value : Absolutbetrag differenz nutzen\n",
    "    - Spalte einfügen mit Anzahl der bis zum Zeitpunkt der aktuellen Transaktion (Transactions to date) getätigten Transaktionen je Account"
   ]
  },
  {
   "cell_type": "code",
   "execution_count": null,
   "id": "505554d8-1e86-4fda-9c4b-723321f9f39c",
   "metadata": {},
   "outputs": [],
   "source": [
    "pivot4 = pd.pivot_table(data_train.query('FraudResult ==1'), values='TransactionId', index='TransactionInBatch', columns='FraudResult', aggfunc ='count')\n",
    "pivot4 = pd.DataFrame(pivot4)\n",
    "pivot4"
   ]
  },
  {
   "cell_type": "code",
   "execution_count": null,
   "id": "e3d44d38-ac57-4872-8746-7baa744ecfa3",
   "metadata": {},
   "outputs": [],
   "source": [
    "ax = pivot4.T.plot(kind='bar', ylabel='Amount frauds', xlabel= 'Transaction per Batch',title='Transactions per Batch (frauds)',color=['darkcyan','darkslategrey','cyan'])\n",
    "#plt.xticks( [1,12,4] );\n"
   ]
  },
  {
   "cell_type": "code",
   "execution_count": null,
   "id": "3bb2a791-b07e-43f0-a54a-50dfe850e7d1",
   "metadata": {},
   "outputs": [],
   "source": [
    "pivot6 = pd.pivot_table(data_train.query('FraudResult ==1'), values='TransactionId', index='AccountId', columns='FraudResult', aggfunc ='count')\n",
    "pivot6 = pivot6[1].sort_values(ascending = False)\n",
    "pivot6"
   ]
  },
  {
   "cell_type": "code",
   "execution_count": null,
   "id": "a4918dde-8dab-4a6d-9e27-96a6055eb909",
   "metadata": {},
   "outputs": [],
   "source": [
    "pivot5 = pd.pivot_table(data_train.query('FraudResult ==1'), values='TransactionId', index='TransactionsToDate', columns='FraudResult', aggfunc ='count')\n",
    "pivot5 = pd.DataFrame(pivot5)\n"
   ]
  },
  {
   "cell_type": "markdown",
   "id": "fe3c91e4-88b9-42da-865e-5c3874ef7611",
   "metadata": {},
   "source": [
    "### Data Visualization"
   ]
  },
  {
   "cell_type": "code",
   "execution_count": null,
   "id": "73194234-3c6b-4d98-8926-55f9d241fcac",
   "metadata": {},
   "outputs": [],
   "source": [
    "px.pie(data_train_clean.groupby('DebitCredit').count()[['TransactionId']].reset_index(), values = 'TransactionId', names ='DebitCredit',title='Percentage of Debit and Credit',color_discrete_sequence=px.colors.qualitative.Prism )"
   ]
  },
  {
   "cell_type": "markdown",
   "id": "53e3e4d8-ac37-4c8d-8f4c-3784ebbabacb",
   "metadata": {
    "tags": []
   },
   "source": [
    "### Transform Data"
   ]
  },
  {
   "cell_type": "markdown",
   "id": "bf8df574-4ea5-4715-87dc-f6ed3876080e",
   "metadata": {},
   "source": [
    "\n",
    "9. Transform variable value or value (USD) (log) due to skewness\n",
    "(10.Transform variable Providerid (log) due to skewness)"
   ]
  },
  {
   "cell_type": "code",
   "execution_count": null,
   "id": "5cfa2fbf-228d-4bde-860a-cb5585734ded",
   "metadata": {},
   "outputs": [],
   "source": [
    "data_train_clean['ValueLog']=np.log(data_train_clean.Value)"
   ]
  },
  {
   "cell_type": "markdown",
   "id": "60465df3-6b29-49aa-8771-49976a8225a9",
   "metadata": {},
   "source": [
    "### Dataframe for model"
   ]
  },
  {
   "cell_type": "code",
   "execution_count": null,
   "id": "c5f7339b-55ea-4b77-bbf7-bfd6e313d2c5",
   "metadata": {},
   "outputs": [],
   "source": [
    "data_train_clean.columns"
   ]
  },
  {
   "cell_type": "code",
   "execution_count": null,
   "id": "9615e38f-20c3-4176-a554-88340d7cfbe3",
   "metadata": {},
   "outputs": [],
   "source": [
    "cols_to_drop = ['Value','TransactionId', 'SubscriptionId']\n",
    "df = data_train_clean.drop(columns=cols_to_drop, inplace=False)"
   ]
  },
  {
   "cell_type": "code",
   "execution_count": null,
   "id": "0492e56e-7260-4b87-9349-55175b68ff09",
   "metadata": {},
   "outputs": [],
   "source": [
    "df = pd.get_dummies(df, columns = ['ProviderId', 'ProductId', 'ProductCategory', 'ChannelId', 'PricingStrategy', 'DayTime','TransactionWeekday','DebitCredit'], drop_first=True)\n"
   ]
  },
  {
   "cell_type": "code",
   "execution_count": null,
   "id": "5a0638e5-4ace-4730-8138-69267cc71d3e",
   "metadata": {},
   "outputs": [],
   "source": [
    "df.to_csv('data/data_train_clean_withdummies.csv', index = False)"
   ]
  },
  {
   "cell_type": "code",
   "execution_count": null,
   "id": "9a453b64-e49b-456a-a082-904965f98341",
   "metadata": {},
   "outputs": [],
   "source": []
  }
 ],
 "metadata": {
  "kernelspec": {
   "display_name": "Python 3 (ipykernel)",
   "language": "python",
   "name": "python3"
  },
  "language_info": {
   "codemirror_mode": {
    "name": "ipython",
    "version": 3
   },
   "file_extension": ".py",
   "mimetype": "text/x-python",
   "name": "python",
   "nbconvert_exporter": "python",
   "pygments_lexer": "ipython3",
   "version": "3.9.4"
  }
 },
 "nbformat": 4,
 "nbformat_minor": 5
}
