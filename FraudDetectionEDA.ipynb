{
 "cells": [
  {
   "cell_type": "markdown",
   "id": "10e5ee88-1915-4c78-a289-4f0861a42f7d",
   "metadata": {},
   "source": [
    "## Description\n",
    "The objective of this competition is to create a machine learning model to detect fraudulent transactions.\n",
    "\n",
    "Fraud detection is an important application of machine learning in the financial services sector. This solution will help Xente provide improved and safer service to its customers.\n",
    "\n",
    "This competition is sponsored by Xente, Innovation Village, and insight2impact."
   ]
  },
  {
   "cell_type": "markdown",
   "id": "a1d6fbaf-cca6-4eff-a552-1cf359912666",
   "metadata": {},
   "source": [
    "## Data\n",
    "Xente is an e-commerce and financial service app serving 10,000+ customers in Uganda.\n",
    "\n",
    "This dataset includes a sample of approximately 140,000 transactions that occurred between 15 November 2018 and 15 March 2019.\n",
    "\n",
    "One of the challenges of fraud detection problems is that the data is highly imbalanced. \n",
    "\n",
    "Xente_variable_definitions.csv: Definition of the features per transaction\n",
    "Training.csv: Transactions from 15 November 2018 to 13 February 2019, including whether or not each transaction is fraudulent. You will use this file to train your model.\n",
    "Test.csv: Transactions from 13 February 2019 to 14 March 2019, not including whether or not each transaction is fraudulent. You will test your model on this file.\n",
    "sample_submission.csv: is an example of what your submission file should look like. The order of the rows does not matter, but the names of the TransactionId must be correct. The value in FraudResult will be 1 for is a Fraud and 0 for is not a fraud."
   ]
  },
  {
   "cell_type": "markdown",
   "id": "49032cef-fe19-4a17-86f9-434387501f55",
   "metadata": {},
   "source": [
    "## Evaluation\n",
    "The error metric for this competition is the F1 score, which ranges from 0 (total failure) to 1 (perfect score). Hence, the closer your score is to 1, the better your model.\n",
    "\n",
    "F1 Score: A performance score that combines both precision and recall. It is a harmonic mean of these two variables. Formula is given as: 2*Precision*Recall/(Precision + Recall)\n",
    "\n",
    "Precision: This is an indicator of the number of items correctly identified as positive out of total items identified as positive. Formula is given as: TP/(TP+FP)\n",
    "\n",
    "Recall / Sensitivity / True Positive Rate (TPR): This is an indicator of the number of items correctly identified as positive out of total actual positives. Formula is given as: TP/(TP+FN)\n",
    "\n",
    "Where:\n",
    "\n",
    "TP=True Positive\n",
    "FP=False Positive\n",
    "TN=True Negative\n",
    "FN=False Negative"
   ]
  },
  {
   "cell_type": "markdown",
   "id": "38764bb2-f62d-442e-b39d-4e28271a221b",
   "metadata": {},
   "source": [
    "Info from Leaderboard: score to beat: 0,89"
   ]
  },
  {
   "cell_type": "code",
   "execution_count": null,
   "id": "c648c816-dc0a-4748-b0f4-8b9ba9bed238",
   "metadata": {},
   "outputs": [],
   "source": [
    "import pandas as pd"
   ]
  },
  {
   "cell_type": "code",
   "execution_count": null,
   "id": "75696f30-238b-48f3-b75c-1bf910193b9e",
   "metadata": {},
   "outputs": [],
   "source": [
    "# Load the variable names\n",
    "variable_meanings = pd.read_csv(\"data/variable meanings.csv\")\n",
    "pd.set_option('max_colwidth', 800)\n",
    "variable_meanings"
   ]
  },
  {
   "cell_type": "code",
   "execution_count": null,
   "id": "b74be5f8-76eb-446a-805d-9013f8307886",
   "metadata": {},
   "outputs": [],
   "source": [
    "# Load the data\n",
    "data_test = pd.read_csv(\"data/test.csv\")\n",
    "data_train = pd.read_csv(\"data/training.csv\")"
   ]
  },
  {
   "cell_type": "code",
   "execution_count": null,
   "id": "ffa6c11b-82a8-4686-a433-29980a5b3152",
   "metadata": {},
   "outputs": [],
   "source": [
    "data_train.head()\n",
    "#data_train.shape"
   ]
  },
  {
   "cell_type": "code",
   "execution_count": null,
   "id": "bec39ac3-586e-4d0a-b0df-32b40b19c8d6",
   "metadata": {},
   "outputs": [],
   "source": [
    "frauds = data_train.query('FraudResult == 1')"
   ]
  },
  {
   "cell_type": "code",
   "execution_count": null,
   "id": "c2323325-a095-414a-92a9-3daf7c4515e7",
   "metadata": {},
   "outputs": [],
   "source": [
    "data_train.query('CustomerId == \"CustomerId_4406\" ')\n",
    "and AccountId == \"AccountId_3957\""
   ]
  },
  {
   "cell_type": "code",
   "execution_count": null,
   "id": "f65b028d-c403-44b4-b898-1d41326810dd",
   "metadata": {},
   "outputs": [],
   "source": [
    "data_train.query('CustomerId == \"CustomerId_3957\" ')\n",
    "#and AccountId == \"AccountId_4406\""
   ]
  },
  {
   "cell_type": "code",
   "execution_count": null,
   "id": "0239adbf-d2bf-4931-ab40-9fc9f4769d1e",
   "metadata": {},
   "outputs": [],
   "source": [
    "data_train.query('Amount<0 and CustomerId== \"CustomerId_4841\"')"
   ]
  },
  {
   "cell_type": "code",
   "execution_count": null,
   "id": "0ae7327c-36f0-408f-98a1-6aacb3c98110",
   "metadata": {},
   "outputs": [],
   "source": [
    "data_train.info()"
   ]
  },
  {
   "cell_type": "markdown",
   "id": "01f2d99f-0968-4617-b22d-21a5dd93b05d",
   "metadata": {},
   "source": [
    "## Results from Pandas Profile\n",
    "1. There is only one CurrencyCode, that means there is no additional information provided by this feature ==> Drop CurrencyCode\n",
    "2. There is only one CountryCode, that means there is no additional information provided by this feature ==> Drop CountryCode\n",
    "3. TransactionIDs are all distinct, that means there is no additional information provided ==> Drop TransactionIds\n",
    "4. TransactionStartTime consist of timestamps. For further analysis ==> group them into timeframes (use \"datetime\")\n",
    "5. Amount contains + and - values (due to debit/credit) ==> we need to create a column with debit credit and transform \"amount\" to absolut values\n",
    "6. Extreeeemely imbalanced target value ==> Oversampling? ==> read further information / links auf zindi nutzen\n",
    "7. Definition for column  CustomerID and AccountId seems to be mixed up"
   ]
  },
  {
   "cell_type": "code",
   "execution_count": null,
   "id": "a40e389e-3f9c-4bcb-b9a0-270ec8f0cd8d",
   "metadata": {},
   "outputs": [],
   "source": [
    "data_train.Amount.describe()"
   ]
  },
  {
   "cell_type": "code",
   "execution_count": null,
   "id": "5de3dbb9-c67b-45fe-b3c0-cf2369d0b854",
   "metadata": {},
   "outputs": [],
   "source": [
    "data_train.Amount.value_counts()"
   ]
  },
  {
   "cell_type": "code",
   "execution_count": null,
   "id": "feb4836c-d19a-4e34-ac52-afa3adbd2596",
   "metadata": {},
   "outputs": [],
   "source": [
    "data_train.Amount.plot.hist(bins=50, ylim=(0,200))"
   ]
  },
  {
   "cell_type": "code",
   "execution_count": null,
   "id": "612023fb-bf48-4203-9fb3-cdd01d88cba7",
   "metadata": {},
   "outputs": [],
   "source": []
  }
 ],
 "metadata": {
  "kernelspec": {
   "display_name": "Python 3 (ipykernel)",
   "language": "python",
   "name": "python3"
  },
  "language_info": {
   "codemirror_mode": {
    "name": "ipython",
    "version": 3
   },
   "file_extension": ".py",
   "mimetype": "text/x-python",
   "name": "python",
   "nbconvert_exporter": "python",
   "pygments_lexer": "ipython3",
   "version": "3.9.4"
  }
 },
 "nbformat": 4,
 "nbformat_minor": 5
}
