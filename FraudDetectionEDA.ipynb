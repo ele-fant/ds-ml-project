{
 "cells": [
  {
   "cell_type": "markdown",
   "id": "10e5ee88-1915-4c78-a289-4f0861a42f7d",
   "metadata": {},
   "source": [
    "## Description\n",
    "The objective of this competition is to create a machine learning model to detect fraudulent transactions.\n",
    "\n",
    "Fraud detection is an important application of machine learning in the financial services sector. This solution will help Xente provide improved and safer service to its customers.\n",
    "\n",
    "This competition is sponsored by Xente, Innovation Village, and insight2impact."
   ]
  },
  {
   "cell_type": "markdown",
   "id": "a1d6fbaf-cca6-4eff-a552-1cf359912666",
   "metadata": {},
   "source": [
    "## Data\n",
    "Xente is an e-commerce and financial service app serving 10,000+ customers in Uganda.\n",
    "\n",
    "This dataset includes a sample of approximately 140,000 transactions that occurred between 15 November 2018 and 15 March 2019.\n",
    "\n",
    "One of the challenges of fraud detection problems is that the data is highly imbalanced. "
   ]
  },
  {
   "cell_type": "markdown",
   "id": "49032cef-fe19-4a17-86f9-434387501f55",
   "metadata": {},
   "source": [
    "## Evaluation\n",
    "The error metric for this competition is the F1 score, which ranges from 0 (total failure) to 1 (perfect score). Hence, the closer your score is to 1, the better your model.\n",
    "\n",
    "-F1 Score: A performance score that combines both precision and recall. It is a harmonic mean of these two variables. \n",
    "Formula is given as: 2*Precision*Recall/(Precision + Recall)\n",
    "\n",
    "-Precision: This is an indicator of the number of items correctly identified as positive out of total items identified as positive.\n",
    "Formula is given as: TP/(TP+FP)\n",
    "\n",
    "-Recall / Sensitivity / True Positive Rate (TPR): This is an indicator of the number of items correctly identified as positive out of total actual positives. \n",
    "Formula is given as: TP/(TP+FN)\n",
    "\n",
    "Where:\n",
    "\n",
    "TP=True Positive\n",
    "FP=False Positive\n",
    "TN=True Negative\n",
    "FN=False Negative"
   ]
  },
  {
   "cell_type": "code",
   "execution_count": 1,
   "id": "94291c31-b9be-49be-a5da-9ff9b580e2f4",
   "metadata": {},
   "outputs": [
    {
     "name": "stdout",
     "output_type": "stream",
     "text": [
      "Requirement already satisfied: plotly in ./.venv/lib/python3.9/site-packages (5.5.0)\n",
      "Requirement already satisfied: tenacity>=6.2.0 in ./.venv/lib/python3.9/site-packages (from plotly) (8.0.1)\n",
      "Requirement already satisfied: six in ./.venv/lib/python3.9/site-packages (from plotly) (1.16.0)\n",
      "\u001b[33mWARNING: You are using pip version 21.3.1; however, version 22.0.3 is available.\n",
      "You should consider upgrading via the '/Users/danielastuermer/neuefische/ds-ml-project/.venv/bin/python -m pip install --upgrade pip' command.\u001b[0m\n"
     ]
    }
   ],
   "source": [
    "!pip install plotly"
   ]
  },
  {
   "cell_type": "code",
   "execution_count": 2,
   "id": "c648c816-dc0a-4748-b0f4-8b9ba9bed238",
   "metadata": {},
   "outputs": [],
   "source": [
    "import pandas as pd\n",
    "from datetime import datetime, date, time, timedelta\n",
    "import seaborn as sns\n",
    "import plotly.express as px\n",
    "import matplotlib.pyplot as plt\n",
    "import numpy as np"
   ]
  },
  {
   "cell_type": "code",
   "execution_count": 3,
   "id": "75696f30-238b-48f3-b75c-1bf910193b9e",
   "metadata": {},
   "outputs": [
    {
     "data": {
      "text/html": [
       "<div>\n",
       "<style scoped>\n",
       "    .dataframe tbody tr th:only-of-type {\n",
       "        vertical-align: middle;\n",
       "    }\n",
       "\n",
       "    .dataframe tbody tr th {\n",
       "        vertical-align: top;\n",
       "    }\n",
       "\n",
       "    .dataframe thead th {\n",
       "        text-align: right;\n",
       "    }\n",
       "</style>\n",
       "<table border=\"1\" class=\"dataframe\">\n",
       "  <thead>\n",
       "    <tr style=\"text-align: right;\">\n",
       "      <th></th>\n",
       "      <th>Column Name</th>\n",
       "      <th>Definition</th>\n",
       "    </tr>\n",
       "  </thead>\n",
       "  <tbody>\n",
       "    <tr>\n",
       "      <th>0</th>\n",
       "      <td>TransactionId</td>\n",
       "      <td>Unique ï¿½transaction identifier on platform</td>\n",
       "    </tr>\n",
       "    <tr>\n",
       "      <th>1</th>\n",
       "      <td>BatchId</td>\n",
       "      <td>Unique number assigned to a batch of transactions for processing</td>\n",
       "    </tr>\n",
       "    <tr>\n",
       "      <th>2</th>\n",
       "      <td>AccountId</td>\n",
       "      <td>Unique number identifying the customer on platform</td>\n",
       "    </tr>\n",
       "    <tr>\n",
       "      <th>3</th>\n",
       "      <td>SubscriptionId</td>\n",
       "      <td>Unique number identifying the customer subscription</td>\n",
       "    </tr>\n",
       "    <tr>\n",
       "      <th>4</th>\n",
       "      <td>CustomerId</td>\n",
       "      <td>Unique identifier attached to Account</td>\n",
       "    </tr>\n",
       "    <tr>\n",
       "      <th>5</th>\n",
       "      <td>CurrencyCode</td>\n",
       "      <td>Country currency</td>\n",
       "    </tr>\n",
       "    <tr>\n",
       "      <th>6</th>\n",
       "      <td>CountryCode</td>\n",
       "      <td>Numerical geographical code of country</td>\n",
       "    </tr>\n",
       "    <tr>\n",
       "      <th>7</th>\n",
       "      <td>ProviderId</td>\n",
       "      <td>Source provider of Item ï¿½bought.</td>\n",
       "    </tr>\n",
       "    <tr>\n",
       "      <th>8</th>\n",
       "      <td>ProductId</td>\n",
       "      <td>Item name being bought.</td>\n",
       "    </tr>\n",
       "    <tr>\n",
       "      <th>9</th>\n",
       "      <td>ProductCategory</td>\n",
       "      <td>ProductIds are organized into these broader product categories.</td>\n",
       "    </tr>\n",
       "    <tr>\n",
       "      <th>10</th>\n",
       "      <td>ChannelId</td>\n",
       "      <td>Identifies if customer used web,Android, IOS, pay later or checkout.</td>\n",
       "    </tr>\n",
       "    <tr>\n",
       "      <th>11</th>\n",
       "      <td>Amount</td>\n",
       "      <td>Value of the transaction. Positive for debits from customer account and negative for credit into customer account</td>\n",
       "    </tr>\n",
       "    <tr>\n",
       "      <th>12</th>\n",
       "      <td>Value</td>\n",
       "      <td>Absolute value of the amount</td>\n",
       "    </tr>\n",
       "    <tr>\n",
       "      <th>13</th>\n",
       "      <td>TransactionStartTime</td>\n",
       "      <td>Transaction start time</td>\n",
       "    </tr>\n",
       "    <tr>\n",
       "      <th>14</th>\n",
       "      <td>PricingStrategy</td>\n",
       "      <td>Category of Xente's pricing structure for merchants</td>\n",
       "    </tr>\n",
       "    <tr>\n",
       "      <th>15</th>\n",
       "      <td>FraudResult</td>\n",
       "      <td>Fraud status of transaction 1 -yes or 0-No</td>\n",
       "    </tr>\n",
       "  </tbody>\n",
       "</table>\n",
       "</div>"
      ],
      "text/plain": [
       "             Column Name  \\\n",
       "0          TransactionId   \n",
       "1                BatchId   \n",
       "2              AccountId   \n",
       "3         SubscriptionId   \n",
       "4             CustomerId   \n",
       "5           CurrencyCode   \n",
       "6            CountryCode   \n",
       "7             ProviderId   \n",
       "8              ProductId   \n",
       "9        ProductCategory   \n",
       "10             ChannelId   \n",
       "11                Amount   \n",
       "12                 Value   \n",
       "13  TransactionStartTime   \n",
       "14       PricingStrategy   \n",
       "15           FraudResult   \n",
       "\n",
       "                                                                                                           Definition  \n",
       "0                                                                        Unique ï¿½transaction identifier on platform  \n",
       "1                                                    Unique number assigned to a batch of transactions for processing  \n",
       "2                                                                  Unique number identifying the customer on platform  \n",
       "3                                                                 Unique number identifying the customer subscription  \n",
       "4                                                                               Unique identifier attached to Account  \n",
       "5                                                                                                    Country currency  \n",
       "6                                                                              Numerical geographical code of country  \n",
       "7                                                                                  Source provider of Item ï¿½bought.  \n",
       "8                                                                                             Item name being bought.  \n",
       "9                                                     ProductIds are organized into these broader product categories.  \n",
       "10                                               Identifies if customer used web,Android, IOS, pay later or checkout.  \n",
       "11  Value of the transaction. Positive for debits from customer account and negative for credit into customer account  \n",
       "12                                                                                       Absolute value of the amount  \n",
       "13                                                                                             Transaction start time  \n",
       "14                                                                Category of Xente's pricing structure for merchants  \n",
       "15                                                                         Fraud status of transaction 1 -yes or 0-No  "
      ]
     },
     "execution_count": 3,
     "metadata": {},
     "output_type": "execute_result"
    }
   ],
   "source": [
    "# Load the variable names\n",
    "variable_meanings = pd.read_csv(\"data/variable meanings.csv\")\n",
    "pd.set_option('max_colwidth', 800)\n",
    "variable_meanings"
   ]
  },
  {
   "cell_type": "markdown",
   "id": "01f2d99f-0968-4617-b22d-21a5dd93b05d",
   "metadata": {
    "tags": []
   },
   "source": [
    "## Results from Pandas Profile\n",
    "1. There is only one CurrencyCode, that means there is no additional information provided by this feature ==> Drop CurrencyCode\n",
    "2. There is only one CountryCode, that means there is no additional information provided by this feature ==> Drop CountryCode\n",
    "3. TransactionIDs are all distinct, that means there is no additional information provided ==> Drop TransactionIds\n",
    "4. TransactionStartTime consist of timestamps. For further analysis ==> group them into timeframes (use \"datetime\")\n",
    "5. Amount contains + and - values (due to debit/credit) ==> We need to create a column with debit credit and transform \"amount\" to absolut values\n",
    "6. Extremly imbalanced target value ==> We need to do Oversampling\n",
    "7. Definition for column  CustomerID and AccountId seems to be mixed up\n",
    "8. Transform variable value or value (log) due to skewness "
   ]
  },
  {
   "cell_type": "code",
   "execution_count": 4,
   "id": "b74be5f8-76eb-446a-805d-9013f8307886",
   "metadata": {},
   "outputs": [],
   "source": [
    "# Load the data\n",
    "data_test = pd.read_csv(\"data/test.csv\")\n",
    "data_train = pd.read_csv(\"data/training.csv\")\n"
   ]
  },
  {
   "cell_type": "code",
   "execution_count": 5,
   "id": "1c3af7f2-491f-4b85-b296-b8fd900d1f19",
   "metadata": {},
   "outputs": [
    {
     "data": {
      "text/html": [
       "<div>\n",
       "<style scoped>\n",
       "    .dataframe tbody tr th:only-of-type {\n",
       "        vertical-align: middle;\n",
       "    }\n",
       "\n",
       "    .dataframe tbody tr th {\n",
       "        vertical-align: top;\n",
       "    }\n",
       "\n",
       "    .dataframe thead th {\n",
       "        text-align: right;\n",
       "    }\n",
       "</style>\n",
       "<table border=\"1\" class=\"dataframe\">\n",
       "  <thead>\n",
       "    <tr style=\"text-align: right;\">\n",
       "      <th></th>\n",
       "      <th>TransactionId</th>\n",
       "      <th>BatchId</th>\n",
       "      <th>AccountId</th>\n",
       "      <th>SubscriptionId</th>\n",
       "      <th>CustomerId</th>\n",
       "      <th>CurrencyCode</th>\n",
       "      <th>CountryCode</th>\n",
       "      <th>ProviderId</th>\n",
       "      <th>ProductId</th>\n",
       "      <th>ProductCategory</th>\n",
       "      <th>ChannelId</th>\n",
       "      <th>Amount</th>\n",
       "      <th>Value</th>\n",
       "      <th>TransactionStartTime</th>\n",
       "      <th>PricingStrategy</th>\n",
       "      <th>FraudResult</th>\n",
       "    </tr>\n",
       "  </thead>\n",
       "  <tbody>\n",
       "    <tr>\n",
       "      <th>0</th>\n",
       "      <td>TransactionId_76871</td>\n",
       "      <td>BatchId_36123</td>\n",
       "      <td>AccountId_3957</td>\n",
       "      <td>SubscriptionId_887</td>\n",
       "      <td>CustomerId_4406</td>\n",
       "      <td>UGX</td>\n",
       "      <td>256</td>\n",
       "      <td>ProviderId_6</td>\n",
       "      <td>ProductId_10</td>\n",
       "      <td>airtime</td>\n",
       "      <td>ChannelId_3</td>\n",
       "      <td>1000.0</td>\n",
       "      <td>1000</td>\n",
       "      <td>2018-11-15T02:18:49Z</td>\n",
       "      <td>2</td>\n",
       "      <td>0</td>\n",
       "    </tr>\n",
       "    <tr>\n",
       "      <th>1</th>\n",
       "      <td>TransactionId_73770</td>\n",
       "      <td>BatchId_15642</td>\n",
       "      <td>AccountId_4841</td>\n",
       "      <td>SubscriptionId_3829</td>\n",
       "      <td>CustomerId_4406</td>\n",
       "      <td>UGX</td>\n",
       "      <td>256</td>\n",
       "      <td>ProviderId_4</td>\n",
       "      <td>ProductId_6</td>\n",
       "      <td>financial_services</td>\n",
       "      <td>ChannelId_2</td>\n",
       "      <td>-20.0</td>\n",
       "      <td>20</td>\n",
       "      <td>2018-11-15T02:19:08Z</td>\n",
       "      <td>2</td>\n",
       "      <td>0</td>\n",
       "    </tr>\n",
       "    <tr>\n",
       "      <th>2</th>\n",
       "      <td>TransactionId_26203</td>\n",
       "      <td>BatchId_53941</td>\n",
       "      <td>AccountId_4229</td>\n",
       "      <td>SubscriptionId_222</td>\n",
       "      <td>CustomerId_4683</td>\n",
       "      <td>UGX</td>\n",
       "      <td>256</td>\n",
       "      <td>ProviderId_6</td>\n",
       "      <td>ProductId_1</td>\n",
       "      <td>airtime</td>\n",
       "      <td>ChannelId_3</td>\n",
       "      <td>500.0</td>\n",
       "      <td>500</td>\n",
       "      <td>2018-11-15T02:44:21Z</td>\n",
       "      <td>2</td>\n",
       "      <td>0</td>\n",
       "    </tr>\n",
       "    <tr>\n",
       "      <th>3</th>\n",
       "      <td>TransactionId_380</td>\n",
       "      <td>BatchId_102363</td>\n",
       "      <td>AccountId_648</td>\n",
       "      <td>SubscriptionId_2185</td>\n",
       "      <td>CustomerId_988</td>\n",
       "      <td>UGX</td>\n",
       "      <td>256</td>\n",
       "      <td>ProviderId_1</td>\n",
       "      <td>ProductId_21</td>\n",
       "      <td>utility_bill</td>\n",
       "      <td>ChannelId_3</td>\n",
       "      <td>20000.0</td>\n",
       "      <td>21800</td>\n",
       "      <td>2018-11-15T03:32:55Z</td>\n",
       "      <td>2</td>\n",
       "      <td>0</td>\n",
       "    </tr>\n",
       "    <tr>\n",
       "      <th>4</th>\n",
       "      <td>TransactionId_28195</td>\n",
       "      <td>BatchId_38780</td>\n",
       "      <td>AccountId_4841</td>\n",
       "      <td>SubscriptionId_3829</td>\n",
       "      <td>CustomerId_988</td>\n",
       "      <td>UGX</td>\n",
       "      <td>256</td>\n",
       "      <td>ProviderId_4</td>\n",
       "      <td>ProductId_6</td>\n",
       "      <td>financial_services</td>\n",
       "      <td>ChannelId_2</td>\n",
       "      <td>-644.0</td>\n",
       "      <td>644</td>\n",
       "      <td>2018-11-15T03:34:21Z</td>\n",
       "      <td>2</td>\n",
       "      <td>0</td>\n",
       "    </tr>\n",
       "  </tbody>\n",
       "</table>\n",
       "</div>"
      ],
      "text/plain": [
       "         TransactionId         BatchId       AccountId       SubscriptionId  \\\n",
       "0  TransactionId_76871   BatchId_36123  AccountId_3957   SubscriptionId_887   \n",
       "1  TransactionId_73770   BatchId_15642  AccountId_4841  SubscriptionId_3829   \n",
       "2  TransactionId_26203   BatchId_53941  AccountId_4229   SubscriptionId_222   \n",
       "3    TransactionId_380  BatchId_102363   AccountId_648  SubscriptionId_2185   \n",
       "4  TransactionId_28195   BatchId_38780  AccountId_4841  SubscriptionId_3829   \n",
       "\n",
       "        CustomerId CurrencyCode  CountryCode    ProviderId     ProductId  \\\n",
       "0  CustomerId_4406          UGX          256  ProviderId_6  ProductId_10   \n",
       "1  CustomerId_4406          UGX          256  ProviderId_4   ProductId_6   \n",
       "2  CustomerId_4683          UGX          256  ProviderId_6   ProductId_1   \n",
       "3   CustomerId_988          UGX          256  ProviderId_1  ProductId_21   \n",
       "4   CustomerId_988          UGX          256  ProviderId_4   ProductId_6   \n",
       "\n",
       "      ProductCategory    ChannelId   Amount  Value  TransactionStartTime  \\\n",
       "0             airtime  ChannelId_3   1000.0   1000  2018-11-15T02:18:49Z   \n",
       "1  financial_services  ChannelId_2    -20.0     20  2018-11-15T02:19:08Z   \n",
       "2             airtime  ChannelId_3    500.0    500  2018-11-15T02:44:21Z   \n",
       "3        utility_bill  ChannelId_3  20000.0  21800  2018-11-15T03:32:55Z   \n",
       "4  financial_services  ChannelId_2   -644.0    644  2018-11-15T03:34:21Z   \n",
       "\n",
       "   PricingStrategy  FraudResult  \n",
       "0                2            0  \n",
       "1                2            0  \n",
       "2                2            0  \n",
       "3                2            0  \n",
       "4                2            0  "
      ]
     },
     "execution_count": 5,
     "metadata": {},
     "output_type": "execute_result"
    }
   ],
   "source": [
    "data_train.head()"
   ]
  },
  {
   "cell_type": "code",
   "execution_count": 6,
   "id": "909c2139-b0fc-485f-91c0-996b28f421ad",
   "metadata": {
    "tags": []
   },
   "outputs": [
    {
     "data": {
      "text/plain": [
       "(95662, 16)"
      ]
     },
     "execution_count": 6,
     "metadata": {},
     "output_type": "execute_result"
    }
   ],
   "source": [
    "data_train.shape"
   ]
  },
  {
   "cell_type": "markdown",
   "id": "1a6963f1-7d4b-4fe9-b104-36ceca43f867",
   "metadata": {},
   "source": [
    "---\n",
    "\n",
    "## Data cleaning and creating new features\n",
    "\n",
    "* Stripped the ID columns from non-integer characters and converted them to integers\n",
    "* Separated TransactionStartTime into transactiontime and transactiondate\n",
    "* Drop redundant columns"
   ]
  },
  {
   "cell_type": "code",
   "execution_count": 7,
   "id": "367e94ed-ec2e-44bc-9889-690d1d54780a",
   "metadata": {},
   "outputs": [],
   "source": [
    "def remove_letters(string):\n",
    "    return int(string.split('_')[1])\n",
    "    \n",
    "id_columns = [\"TransactionId\",\"BatchId\",\"AccountId\",\"SubscriptionId\",\"CustomerId\",\"ProviderId\",\"ProductId\",\"ChannelId\"]    \n",
    "for i in id_columns:\n",
    "    data_train[i] = data_train[i].apply(lambda x:remove_letters(x))"
   ]
  },
  {
   "cell_type": "code",
   "execution_count": 8,
   "id": "2da62bd0-21c6-43ae-9617-3a425a216c2c",
   "metadata": {},
   "outputs": [],
   "source": [
    "# seperate `TransactionStartTime` into time and date\n",
    "def convert_to_date(date):\n",
    "    # convert field into datetime format\n",
    "    d = datetime.strptime(date,'%Y-%m-%dT%H:%M:%SZ')\n",
    "    # extract date\n",
    "    return d.date()\n",
    "\n",
    "def convert_to_time(date):\n",
    "    d = datetime.strptime(date,'%Y-%m-%dT%H:%M:%SZ')\n",
    "    # extract time\n",
    "    return d.time()\n",
    "\n",
    "# create new columns with seperate information for `TransactionTime` and `TransactionDate`\n",
    "data_train['TransactionTime'] = data_train.TransactionStartTime.apply(lambda x: convert_to_time(x))\n",
    "data_train['TransactionDate'] = data_train.TransactionStartTime.apply(lambda x: convert_to_date(x))"
   ]
  },
  {
   "cell_type": "markdown",
   "id": "b0f6d73b-3fe4-4450-95d5-0f149af673be",
   "metadata": {},
   "source": [
    "Consolidate times into seperate blocks:\n",
    "\n",
    "1. 00:00 - 05:59 (night)\n",
    "2. 06:00 - 09:59 (morning)\n",
    "3. 10:00 - 13:59 (midday)\n",
    "4. 14:00 - 17:59 (afternoon)\n",
    "5. 18:00 - 23:59 (evening)"
   ]
  },
  {
   "cell_type": "code",
   "execution_count": 9,
   "id": "5c691912-f349-4626-8f8a-6d4e96785c98",
   "metadata": {},
   "outputs": [],
   "source": [
    "# verify that time scale is 0-23\n",
    "#data_train.TransactionTime.apply(lambda x: x.hour).value_counts()"
   ]
  },
  {
   "cell_type": "code",
   "execution_count": 10,
   "id": "133837fd-fc74-4474-8b24-4b5a97eed163",
   "metadata": {},
   "outputs": [],
   "source": [
    "# apply day time consolidation\n",
    "def consolidate_time(time):\n",
    "    if time.hour < 6:\n",
    "        return 'night'\n",
    "    elif time.hour < 10:\n",
    "        return 'morning'\n",
    "    elif time.hour < 14:\n",
    "        return 'midday'\n",
    "    elif time.hour < 18:\n",
    "        return 'afternoon'\n",
    "    else:\n",
    "        return 'evening'\n",
    "    \n",
    "data_train['DayTime'] = data_train.TransactionTime.apply(lambda x: consolidate_time(x))"
   ]
  },
  {
   "cell_type": "code",
   "execution_count": 11,
   "id": "53f7f7de-00b3-46d9-a0ee-a98257755ba5",
   "metadata": {},
   "outputs": [],
   "source": [
    "# extract weekdays from `TransactionDate`\n",
    "data_train['TransactionWeekday'] = data_train.TransactionDate.apply(lambda x: x.isoweekday())"
   ]
  },
  {
   "cell_type": "code",
   "execution_count": 12,
   "id": "b3261250-3e13-4772-ad9f-03fb1c6090c1",
   "metadata": {},
   "outputs": [],
   "source": [
    "# create new feature to distinguish between Debit (0) and Credit (1)\n",
    "data_train['DebitCredit'] = data_train.Amount.apply(lambda x: 0 if x > 0 else 1)"
   ]
  },
  {
   "cell_type": "code",
   "execution_count": 13,
   "id": "5fdaa11f-902a-4122-a062-d75bb6884c00",
   "metadata": {},
   "outputs": [],
   "source": [
    "# add column for value in USD (1 UGX = 0.00028 USD (12.01.2022, UTC 12:10))\n",
    "data_train['ValueUSD'] = data_train.Value.apply(lambda x: x * 0.00028)"
   ]
  },
  {
   "cell_type": "code",
   "execution_count": 14,
   "id": "dc18dad5-d4b6-4690-99ed-a15d401dfbf7",
   "metadata": {},
   "outputs": [],
   "source": [
    "# create new feature with week (iso) of transaction\n",
    "def convert_to_isoweek(date):\n",
    "    return date.isocalendar()[1]\n",
    "\n",
    "data_train['ISOWeek'] = data_train.TransactionDate.apply(lambda x: convert_to_isoweek(x))"
   ]
  },
  {
   "cell_type": "code",
   "execution_count": 15,
   "id": "0efc3124-7d94-4c9e-9b24-cc5de197083d",
   "metadata": {},
   "outputs": [
    {
     "data": {
      "text/html": [
       "<div>\n",
       "<style scoped>\n",
       "    .dataframe tbody tr th:only-of-type {\n",
       "        vertical-align: middle;\n",
       "    }\n",
       "\n",
       "    .dataframe tbody tr th {\n",
       "        vertical-align: top;\n",
       "    }\n",
       "\n",
       "    .dataframe thead th {\n",
       "        text-align: right;\n",
       "    }\n",
       "</style>\n",
       "<table border=\"1\" class=\"dataframe\">\n",
       "  <thead>\n",
       "    <tr style=\"text-align: right;\">\n",
       "      <th></th>\n",
       "      <th>TransactionId</th>\n",
       "      <th>BatchId</th>\n",
       "      <th>AccountId</th>\n",
       "      <th>SubscriptionId</th>\n",
       "      <th>CustomerId</th>\n",
       "      <th>CurrencyCode</th>\n",
       "      <th>CountryCode</th>\n",
       "      <th>ProviderId</th>\n",
       "      <th>ProductId</th>\n",
       "      <th>ProductCategory</th>\n",
       "      <th>...</th>\n",
       "      <th>PricingStrategy</th>\n",
       "      <th>FraudResult</th>\n",
       "      <th>TransactionTime</th>\n",
       "      <th>TransactionDate</th>\n",
       "      <th>DayTime</th>\n",
       "      <th>TransactionWeekday</th>\n",
       "      <th>DebitCredit</th>\n",
       "      <th>ValueUSD</th>\n",
       "      <th>ISOWeek</th>\n",
       "      <th>TransactionInBatch</th>\n",
       "    </tr>\n",
       "  </thead>\n",
       "  <tbody>\n",
       "    <tr>\n",
       "      <th>0</th>\n",
       "      <td>76871</td>\n",
       "      <td>36123</td>\n",
       "      <td>3957</td>\n",
       "      <td>887</td>\n",
       "      <td>4406</td>\n",
       "      <td>UGX</td>\n",
       "      <td>256</td>\n",
       "      <td>6</td>\n",
       "      <td>10</td>\n",
       "      <td>airtime</td>\n",
       "      <td>...</td>\n",
       "      <td>2</td>\n",
       "      <td>0</td>\n",
       "      <td>02:18:49</td>\n",
       "      <td>2018-11-15</td>\n",
       "      <td>night</td>\n",
       "      <td>4</td>\n",
       "      <td>0</td>\n",
       "      <td>0.28000</td>\n",
       "      <td>46</td>\n",
       "      <td>1</td>\n",
       "    </tr>\n",
       "    <tr>\n",
       "      <th>1</th>\n",
       "      <td>73770</td>\n",
       "      <td>15642</td>\n",
       "      <td>4841</td>\n",
       "      <td>3829</td>\n",
       "      <td>4406</td>\n",
       "      <td>UGX</td>\n",
       "      <td>256</td>\n",
       "      <td>4</td>\n",
       "      <td>6</td>\n",
       "      <td>financial_services</td>\n",
       "      <td>...</td>\n",
       "      <td>2</td>\n",
       "      <td>0</td>\n",
       "      <td>02:19:08</td>\n",
       "      <td>2018-11-15</td>\n",
       "      <td>night</td>\n",
       "      <td>4</td>\n",
       "      <td>1</td>\n",
       "      <td>0.00560</td>\n",
       "      <td>46</td>\n",
       "      <td>1</td>\n",
       "    </tr>\n",
       "    <tr>\n",
       "      <th>2</th>\n",
       "      <td>26203</td>\n",
       "      <td>53941</td>\n",
       "      <td>4229</td>\n",
       "      <td>222</td>\n",
       "      <td>4683</td>\n",
       "      <td>UGX</td>\n",
       "      <td>256</td>\n",
       "      <td>6</td>\n",
       "      <td>1</td>\n",
       "      <td>airtime</td>\n",
       "      <td>...</td>\n",
       "      <td>2</td>\n",
       "      <td>0</td>\n",
       "      <td>02:44:21</td>\n",
       "      <td>2018-11-15</td>\n",
       "      <td>night</td>\n",
       "      <td>4</td>\n",
       "      <td>0</td>\n",
       "      <td>0.14000</td>\n",
       "      <td>46</td>\n",
       "      <td>1</td>\n",
       "    </tr>\n",
       "    <tr>\n",
       "      <th>3</th>\n",
       "      <td>380</td>\n",
       "      <td>102363</td>\n",
       "      <td>648</td>\n",
       "      <td>2185</td>\n",
       "      <td>988</td>\n",
       "      <td>UGX</td>\n",
       "      <td>256</td>\n",
       "      <td>1</td>\n",
       "      <td>21</td>\n",
       "      <td>utility_bill</td>\n",
       "      <td>...</td>\n",
       "      <td>2</td>\n",
       "      <td>0</td>\n",
       "      <td>03:32:55</td>\n",
       "      <td>2018-11-15</td>\n",
       "      <td>night</td>\n",
       "      <td>4</td>\n",
       "      <td>0</td>\n",
       "      <td>6.10400</td>\n",
       "      <td>46</td>\n",
       "      <td>1</td>\n",
       "    </tr>\n",
       "    <tr>\n",
       "      <th>4</th>\n",
       "      <td>28195</td>\n",
       "      <td>38780</td>\n",
       "      <td>4841</td>\n",
       "      <td>3829</td>\n",
       "      <td>988</td>\n",
       "      <td>UGX</td>\n",
       "      <td>256</td>\n",
       "      <td>4</td>\n",
       "      <td>6</td>\n",
       "      <td>financial_services</td>\n",
       "      <td>...</td>\n",
       "      <td>2</td>\n",
       "      <td>0</td>\n",
       "      <td>03:34:21</td>\n",
       "      <td>2018-11-15</td>\n",
       "      <td>night</td>\n",
       "      <td>4</td>\n",
       "      <td>1</td>\n",
       "      <td>0.18032</td>\n",
       "      <td>46</td>\n",
       "      <td>1</td>\n",
       "    </tr>\n",
       "  </tbody>\n",
       "</table>\n",
       "<p>5 rows × 24 columns</p>\n",
       "</div>"
      ],
      "text/plain": [
       "   TransactionId  BatchId  AccountId  SubscriptionId  CustomerId CurrencyCode  \\\n",
       "0          76871    36123       3957             887        4406          UGX   \n",
       "1          73770    15642       4841            3829        4406          UGX   \n",
       "2          26203    53941       4229             222        4683          UGX   \n",
       "3            380   102363        648            2185         988          UGX   \n",
       "4          28195    38780       4841            3829         988          UGX   \n",
       "\n",
       "   CountryCode  ProviderId  ProductId     ProductCategory  ...  \\\n",
       "0          256           6         10             airtime  ...   \n",
       "1          256           4          6  financial_services  ...   \n",
       "2          256           6          1             airtime  ...   \n",
       "3          256           1         21        utility_bill  ...   \n",
       "4          256           4          6  financial_services  ...   \n",
       "\n",
       "   PricingStrategy  FraudResult  TransactionTime TransactionDate  DayTime  \\\n",
       "0                2            0         02:18:49      2018-11-15    night   \n",
       "1                2            0         02:19:08      2018-11-15    night   \n",
       "2                2            0         02:44:21      2018-11-15    night   \n",
       "3                2            0         03:32:55      2018-11-15    night   \n",
       "4                2            0         03:34:21      2018-11-15    night   \n",
       "\n",
       "   TransactionWeekday DebitCredit ValueUSD ISOWeek  TransactionInBatch  \n",
       "0                   4           0  0.28000      46                   1  \n",
       "1                   4           1  0.00560      46                   1  \n",
       "2                   4           0  0.14000      46                   1  \n",
       "3                   4           0  6.10400      46                   1  \n",
       "4                   4           1  0.18032      46                   1  \n",
       "\n",
       "[5 rows x 24 columns]"
      ]
     },
     "execution_count": 15,
     "metadata": {},
     "output_type": "execute_result"
    }
   ],
   "source": [
    "# 2. Step (after first models) create new feature \"Transactions per Batch\" ==> counts number of transactions per BatchId\n",
    "a = data_train.groupby('BatchId', as_index=False)['TransactionId'].count()\n",
    "#a.unique()\n",
    "a.rename(columns= {'TransactionId': 'TransactionInBatch' }, inplace=True)\n",
    "data_train = data_train.merge(a, on='BatchId')\n",
    "data_train.head()"
   ]
  },
  {
   "cell_type": "code",
   "execution_count": 16,
   "id": "877bd0f9-b12c-4332-b798-006fb8e50b37",
   "metadata": {},
   "outputs": [
    {
     "data": {
      "text/html": [
       "<div>\n",
       "<style scoped>\n",
       "    .dataframe tbody tr th:only-of-type {\n",
       "        vertical-align: middle;\n",
       "    }\n",
       "\n",
       "    .dataframe tbody tr th {\n",
       "        vertical-align: top;\n",
       "    }\n",
       "\n",
       "    .dataframe thead th {\n",
       "        text-align: right;\n",
       "    }\n",
       "</style>\n",
       "<table border=\"1\" class=\"dataframe\">\n",
       "  <thead>\n",
       "    <tr style=\"text-align: right;\">\n",
       "      <th></th>\n",
       "      <th>TransactionId</th>\n",
       "      <th>BatchId</th>\n",
       "      <th>AccountId</th>\n",
       "      <th>SubscriptionId</th>\n",
       "      <th>CustomerId</th>\n",
       "      <th>CurrencyCode</th>\n",
       "      <th>CountryCode</th>\n",
       "      <th>ProviderId</th>\n",
       "      <th>ProductId</th>\n",
       "      <th>ProductCategory</th>\n",
       "      <th>...</th>\n",
       "      <th>FraudResult</th>\n",
       "      <th>TransactionTime</th>\n",
       "      <th>TransactionDate</th>\n",
       "      <th>DayTime</th>\n",
       "      <th>TransactionWeekday</th>\n",
       "      <th>DebitCredit</th>\n",
       "      <th>ValueUSD</th>\n",
       "      <th>ISOWeek</th>\n",
       "      <th>TransactionInBatch</th>\n",
       "      <th>value_amount_diff</th>\n",
       "    </tr>\n",
       "  </thead>\n",
       "  <tbody>\n",
       "    <tr>\n",
       "      <th>0</th>\n",
       "      <td>76871</td>\n",
       "      <td>36123</td>\n",
       "      <td>3957</td>\n",
       "      <td>887</td>\n",
       "      <td>4406</td>\n",
       "      <td>UGX</td>\n",
       "      <td>256</td>\n",
       "      <td>6</td>\n",
       "      <td>10</td>\n",
       "      <td>airtime</td>\n",
       "      <td>...</td>\n",
       "      <td>0</td>\n",
       "      <td>02:18:49</td>\n",
       "      <td>2018-11-15</td>\n",
       "      <td>night</td>\n",
       "      <td>4</td>\n",
       "      <td>0</td>\n",
       "      <td>0.28000</td>\n",
       "      <td>46</td>\n",
       "      <td>1</td>\n",
       "      <td>0.0</td>\n",
       "    </tr>\n",
       "    <tr>\n",
       "      <th>1</th>\n",
       "      <td>73770</td>\n",
       "      <td>15642</td>\n",
       "      <td>4841</td>\n",
       "      <td>3829</td>\n",
       "      <td>4406</td>\n",
       "      <td>UGX</td>\n",
       "      <td>256</td>\n",
       "      <td>4</td>\n",
       "      <td>6</td>\n",
       "      <td>financial_services</td>\n",
       "      <td>...</td>\n",
       "      <td>0</td>\n",
       "      <td>02:19:08</td>\n",
       "      <td>2018-11-15</td>\n",
       "      <td>night</td>\n",
       "      <td>4</td>\n",
       "      <td>1</td>\n",
       "      <td>0.00560</td>\n",
       "      <td>46</td>\n",
       "      <td>1</td>\n",
       "      <td>40.0</td>\n",
       "    </tr>\n",
       "    <tr>\n",
       "      <th>2</th>\n",
       "      <td>26203</td>\n",
       "      <td>53941</td>\n",
       "      <td>4229</td>\n",
       "      <td>222</td>\n",
       "      <td>4683</td>\n",
       "      <td>UGX</td>\n",
       "      <td>256</td>\n",
       "      <td>6</td>\n",
       "      <td>1</td>\n",
       "      <td>airtime</td>\n",
       "      <td>...</td>\n",
       "      <td>0</td>\n",
       "      <td>02:44:21</td>\n",
       "      <td>2018-11-15</td>\n",
       "      <td>night</td>\n",
       "      <td>4</td>\n",
       "      <td>0</td>\n",
       "      <td>0.14000</td>\n",
       "      <td>46</td>\n",
       "      <td>1</td>\n",
       "      <td>0.0</td>\n",
       "    </tr>\n",
       "    <tr>\n",
       "      <th>3</th>\n",
       "      <td>380</td>\n",
       "      <td>102363</td>\n",
       "      <td>648</td>\n",
       "      <td>2185</td>\n",
       "      <td>988</td>\n",
       "      <td>UGX</td>\n",
       "      <td>256</td>\n",
       "      <td>1</td>\n",
       "      <td>21</td>\n",
       "      <td>utility_bill</td>\n",
       "      <td>...</td>\n",
       "      <td>0</td>\n",
       "      <td>03:32:55</td>\n",
       "      <td>2018-11-15</td>\n",
       "      <td>night</td>\n",
       "      <td>4</td>\n",
       "      <td>0</td>\n",
       "      <td>6.10400</td>\n",
       "      <td>46</td>\n",
       "      <td>1</td>\n",
       "      <td>1800.0</td>\n",
       "    </tr>\n",
       "    <tr>\n",
       "      <th>4</th>\n",
       "      <td>28195</td>\n",
       "      <td>38780</td>\n",
       "      <td>4841</td>\n",
       "      <td>3829</td>\n",
       "      <td>988</td>\n",
       "      <td>UGX</td>\n",
       "      <td>256</td>\n",
       "      <td>4</td>\n",
       "      <td>6</td>\n",
       "      <td>financial_services</td>\n",
       "      <td>...</td>\n",
       "      <td>0</td>\n",
       "      <td>03:34:21</td>\n",
       "      <td>2018-11-15</td>\n",
       "      <td>night</td>\n",
       "      <td>4</td>\n",
       "      <td>1</td>\n",
       "      <td>0.18032</td>\n",
       "      <td>46</td>\n",
       "      <td>1</td>\n",
       "      <td>1288.0</td>\n",
       "    </tr>\n",
       "  </tbody>\n",
       "</table>\n",
       "<p>5 rows × 25 columns</p>\n",
       "</div>"
      ],
      "text/plain": [
       "   TransactionId  BatchId  AccountId  SubscriptionId  CustomerId CurrencyCode  \\\n",
       "0          76871    36123       3957             887        4406          UGX   \n",
       "1          73770    15642       4841            3829        4406          UGX   \n",
       "2          26203    53941       4229             222        4683          UGX   \n",
       "3            380   102363        648            2185         988          UGX   \n",
       "4          28195    38780       4841            3829         988          UGX   \n",
       "\n",
       "   CountryCode  ProviderId  ProductId     ProductCategory  ...  FraudResult  \\\n",
       "0          256           6         10             airtime  ...            0   \n",
       "1          256           4          6  financial_services  ...            0   \n",
       "2          256           6          1             airtime  ...            0   \n",
       "3          256           1         21        utility_bill  ...            0   \n",
       "4          256           4          6  financial_services  ...            0   \n",
       "\n",
       "   TransactionTime  TransactionDate DayTime  TransactionWeekday  DebitCredit  \\\n",
       "0         02:18:49       2018-11-15   night                   4            0   \n",
       "1         02:19:08       2018-11-15   night                   4            1   \n",
       "2         02:44:21       2018-11-15   night                   4            0   \n",
       "3         03:32:55       2018-11-15   night                   4            0   \n",
       "4         03:34:21       2018-11-15   night                   4            1   \n",
       "\n",
       "  ValueUSD ISOWeek TransactionInBatch  value_amount_diff  \n",
       "0  0.28000      46                  1                0.0  \n",
       "1  0.00560      46                  1               40.0  \n",
       "2  0.14000      46                  1                0.0  \n",
       "3  6.10400      46                  1             1800.0  \n",
       "4  0.18032      46                  1             1288.0  \n",
       "\n",
       "[5 rows x 25 columns]"
      ]
     },
     "execution_count": 16,
     "metadata": {},
     "output_type": "execute_result"
    }
   ],
   "source": [
    "# 2. Step (after first models) create new feature with difference Amount and Value \n",
    "\n",
    "data_train['value_amount_diff'] = abs(data_train[\"Value\"] - data_train[\"Amount\"])\n",
    "data_train.head()"
   ]
  },
  {
   "cell_type": "code",
   "execution_count": 17,
   "id": "d1ee458e-88ab-4234-9198-ce45778ffed3",
   "metadata": {},
   "outputs": [],
   "source": [
    "# 2. Step (after first models) \n",
    "def convert_to_datetime(date):\n",
    "    # convert field into datetime format\n",
    "    d = datetime.strptime(date,'%Y-%m-%dT%H:%M:%SZ')\n",
    "    # extract date\n",
    "    return d\n",
    "data_train['DT'] = data_train.TransactionStartTime.apply(lambda x: convert_to_datetime(x))"
   ]
  },
  {
   "cell_type": "code",
   "execution_count": 18,
   "id": "c3b8db16-4fa5-4e81-904e-75835350ad0b",
   "metadata": {},
   "outputs": [],
   "source": [
    "# 2. Step (after first models) ==> counts number of transactions per account that happens before the current transaction\n",
    "# only ONE account_id\n",
    "def transactions_toDate(df, transaction_id, account_id):\n",
    "    \"\"\"\n",
    "    returns dataframe\n",
    "    \"\"\"\n",
    "    # create empty dictionary\n",
    "    TTD = {'t_id': [], 'a_id': [], \n",
    "           'TransactionsToDate': []}#, 'date': []}\n",
    "\n",
    "    count = 0\n",
    "    # iterate through all transaction ids for one account id and assign counts\n",
    "    for t in transaction_id:\n",
    "        TTD['t_id'] += [t]\n",
    "        TTD['a_id'] += [account_id]\n",
    "        TTD['TransactionsToDate'] += [count]\n",
    "        count += 1\n",
    "    # return counts in data frame format \n",
    "    return pd.DataFrame.from_dict(TTD)"
   ]
  },
  {
   "cell_type": "code",
   "execution_count": 19,
   "id": "2e395c8d-6e9c-427c-b6cd-4a2b1d119bf8",
   "metadata": {},
   "outputs": [],
   "source": [
    "temp = pd.DataFrame()\n",
    "for i in data_train.AccountId.unique():\n",
    "    df = data_train.query('AccountId == @i')\n",
    "    \n",
    "    # count seperately for every sub set of account ids\n",
    "    TTD = transactions_toDate(df, df.TransactionId,i)\n",
    "    # add counts vertically to temporary data frame\n",
    "    temp = pd.concat([temp, TTD], axis=0)"
   ]
  },
  {
   "cell_type": "code",
   "execution_count": 20,
   "id": "e8a391e4-4732-4e78-8e39-c0eaa71f49e8",
   "metadata": {
    "tags": []
   },
   "outputs": [],
   "source": [
    "data_train = data_train.merge(temp, left_on='TransactionId', right_on='t_id')\n",
    "data_train.drop(['t_id', 'a_id'], inplace=True, axis=1)"
   ]
  },
  {
   "cell_type": "markdown",
   "id": "e101ff9a-ffa9-4887-869d-0e097afae77e",
   "metadata": {},
   "source": [
    "### Data Analysis"
   ]
  },
  {
   "cell_type": "code",
   "execution_count": 21,
   "id": "b7bba96e-b019-4e27-a7df-5be1b5a7a5f6",
   "metadata": {},
   "outputs": [],
   "source": [
    "Value_Amount = data_train.query('abs(Value) != abs(Amount) and FraudResult ==1')[['Value','Amount','ProductId','BatchId']]"
   ]
  },
  {
   "cell_type": "code",
   "execution_count": 22,
   "id": "61c0690e-d205-4dd8-b214-d1d79f4ccbc8",
   "metadata": {},
   "outputs": [
    {
     "data": {
      "text/html": [
       "<div>\n",
       "<style scoped>\n",
       "    .dataframe tbody tr th:only-of-type {\n",
       "        vertical-align: middle;\n",
       "    }\n",
       "\n",
       "    .dataframe tbody tr th {\n",
       "        vertical-align: top;\n",
       "    }\n",
       "\n",
       "    .dataframe thead th {\n",
       "        text-align: right;\n",
       "    }\n",
       "</style>\n",
       "<table border=\"1\" class=\"dataframe\">\n",
       "  <thead>\n",
       "    <tr style=\"text-align: right;\">\n",
       "      <th></th>\n",
       "      <th>Value</th>\n",
       "      <th>Amount</th>\n",
       "      <th>ProductId</th>\n",
       "      <th>BatchId</th>\n",
       "      <th>dif</th>\n",
       "    </tr>\n",
       "  </thead>\n",
       "  <tbody>\n",
       "    <tr>\n",
       "      <th>13831</th>\n",
       "      <td>733000</td>\n",
       "      <td>700000.0</td>\n",
       "      <td>22</td>\n",
       "      <td>93509</td>\n",
       "      <td>33000.0</td>\n",
       "    </tr>\n",
       "    <tr>\n",
       "      <th>42243</th>\n",
       "      <td>521000</td>\n",
       "      <td>500000.0</td>\n",
       "      <td>21</td>\n",
       "      <td>51734</td>\n",
       "      <td>21000.0</td>\n",
       "    </tr>\n",
       "    <tr>\n",
       "      <th>42248</th>\n",
       "      <td>521000</td>\n",
       "      <td>500000.0</td>\n",
       "      <td>21</td>\n",
       "      <td>1552</td>\n",
       "      <td>21000.0</td>\n",
       "    </tr>\n",
       "    <tr>\n",
       "      <th>42258</th>\n",
       "      <td>521000</td>\n",
       "      <td>500000.0</td>\n",
       "      <td>21</td>\n",
       "      <td>56782</td>\n",
       "      <td>21000.0</td>\n",
       "    </tr>\n",
       "    <tr>\n",
       "      <th>42259</th>\n",
       "      <td>521000</td>\n",
       "      <td>500000.0</td>\n",
       "      <td>21</td>\n",
       "      <td>56782</td>\n",
       "      <td>21000.0</td>\n",
       "    </tr>\n",
       "    <tr>\n",
       "      <th>85139</th>\n",
       "      <td>599100</td>\n",
       "      <td>570000.0</td>\n",
       "      <td>13</td>\n",
       "      <td>44669</td>\n",
       "      <td>29100.0</td>\n",
       "    </tr>\n",
       "    <tr>\n",
       "      <th>85474</th>\n",
       "      <td>599137</td>\n",
       "      <td>570035.0</td>\n",
       "      <td>13</td>\n",
       "      <td>105926</td>\n",
       "      <td>29102.0</td>\n",
       "    </tr>\n",
       "    <tr>\n",
       "      <th>85511</th>\n",
       "      <td>599137</td>\n",
       "      <td>570035.0</td>\n",
       "      <td>13</td>\n",
       "      <td>131348</td>\n",
       "      <td>29102.0</td>\n",
       "    </tr>\n",
       "    <tr>\n",
       "      <th>85515</th>\n",
       "      <td>599137</td>\n",
       "      <td>570035.0</td>\n",
       "      <td>13</td>\n",
       "      <td>82467</td>\n",
       "      <td>29102.0</td>\n",
       "    </tr>\n",
       "    <tr>\n",
       "      <th>85583</th>\n",
       "      <td>599100</td>\n",
       "      <td>570000.0</td>\n",
       "      <td>13</td>\n",
       "      <td>5957</td>\n",
       "      <td>29100.0</td>\n",
       "    </tr>\n",
       "    <tr>\n",
       "      <th>85689</th>\n",
       "      <td>599137</td>\n",
       "      <td>570035.0</td>\n",
       "      <td>13</td>\n",
       "      <td>113961</td>\n",
       "      <td>29102.0</td>\n",
       "    </tr>\n",
       "    <tr>\n",
       "      <th>86836</th>\n",
       "      <td>629374</td>\n",
       "      <td>599392.0</td>\n",
       "      <td>22</td>\n",
       "      <td>42862</td>\n",
       "      <td>29982.0</td>\n",
       "    </tr>\n",
       "  </tbody>\n",
       "</table>\n",
       "</div>"
      ],
      "text/plain": [
       "        Value    Amount  ProductId  BatchId      dif\n",
       "13831  733000  700000.0         22    93509  33000.0\n",
       "42243  521000  500000.0         21    51734  21000.0\n",
       "42248  521000  500000.0         21     1552  21000.0\n",
       "42258  521000  500000.0         21    56782  21000.0\n",
       "42259  521000  500000.0         21    56782  21000.0\n",
       "85139  599100  570000.0         13    44669  29100.0\n",
       "85474  599137  570035.0         13   105926  29102.0\n",
       "85511  599137  570035.0         13   131348  29102.0\n",
       "85515  599137  570035.0         13    82467  29102.0\n",
       "85583  599100  570000.0         13     5957  29100.0\n",
       "85689  599137  570035.0         13   113961  29102.0\n",
       "86836  629374  599392.0         22    42862  29982.0"
      ]
     },
     "execution_count": 22,
     "metadata": {},
     "output_type": "execute_result"
    }
   ],
   "source": [
    "Value_Amount['dif']= abs(Value_Amount.Value - Value_Amount.Amount)\n",
    "Value_Amount"
   ]
  },
  {
   "cell_type": "code",
   "execution_count": 23,
   "id": "721f3776-069c-403d-b17d-523db7a873df",
   "metadata": {},
   "outputs": [],
   "source": [
    "#data_train.groupby('AccountId')['CustomerId'].count()\n",
    "#sorted(data_train.groupby('CustomerId')['AccountId'].count(), reverse = True )"
   ]
  },
  {
   "cell_type": "code",
   "execution_count": 24,
   "id": "9c707785-ef79-48e3-8392-37318b647e72",
   "metadata": {},
   "outputs": [
    {
     "data": {
      "text/html": [
       "<div>\n",
       "<style scoped>\n",
       "    .dataframe tbody tr th:only-of-type {\n",
       "        vertical-align: middle;\n",
       "    }\n",
       "\n",
       "    .dataframe tbody tr th {\n",
       "        vertical-align: top;\n",
       "    }\n",
       "\n",
       "    .dataframe thead th {\n",
       "        text-align: right;\n",
       "    }\n",
       "</style>\n",
       "<table border=\"1\" class=\"dataframe\">\n",
       "  <thead>\n",
       "    <tr style=\"text-align: right;\">\n",
       "      <th></th>\n",
       "      <th>AccountId</th>\n",
       "      <th>SubscriptionId</th>\n",
       "    </tr>\n",
       "  </thead>\n",
       "  <tbody>\n",
       "    <tr>\n",
       "      <th>0</th>\n",
       "      <td>3957</td>\n",
       "      <td>887</td>\n",
       "    </tr>\n",
       "    <tr>\n",
       "      <th>1</th>\n",
       "      <td>4841</td>\n",
       "      <td>3829</td>\n",
       "    </tr>\n",
       "    <tr>\n",
       "      <th>2</th>\n",
       "      <td>4229</td>\n",
       "      <td>222</td>\n",
       "    </tr>\n",
       "    <tr>\n",
       "      <th>3</th>\n",
       "      <td>648</td>\n",
       "      <td>2185</td>\n",
       "    </tr>\n",
       "    <tr>\n",
       "      <th>4</th>\n",
       "      <td>4841</td>\n",
       "      <td>3829</td>\n",
       "    </tr>\n",
       "    <tr>\n",
       "      <th>...</th>\n",
       "      <td>...</td>\n",
       "      <td>...</td>\n",
       "    </tr>\n",
       "    <tr>\n",
       "      <th>95657</th>\n",
       "      <td>4841</td>\n",
       "      <td>3829</td>\n",
       "    </tr>\n",
       "    <tr>\n",
       "      <th>95658</th>\n",
       "      <td>3439</td>\n",
       "      <td>2643</td>\n",
       "    </tr>\n",
       "    <tr>\n",
       "      <th>95659</th>\n",
       "      <td>4841</td>\n",
       "      <td>3829</td>\n",
       "    </tr>\n",
       "    <tr>\n",
       "      <th>95660</th>\n",
       "      <td>1346</td>\n",
       "      <td>652</td>\n",
       "    </tr>\n",
       "    <tr>\n",
       "      <th>95661</th>\n",
       "      <td>4841</td>\n",
       "      <td>3829</td>\n",
       "    </tr>\n",
       "  </tbody>\n",
       "</table>\n",
       "<p>95662 rows × 2 columns</p>\n",
       "</div>"
      ],
      "text/plain": [
       "       AccountId  SubscriptionId\n",
       "0           3957             887\n",
       "1           4841            3829\n",
       "2           4229             222\n",
       "3            648            2185\n",
       "4           4841            3829\n",
       "...          ...             ...\n",
       "95657       4841            3829\n",
       "95658       3439            2643\n",
       "95659       4841            3829\n",
       "95660       1346             652\n",
       "95661       4841            3829\n",
       "\n",
       "[95662 rows x 2 columns]"
      ]
     },
     "execution_count": 24,
     "metadata": {},
     "output_type": "execute_result"
    }
   ],
   "source": [
    "data_train.query('AccountId != SubscriptionId')[['AccountId','SubscriptionId']]"
   ]
  },
  {
   "cell_type": "markdown",
   "id": "6b79df52-083f-4f5a-a7bf-adf6ab1ccfa4",
   "metadata": {},
   "source": [
    "==>SubscriptionId und AccountID are different in every transaction case"
   ]
  },
  {
   "cell_type": "code",
   "execution_count": 25,
   "id": "86076304-0c4c-43d5-ad70-f6767565b6f3",
   "metadata": {},
   "outputs": [
    {
     "data": {
      "text/html": [
       "<div>\n",
       "<style scoped>\n",
       "    .dataframe tbody tr th:only-of-type {\n",
       "        vertical-align: middle;\n",
       "    }\n",
       "\n",
       "    .dataframe tbody tr th {\n",
       "        vertical-align: top;\n",
       "    }\n",
       "\n",
       "    .dataframe thead th {\n",
       "        text-align: right;\n",
       "    }\n",
       "</style>\n",
       "<table border=\"1\" class=\"dataframe\">\n",
       "  <thead>\n",
       "    <tr style=\"text-align: right;\">\n",
       "      <th></th>\n",
       "      <th>AccountId</th>\n",
       "      <th>CustomerId</th>\n",
       "      <th>FraudResult</th>\n",
       "    </tr>\n",
       "  </thead>\n",
       "  <tbody>\n",
       "    <tr>\n",
       "      <th>41224</th>\n",
       "      <td>4840</td>\n",
       "      <td>4840</td>\n",
       "      <td>0</td>\n",
       "    </tr>\n",
       "    <tr>\n",
       "      <th>82844</th>\n",
       "      <td>4841</td>\n",
       "      <td>4841</td>\n",
       "      <td>0</td>\n",
       "    </tr>\n",
       "    <tr>\n",
       "      <th>83373</th>\n",
       "      <td>4841</td>\n",
       "      <td>4841</td>\n",
       "      <td>0</td>\n",
       "    </tr>\n",
       "    <tr>\n",
       "      <th>83379</th>\n",
       "      <td>4841</td>\n",
       "      <td>4841</td>\n",
       "      <td>0</td>\n",
       "    </tr>\n",
       "    <tr>\n",
       "      <th>83387</th>\n",
       "      <td>4841</td>\n",
       "      <td>4841</td>\n",
       "      <td>0</td>\n",
       "    </tr>\n",
       "    <tr>\n",
       "      <th>83389</th>\n",
       "      <td>4841</td>\n",
       "      <td>4841</td>\n",
       "      <td>0</td>\n",
       "    </tr>\n",
       "    <tr>\n",
       "      <th>83436</th>\n",
       "      <td>4841</td>\n",
       "      <td>4841</td>\n",
       "      <td>0</td>\n",
       "    </tr>\n",
       "    <tr>\n",
       "      <th>83449</th>\n",
       "      <td>4841</td>\n",
       "      <td>4841</td>\n",
       "      <td>0</td>\n",
       "    </tr>\n",
       "    <tr>\n",
       "      <th>83451</th>\n",
       "      <td>4841</td>\n",
       "      <td>4841</td>\n",
       "      <td>0</td>\n",
       "    </tr>\n",
       "    <tr>\n",
       "      <th>83468</th>\n",
       "      <td>4841</td>\n",
       "      <td>4841</td>\n",
       "      <td>0</td>\n",
       "    </tr>\n",
       "    <tr>\n",
       "      <th>83505</th>\n",
       "      <td>4841</td>\n",
       "      <td>4841</td>\n",
       "      <td>0</td>\n",
       "    </tr>\n",
       "    <tr>\n",
       "      <th>83507</th>\n",
       "      <td>4841</td>\n",
       "      <td>4841</td>\n",
       "      <td>0</td>\n",
       "    </tr>\n",
       "    <tr>\n",
       "      <th>83518</th>\n",
       "      <td>4841</td>\n",
       "      <td>4841</td>\n",
       "      <td>0</td>\n",
       "    </tr>\n",
       "    <tr>\n",
       "      <th>83542</th>\n",
       "      <td>4841</td>\n",
       "      <td>4841</td>\n",
       "      <td>0</td>\n",
       "    </tr>\n",
       "    <tr>\n",
       "      <th>83565</th>\n",
       "      <td>4841</td>\n",
       "      <td>4841</td>\n",
       "      <td>0</td>\n",
       "    </tr>\n",
       "    <tr>\n",
       "      <th>83567</th>\n",
       "      <td>4841</td>\n",
       "      <td>4841</td>\n",
       "      <td>0</td>\n",
       "    </tr>\n",
       "    <tr>\n",
       "      <th>83582</th>\n",
       "      <td>4841</td>\n",
       "      <td>4841</td>\n",
       "      <td>0</td>\n",
       "    </tr>\n",
       "    <tr>\n",
       "      <th>83593</th>\n",
       "      <td>4841</td>\n",
       "      <td>4841</td>\n",
       "      <td>0</td>\n",
       "    </tr>\n",
       "    <tr>\n",
       "      <th>83605</th>\n",
       "      <td>4841</td>\n",
       "      <td>4841</td>\n",
       "      <td>0</td>\n",
       "    </tr>\n",
       "    <tr>\n",
       "      <th>83652</th>\n",
       "      <td>4841</td>\n",
       "      <td>4841</td>\n",
       "      <td>0</td>\n",
       "    </tr>\n",
       "    <tr>\n",
       "      <th>83654</th>\n",
       "      <td>4841</td>\n",
       "      <td>4841</td>\n",
       "      <td>0</td>\n",
       "    </tr>\n",
       "    <tr>\n",
       "      <th>83668</th>\n",
       "      <td>4841</td>\n",
       "      <td>4841</td>\n",
       "      <td>0</td>\n",
       "    </tr>\n",
       "    <tr>\n",
       "      <th>83920</th>\n",
       "      <td>4841</td>\n",
       "      <td>4841</td>\n",
       "      <td>0</td>\n",
       "    </tr>\n",
       "    <tr>\n",
       "      <th>83929</th>\n",
       "      <td>4841</td>\n",
       "      <td>4841</td>\n",
       "      <td>0</td>\n",
       "    </tr>\n",
       "    <tr>\n",
       "      <th>83931</th>\n",
       "      <td>4841</td>\n",
       "      <td>4841</td>\n",
       "      <td>0</td>\n",
       "    </tr>\n",
       "    <tr>\n",
       "      <th>83936</th>\n",
       "      <td>4841</td>\n",
       "      <td>4841</td>\n",
       "      <td>0</td>\n",
       "    </tr>\n",
       "    <tr>\n",
       "      <th>83941</th>\n",
       "      <td>4841</td>\n",
       "      <td>4841</td>\n",
       "      <td>0</td>\n",
       "    </tr>\n",
       "    <tr>\n",
       "      <th>83949</th>\n",
       "      <td>4841</td>\n",
       "      <td>4841</td>\n",
       "      <td>0</td>\n",
       "    </tr>\n",
       "    <tr>\n",
       "      <th>83951</th>\n",
       "      <td>4841</td>\n",
       "      <td>4841</td>\n",
       "      <td>0</td>\n",
       "    </tr>\n",
       "    <tr>\n",
       "      <th>83961</th>\n",
       "      <td>4841</td>\n",
       "      <td>4841</td>\n",
       "      <td>0</td>\n",
       "    </tr>\n",
       "    <tr>\n",
       "      <th>84021</th>\n",
       "      <td>4841</td>\n",
       "      <td>4841</td>\n",
       "      <td>0</td>\n",
       "    </tr>\n",
       "    <tr>\n",
       "      <th>84051</th>\n",
       "      <td>4841</td>\n",
       "      <td>4841</td>\n",
       "      <td>0</td>\n",
       "    </tr>\n",
       "    <tr>\n",
       "      <th>84079</th>\n",
       "      <td>4841</td>\n",
       "      <td>4841</td>\n",
       "      <td>0</td>\n",
       "    </tr>\n",
       "    <tr>\n",
       "      <th>84129</th>\n",
       "      <td>4841</td>\n",
       "      <td>4841</td>\n",
       "      <td>0</td>\n",
       "    </tr>\n",
       "    <tr>\n",
       "      <th>84157</th>\n",
       "      <td>4841</td>\n",
       "      <td>4841</td>\n",
       "      <td>0</td>\n",
       "    </tr>\n",
       "    <tr>\n",
       "      <th>84170</th>\n",
       "      <td>4841</td>\n",
       "      <td>4841</td>\n",
       "      <td>0</td>\n",
       "    </tr>\n",
       "    <tr>\n",
       "      <th>84176</th>\n",
       "      <td>4841</td>\n",
       "      <td>4841</td>\n",
       "      <td>0</td>\n",
       "    </tr>\n",
       "    <tr>\n",
       "      <th>84191</th>\n",
       "      <td>4841</td>\n",
       "      <td>4841</td>\n",
       "      <td>0</td>\n",
       "    </tr>\n",
       "    <tr>\n",
       "      <th>84937</th>\n",
       "      <td>4841</td>\n",
       "      <td>4841</td>\n",
       "      <td>0</td>\n",
       "    </tr>\n",
       "    <tr>\n",
       "      <th>85007</th>\n",
       "      <td>4841</td>\n",
       "      <td>4841</td>\n",
       "      <td>0</td>\n",
       "    </tr>\n",
       "    <tr>\n",
       "      <th>85037</th>\n",
       "      <td>4841</td>\n",
       "      <td>4841</td>\n",
       "      <td>0</td>\n",
       "    </tr>\n",
       "    <tr>\n",
       "      <th>85039</th>\n",
       "      <td>4841</td>\n",
       "      <td>4841</td>\n",
       "      <td>0</td>\n",
       "    </tr>\n",
       "    <tr>\n",
       "      <th>85042</th>\n",
       "      <td>4841</td>\n",
       "      <td>4841</td>\n",
       "      <td>0</td>\n",
       "    </tr>\n",
       "    <tr>\n",
       "      <th>85060</th>\n",
       "      <td>4841</td>\n",
       "      <td>4841</td>\n",
       "      <td>0</td>\n",
       "    </tr>\n",
       "    <tr>\n",
       "      <th>85362</th>\n",
       "      <td>4841</td>\n",
       "      <td>4841</td>\n",
       "      <td>0</td>\n",
       "    </tr>\n",
       "    <tr>\n",
       "      <th>85384</th>\n",
       "      <td>4841</td>\n",
       "      <td>4841</td>\n",
       "      <td>0</td>\n",
       "    </tr>\n",
       "    <tr>\n",
       "      <th>85483</th>\n",
       "      <td>4841</td>\n",
       "      <td>4841</td>\n",
       "      <td>0</td>\n",
       "    </tr>\n",
       "    <tr>\n",
       "      <th>85501</th>\n",
       "      <td>4841</td>\n",
       "      <td>4841</td>\n",
       "      <td>0</td>\n",
       "    </tr>\n",
       "    <tr>\n",
       "      <th>85504</th>\n",
       "      <td>4841</td>\n",
       "      <td>4841</td>\n",
       "      <td>0</td>\n",
       "    </tr>\n",
       "    <tr>\n",
       "      <th>85507</th>\n",
       "      <td>4841</td>\n",
       "      <td>4841</td>\n",
       "      <td>0</td>\n",
       "    </tr>\n",
       "    <tr>\n",
       "      <th>85513</th>\n",
       "      <td>4841</td>\n",
       "      <td>4841</td>\n",
       "      <td>0</td>\n",
       "    </tr>\n",
       "    <tr>\n",
       "      <th>85530</th>\n",
       "      <td>4841</td>\n",
       "      <td>4841</td>\n",
       "      <td>0</td>\n",
       "    </tr>\n",
       "    <tr>\n",
       "      <th>85542</th>\n",
       "      <td>4841</td>\n",
       "      <td>4841</td>\n",
       "      <td>0</td>\n",
       "    </tr>\n",
       "    <tr>\n",
       "      <th>85547</th>\n",
       "      <td>4841</td>\n",
       "      <td>4841</td>\n",
       "      <td>0</td>\n",
       "    </tr>\n",
       "    <tr>\n",
       "      <th>85558</th>\n",
       "      <td>4841</td>\n",
       "      <td>4841</td>\n",
       "      <td>0</td>\n",
       "    </tr>\n",
       "    <tr>\n",
       "      <th>85564</th>\n",
       "      <td>4841</td>\n",
       "      <td>4841</td>\n",
       "      <td>0</td>\n",
       "    </tr>\n",
       "    <tr>\n",
       "      <th>85579</th>\n",
       "      <td>4841</td>\n",
       "      <td>4841</td>\n",
       "      <td>0</td>\n",
       "    </tr>\n",
       "    <tr>\n",
       "      <th>88943</th>\n",
       "      <td>4841</td>\n",
       "      <td>4841</td>\n",
       "      <td>0</td>\n",
       "    </tr>\n",
       "    <tr>\n",
       "      <th>88960</th>\n",
       "      <td>4841</td>\n",
       "      <td>4841</td>\n",
       "      <td>0</td>\n",
       "    </tr>\n",
       "  </tbody>\n",
       "</table>\n",
       "</div>"
      ],
      "text/plain": [
       "       AccountId  CustomerId  FraudResult\n",
       "41224       4840        4840            0\n",
       "82844       4841        4841            0\n",
       "83373       4841        4841            0\n",
       "83379       4841        4841            0\n",
       "83387       4841        4841            0\n",
       "83389       4841        4841            0\n",
       "83436       4841        4841            0\n",
       "83449       4841        4841            0\n",
       "83451       4841        4841            0\n",
       "83468       4841        4841            0\n",
       "83505       4841        4841            0\n",
       "83507       4841        4841            0\n",
       "83518       4841        4841            0\n",
       "83542       4841        4841            0\n",
       "83565       4841        4841            0\n",
       "83567       4841        4841            0\n",
       "83582       4841        4841            0\n",
       "83593       4841        4841            0\n",
       "83605       4841        4841            0\n",
       "83652       4841        4841            0\n",
       "83654       4841        4841            0\n",
       "83668       4841        4841            0\n",
       "83920       4841        4841            0\n",
       "83929       4841        4841            0\n",
       "83931       4841        4841            0\n",
       "83936       4841        4841            0\n",
       "83941       4841        4841            0\n",
       "83949       4841        4841            0\n",
       "83951       4841        4841            0\n",
       "83961       4841        4841            0\n",
       "84021       4841        4841            0\n",
       "84051       4841        4841            0\n",
       "84079       4841        4841            0\n",
       "84129       4841        4841            0\n",
       "84157       4841        4841            0\n",
       "84170       4841        4841            0\n",
       "84176       4841        4841            0\n",
       "84191       4841        4841            0\n",
       "84937       4841        4841            0\n",
       "85007       4841        4841            0\n",
       "85037       4841        4841            0\n",
       "85039       4841        4841            0\n",
       "85042       4841        4841            0\n",
       "85060       4841        4841            0\n",
       "85362       4841        4841            0\n",
       "85384       4841        4841            0\n",
       "85483       4841        4841            0\n",
       "85501       4841        4841            0\n",
       "85504       4841        4841            0\n",
       "85507       4841        4841            0\n",
       "85513       4841        4841            0\n",
       "85530       4841        4841            0\n",
       "85542       4841        4841            0\n",
       "85547       4841        4841            0\n",
       "85558       4841        4841            0\n",
       "85564       4841        4841            0\n",
       "85579       4841        4841            0\n",
       "88943       4841        4841            0\n",
       "88960       4841        4841            0"
      ]
     },
     "execution_count": 25,
     "metadata": {},
     "output_type": "execute_result"
    }
   ],
   "source": [
    "data_train.query('AccountId == CustomerId')[['AccountId','CustomerId','FraudResult']]"
   ]
  },
  {
   "cell_type": "code",
   "execution_count": 26,
   "id": "eeb6d5e5-b445-423f-8c99-6339517ef81c",
   "metadata": {},
   "outputs": [],
   "source": [
    "# drop columns that do not convey additional meaning\n",
    "#'TransactionId' ==> remove later before modelling\n",
    "cols_to_drop = ['CurrencyCode', 'CountryCode', 'TransactionStartTime', 'BatchId','DT','TransactionTime','Amount','ValueUSD','TransactionDate']\n",
    "data_train_clean = data_train.drop(columns=cols_to_drop, inplace=False)\n",
    "data_train_clean.to_csv('data/data_train_clean.csv')"
   ]
  },
  {
   "cell_type": "code",
   "execution_count": 27,
   "id": "a54bf2af-a7be-4e16-9197-39d0342d07a4",
   "metadata": {},
   "outputs": [
    {
     "data": {
      "text/plain": [
       "DebitCredit\n",
       "0    299030166\n",
       "1      2401005\n",
       "Name: Value, dtype: int64"
      ]
     },
     "execution_count": 27,
     "metadata": {},
     "output_type": "execute_result"
    }
   ],
   "source": [
    "debitcredit= data_train_clean.query('FraudResult == 1').groupby('DebitCredit')['Value'].sum()\n",
    "debitcredit"
   ]
  },
  {
   "cell_type": "code",
   "execution_count": 28,
   "id": "49122dd6-a508-4fb0-ab99-bf7bd06aa3a0",
   "metadata": {},
   "outputs": [
    {
     "data": {
      "text/html": [
       "<div>\n",
       "<style scoped>\n",
       "    .dataframe tbody tr th:only-of-type {\n",
       "        vertical-align: middle;\n",
       "    }\n",
       "\n",
       "    .dataframe tbody tr th {\n",
       "        vertical-align: top;\n",
       "    }\n",
       "\n",
       "    .dataframe thead th {\n",
       "        text-align: right;\n",
       "    }\n",
       "</style>\n",
       "<table border=\"1\" class=\"dataframe\">\n",
       "  <thead>\n",
       "    <tr style=\"text-align: right;\">\n",
       "      <th>ProductCategory</th>\n",
       "      <th>airtime</th>\n",
       "      <th>data_bundles</th>\n",
       "      <th>financial_services</th>\n",
       "      <th>movies</th>\n",
       "      <th>other</th>\n",
       "      <th>ticket</th>\n",
       "      <th>transport</th>\n",
       "      <th>tv</th>\n",
       "      <th>utility_bill</th>\n",
       "    </tr>\n",
       "    <tr>\n",
       "      <th>ProductId</th>\n",
       "      <th></th>\n",
       "      <th></th>\n",
       "      <th></th>\n",
       "      <th></th>\n",
       "      <th></th>\n",
       "      <th></th>\n",
       "      <th></th>\n",
       "      <th></th>\n",
       "      <th></th>\n",
       "    </tr>\n",
       "  </thead>\n",
       "  <tbody>\n",
       "    <tr>\n",
       "      <th>1</th>\n",
       "      <td>2885.0</td>\n",
       "      <td>0</td>\n",
       "      <td>0</td>\n",
       "      <td>0</td>\n",
       "      <td>0</td>\n",
       "      <td>0</td>\n",
       "      <td>0</td>\n",
       "      <td>0</td>\n",
       "      <td>0</td>\n",
       "    </tr>\n",
       "    <tr>\n",
       "      <th>2</th>\n",
       "      <td>0</td>\n",
       "      <td>236.0</td>\n",
       "      <td>0</td>\n",
       "      <td>0</td>\n",
       "      <td>0</td>\n",
       "      <td>0</td>\n",
       "      <td>0</td>\n",
       "      <td>0</td>\n",
       "      <td>0</td>\n",
       "    </tr>\n",
       "    <tr>\n",
       "      <th>3</th>\n",
       "      <td>24344.0</td>\n",
       "      <td>0</td>\n",
       "      <td>0</td>\n",
       "      <td>0</td>\n",
       "      <td>0</td>\n",
       "      <td>0</td>\n",
       "      <td>0</td>\n",
       "      <td>0</td>\n",
       "      <td>0</td>\n",
       "    </tr>\n",
       "    <tr>\n",
       "      <th>4</th>\n",
       "      <td>2403.0</td>\n",
       "      <td>0</td>\n",
       "      <td>0</td>\n",
       "      <td>0</td>\n",
       "      <td>0</td>\n",
       "      <td>0</td>\n",
       "      <td>0</td>\n",
       "      <td>0</td>\n",
       "      <td>0</td>\n",
       "    </tr>\n",
       "    <tr>\n",
       "      <th>5</th>\n",
       "      <td>0</td>\n",
       "      <td>0</td>\n",
       "      <td>0</td>\n",
       "      <td>0</td>\n",
       "      <td>0</td>\n",
       "      <td>0</td>\n",
       "      <td>25.0</td>\n",
       "      <td>0</td>\n",
       "      <td>0</td>\n",
       "    </tr>\n",
       "    <tr>\n",
       "      <th>6</th>\n",
       "      <td>0</td>\n",
       "      <td>0</td>\n",
       "      <td>32635.0</td>\n",
       "      <td>0</td>\n",
       "      <td>0</td>\n",
       "      <td>0</td>\n",
       "      <td>0</td>\n",
       "      <td>0</td>\n",
       "      <td>0</td>\n",
       "    </tr>\n",
       "    <tr>\n",
       "      <th>7</th>\n",
       "      <td>0</td>\n",
       "      <td>0</td>\n",
       "      <td>0</td>\n",
       "      <td>0</td>\n",
       "      <td>0</td>\n",
       "      <td>0</td>\n",
       "      <td>0</td>\n",
       "      <td>86.0</td>\n",
       "      <td>0</td>\n",
       "    </tr>\n",
       "    <tr>\n",
       "      <th>8</th>\n",
       "      <td>0</td>\n",
       "      <td>0</td>\n",
       "      <td>0</td>\n",
       "      <td>0</td>\n",
       "      <td>0</td>\n",
       "      <td>0</td>\n",
       "      <td>0</td>\n",
       "      <td>197.0</td>\n",
       "      <td>0</td>\n",
       "    </tr>\n",
       "    <tr>\n",
       "      <th>9</th>\n",
       "      <td>0</td>\n",
       "      <td>0</td>\n",
       "      <td>17.0</td>\n",
       "      <td>0</td>\n",
       "      <td>0</td>\n",
       "      <td>0</td>\n",
       "      <td>0</td>\n",
       "      <td>0</td>\n",
       "      <td>0</td>\n",
       "    </tr>\n",
       "    <tr>\n",
       "      <th>10</th>\n",
       "      <td>15384.0</td>\n",
       "      <td>0</td>\n",
       "      <td>0</td>\n",
       "      <td>0</td>\n",
       "      <td>0</td>\n",
       "      <td>0</td>\n",
       "      <td>0</td>\n",
       "      <td>0</td>\n",
       "      <td>0</td>\n",
       "    </tr>\n",
       "    <tr>\n",
       "      <th>11</th>\n",
       "      <td>0</td>\n",
       "      <td>1377.0</td>\n",
       "      <td>0</td>\n",
       "      <td>0</td>\n",
       "      <td>0</td>\n",
       "      <td>0</td>\n",
       "      <td>0</td>\n",
       "      <td>0</td>\n",
       "      <td>0</td>\n",
       "    </tr>\n",
       "    <tr>\n",
       "      <th>12</th>\n",
       "      <td>0</td>\n",
       "      <td>0</td>\n",
       "      <td>0</td>\n",
       "      <td>0</td>\n",
       "      <td>2.0</td>\n",
       "      <td>0</td>\n",
       "      <td>0</td>\n",
       "      <td>0</td>\n",
       "      <td>0</td>\n",
       "    </tr>\n",
       "    <tr>\n",
       "      <th>13</th>\n",
       "      <td>0</td>\n",
       "      <td>0</td>\n",
       "      <td>0</td>\n",
       "      <td>0</td>\n",
       "      <td>0</td>\n",
       "      <td>0</td>\n",
       "      <td>0</td>\n",
       "      <td>0</td>\n",
       "      <td>296.0</td>\n",
       "    </tr>\n",
       "    <tr>\n",
       "      <th>14</th>\n",
       "      <td>0</td>\n",
       "      <td>0</td>\n",
       "      <td>789.0</td>\n",
       "      <td>0</td>\n",
       "      <td>0</td>\n",
       "      <td>0</td>\n",
       "      <td>0</td>\n",
       "      <td>0</td>\n",
       "      <td>0</td>\n",
       "    </tr>\n",
       "    <tr>\n",
       "      <th>15</th>\n",
       "      <td>0</td>\n",
       "      <td>0</td>\n",
       "      <td>11964.0</td>\n",
       "      <td>0</td>\n",
       "      <td>0</td>\n",
       "      <td>0</td>\n",
       "      <td>0</td>\n",
       "      <td>0</td>\n",
       "      <td>0</td>\n",
       "    </tr>\n",
       "    <tr>\n",
       "      <th>16</th>\n",
       "      <td>10.0</td>\n",
       "      <td>0</td>\n",
       "      <td>0</td>\n",
       "      <td>0</td>\n",
       "      <td>0</td>\n",
       "      <td>0</td>\n",
       "      <td>0</td>\n",
       "      <td>0</td>\n",
       "      <td>0</td>\n",
       "    </tr>\n",
       "    <tr>\n",
       "      <th>19</th>\n",
       "      <td>0</td>\n",
       "      <td>0</td>\n",
       "      <td>0</td>\n",
       "      <td>0</td>\n",
       "      <td>0</td>\n",
       "      <td>0</td>\n",
       "      <td>0</td>\n",
       "      <td>965.0</td>\n",
       "      <td>0</td>\n",
       "    </tr>\n",
       "    <tr>\n",
       "      <th>20</th>\n",
       "      <td>0</td>\n",
       "      <td>0</td>\n",
       "      <td>0</td>\n",
       "      <td>0</td>\n",
       "      <td>0</td>\n",
       "      <td>216.0</td>\n",
       "      <td>0</td>\n",
       "      <td>0</td>\n",
       "      <td>0</td>\n",
       "    </tr>\n",
       "    <tr>\n",
       "      <th>21</th>\n",
       "      <td>0</td>\n",
       "      <td>0</td>\n",
       "      <td>0</td>\n",
       "      <td>0</td>\n",
       "      <td>0</td>\n",
       "      <td>0</td>\n",
       "      <td>0</td>\n",
       "      <td>0</td>\n",
       "      <td>1512.0</td>\n",
       "    </tr>\n",
       "    <tr>\n",
       "      <th>22</th>\n",
       "      <td>0</td>\n",
       "      <td>0</td>\n",
       "      <td>0</td>\n",
       "      <td>0</td>\n",
       "      <td>0</td>\n",
       "      <td>0</td>\n",
       "      <td>0</td>\n",
       "      <td>0</td>\n",
       "      <td>112.0</td>\n",
       "    </tr>\n",
       "    <tr>\n",
       "      <th>23</th>\n",
       "      <td>1.0</td>\n",
       "      <td>0</td>\n",
       "      <td>0</td>\n",
       "      <td>0</td>\n",
       "      <td>0</td>\n",
       "      <td>0</td>\n",
       "      <td>0</td>\n",
       "      <td>0</td>\n",
       "      <td>0</td>\n",
       "    </tr>\n",
       "    <tr>\n",
       "      <th>24</th>\n",
       "      <td>0</td>\n",
       "      <td>0</td>\n",
       "      <td>0</td>\n",
       "      <td>175.0</td>\n",
       "      <td>0</td>\n",
       "      <td>0</td>\n",
       "      <td>0</td>\n",
       "      <td>0</td>\n",
       "      <td>0</td>\n",
       "    </tr>\n",
       "    <tr>\n",
       "      <th>27</th>\n",
       "      <td>0</td>\n",
       "      <td>0</td>\n",
       "      <td>0</td>\n",
       "      <td>0</td>\n",
       "      <td>0</td>\n",
       "      <td>0</td>\n",
       "      <td>0</td>\n",
       "      <td>31.0</td>\n",
       "      <td>0</td>\n",
       "    </tr>\n",
       "  </tbody>\n",
       "</table>\n",
       "</div>"
      ],
      "text/plain": [
       "ProductCategory  airtime data_bundles financial_services movies other ticket  \\\n",
       "ProductId                                                                      \n",
       "1                 2885.0            0                  0      0     0      0   \n",
       "2                      0        236.0                  0      0     0      0   \n",
       "3                24344.0            0                  0      0     0      0   \n",
       "4                 2403.0            0                  0      0     0      0   \n",
       "5                      0            0                  0      0     0      0   \n",
       "6                      0            0            32635.0      0     0      0   \n",
       "7                      0            0                  0      0     0      0   \n",
       "8                      0            0                  0      0     0      0   \n",
       "9                      0            0               17.0      0     0      0   \n",
       "10               15384.0            0                  0      0     0      0   \n",
       "11                     0       1377.0                  0      0     0      0   \n",
       "12                     0            0                  0      0   2.0      0   \n",
       "13                     0            0                  0      0     0      0   \n",
       "14                     0            0              789.0      0     0      0   \n",
       "15                     0            0            11964.0      0     0      0   \n",
       "16                  10.0            0                  0      0     0      0   \n",
       "19                     0            0                  0      0     0      0   \n",
       "20                     0            0                  0      0     0  216.0   \n",
       "21                     0            0                  0      0     0      0   \n",
       "22                     0            0                  0      0     0      0   \n",
       "23                   1.0            0                  0      0     0      0   \n",
       "24                     0            0                  0  175.0     0      0   \n",
       "27                     0            0                  0      0     0      0   \n",
       "\n",
       "ProductCategory transport     tv utility_bill  \n",
       "ProductId                                      \n",
       "1                       0      0            0  \n",
       "2                       0      0            0  \n",
       "3                       0      0            0  \n",
       "4                       0      0            0  \n",
       "5                    25.0      0            0  \n",
       "6                       0      0            0  \n",
       "7                       0   86.0            0  \n",
       "8                       0  197.0            0  \n",
       "9                       0      0            0  \n",
       "10                      0      0            0  \n",
       "11                      0      0            0  \n",
       "12                      0      0            0  \n",
       "13                      0      0        296.0  \n",
       "14                      0      0            0  \n",
       "15                      0      0            0  \n",
       "16                      0      0            0  \n",
       "19                      0  965.0            0  \n",
       "20                      0      0            0  \n",
       "21                      0      0       1512.0  \n",
       "22                      0      0        112.0  \n",
       "23                      0      0            0  \n",
       "24                      0      0            0  \n",
       "27                      0   31.0            0  "
      ]
     },
     "execution_count": 28,
     "metadata": {},
     "output_type": "execute_result"
    }
   ],
   "source": [
    "pivot1 = pd.pivot_table(data_train_clean, values='TransactionId', index='ProductId', columns='ProductCategory', aggfunc ='count')\n",
    "pivot1.fillna('0', inplace = True)\n",
    "pivot1"
   ]
  },
  {
   "cell_type": "markdown",
   "id": "f95f01ca-af86-419d-9419-ff9e06fcfb39",
   "metadata": {},
   "source": [
    "==> Every Product Category contains up to 5 Product Ids"
   ]
  },
  {
   "cell_type": "code",
   "execution_count": 29,
   "id": "3c5d35a6-e6c3-48fd-ad87-bd53cfc2e6da",
   "metadata": {},
   "outputs": [
    {
     "data": {
      "text/html": [
       "<div>\n",
       "<style scoped>\n",
       "    .dataframe tbody tr th:only-of-type {\n",
       "        vertical-align: middle;\n",
       "    }\n",
       "\n",
       "    .dataframe tbody tr th {\n",
       "        vertical-align: top;\n",
       "    }\n",
       "\n",
       "    .dataframe thead th {\n",
       "        text-align: right;\n",
       "    }\n",
       "</style>\n",
       "<table border=\"1\" class=\"dataframe\">\n",
       "  <thead>\n",
       "    <tr style=\"text-align: right;\">\n",
       "      <th>ProductCategory</th>\n",
       "      <th>airtime</th>\n",
       "      <th>data_bundles</th>\n",
       "      <th>financial_services</th>\n",
       "      <th>movies</th>\n",
       "      <th>other</th>\n",
       "      <th>ticket</th>\n",
       "      <th>transport</th>\n",
       "      <th>tv</th>\n",
       "      <th>utility_bill</th>\n",
       "    </tr>\n",
       "    <tr>\n",
       "      <th>FraudResult</th>\n",
       "      <th></th>\n",
       "      <th></th>\n",
       "      <th></th>\n",
       "      <th></th>\n",
       "      <th></th>\n",
       "      <th></th>\n",
       "      <th></th>\n",
       "      <th></th>\n",
       "      <th></th>\n",
       "    </tr>\n",
       "  </thead>\n",
       "  <tbody>\n",
       "    <tr>\n",
       "      <th>0</th>\n",
       "      <td>264103827.0</td>\n",
       "      <td>5990700.0</td>\n",
       "      <td>294298951.0</td>\n",
       "      <td>1922900.0</td>\n",
       "      <td>1000.0</td>\n",
       "      <td>20886500.0</td>\n",
       "      <td>2076000.0</td>\n",
       "      <td>23222085.0</td>\n",
       "      <td>33176527.0</td>\n",
       "    </tr>\n",
       "    <tr>\n",
       "      <th>1</th>\n",
       "      <td>8300500.0</td>\n",
       "      <td>NaN</td>\n",
       "      <td>283909549.0</td>\n",
       "      <td>NaN</td>\n",
       "      <td>NaN</td>\n",
       "      <td>NaN</td>\n",
       "      <td>2180000.0</td>\n",
       "      <td>NaN</td>\n",
       "      <td>7041122.0</td>\n",
       "    </tr>\n",
       "  </tbody>\n",
       "</table>\n",
       "</div>"
      ],
      "text/plain": [
       "ProductCategory      airtime  data_bundles  financial_services     movies  \\\n",
       "FraudResult                                                                 \n",
       "0                264103827.0     5990700.0         294298951.0  1922900.0   \n",
       "1                  8300500.0           NaN         283909549.0        NaN   \n",
       "\n",
       "ProductCategory   other      ticket  transport          tv  utility_bill  \n",
       "FraudResult                                                               \n",
       "0                1000.0  20886500.0  2076000.0  23222085.0    33176527.0  \n",
       "1                   NaN         NaN  2180000.0         NaN     7041122.0  "
      ]
     },
     "execution_count": 29,
     "metadata": {},
     "output_type": "execute_result"
    }
   ],
   "source": [
    "pivot1 = pd.pivot_table(data_train_clean, values='Value', index='FraudResult', columns='ProductCategory', aggfunc =sum)\n",
    "pivot1"
   ]
  },
  {
   "cell_type": "markdown",
   "id": "370e4a13-f2fe-4d60-beef-29da57ea9709",
   "metadata": {},
   "source": [
    "===> Remarkable Cumulation for PricingStrategy=2 and ProductId=15"
   ]
  },
  {
   "cell_type": "code",
   "execution_count": 30,
   "id": "332ff634-b0aa-47f5-913f-c8e42648d954",
   "metadata": {},
   "outputs": [
    {
     "data": {
      "text/html": [
       "<div>\n",
       "<style scoped>\n",
       "    .dataframe tbody tr th:only-of-type {\n",
       "        vertical-align: middle;\n",
       "    }\n",
       "\n",
       "    .dataframe tbody tr th {\n",
       "        vertical-align: top;\n",
       "    }\n",
       "\n",
       "    .dataframe thead th {\n",
       "        text-align: right;\n",
       "    }\n",
       "</style>\n",
       "<table border=\"1\" class=\"dataframe\">\n",
       "  <thead>\n",
       "    <tr style=\"text-align: right;\">\n",
       "      <th>ProductId</th>\n",
       "      <th>6</th>\n",
       "      <th>7</th>\n",
       "      <th>8</th>\n",
       "      <th>13</th>\n",
       "      <th>21</th>\n",
       "      <th>22</th>\n",
       "      <th>24</th>\n",
       "      <th>27</th>\n",
       "    </tr>\n",
       "    <tr>\n",
       "      <th>FraudResult</th>\n",
       "      <th></th>\n",
       "      <th></th>\n",
       "      <th></th>\n",
       "      <th></th>\n",
       "      <th></th>\n",
       "      <th></th>\n",
       "      <th></th>\n",
       "      <th></th>\n",
       "    </tr>\n",
       "  </thead>\n",
       "  <tbody>\n",
       "    <tr>\n",
       "      <th>0</th>\n",
       "      <td>328.0</td>\n",
       "      <td>57.0</td>\n",
       "      <td>72.0</td>\n",
       "      <td>290.0</td>\n",
       "      <td>1503.0</td>\n",
       "      <td>110.0</td>\n",
       "      <td>174.0</td>\n",
       "      <td>19.0</td>\n",
       "    </tr>\n",
       "    <tr>\n",
       "      <th>1</th>\n",
       "      <td>NaN</td>\n",
       "      <td>NaN</td>\n",
       "      <td>NaN</td>\n",
       "      <td>6.0</td>\n",
       "      <td>4.0</td>\n",
       "      <td>2.0</td>\n",
       "      <td>NaN</td>\n",
       "      <td>NaN</td>\n",
       "    </tr>\n",
       "  </tbody>\n",
       "</table>\n",
       "</div>"
      ],
      "text/plain": [
       "ProductId       6     7     8      13      21     22     24    27\n",
       "FraudResult                                                      \n",
       "0            328.0  57.0  72.0  290.0  1503.0  110.0  174.0  19.0\n",
       "1              NaN   NaN   NaN    6.0     4.0    2.0    NaN   NaN"
      ]
     },
     "execution_count": 30,
     "metadata": {},
     "output_type": "execute_result"
    }
   ],
   "source": [
    "pivot3 = pd.pivot_table(data_train.query('abs(Value) != abs(Amount)'), values='TransactionId', index='FraudResult', columns='ProductId', aggfunc ='count')\n",
    "pivot3"
   ]
  },
  {
   "cell_type": "code",
   "execution_count": 31,
   "id": "505554d8-1e86-4fda-9c4b-723321f9f39c",
   "metadata": {},
   "outputs": [
    {
     "data": {
      "text/html": [
       "<div>\n",
       "<style scoped>\n",
       "    .dataframe tbody tr th:only-of-type {\n",
       "        vertical-align: middle;\n",
       "    }\n",
       "\n",
       "    .dataframe tbody tr th {\n",
       "        vertical-align: top;\n",
       "    }\n",
       "\n",
       "    .dataframe thead th {\n",
       "        text-align: right;\n",
       "    }\n",
       "</style>\n",
       "<table border=\"1\" class=\"dataframe\">\n",
       "  <thead>\n",
       "    <tr style=\"text-align: right;\">\n",
       "      <th>FraudResult</th>\n",
       "      <th>1</th>\n",
       "    </tr>\n",
       "    <tr>\n",
       "      <th>TransactionInBatch</th>\n",
       "      <th></th>\n",
       "    </tr>\n",
       "  </thead>\n",
       "  <tbody>\n",
       "    <tr>\n",
       "      <th>1</th>\n",
       "      <td>174</td>\n",
       "    </tr>\n",
       "    <tr>\n",
       "      <th>2</th>\n",
       "      <td>15</td>\n",
       "    </tr>\n",
       "    <tr>\n",
       "      <th>4</th>\n",
       "      <td>4</td>\n",
       "    </tr>\n",
       "  </tbody>\n",
       "</table>\n",
       "</div>"
      ],
      "text/plain": [
       "FraudResult           1\n",
       "TransactionInBatch     \n",
       "1                   174\n",
       "2                    15\n",
       "4                     4"
      ]
     },
     "execution_count": 31,
     "metadata": {},
     "output_type": "execute_result"
    }
   ],
   "source": [
    "pivot4 = pd.pivot_table(data_train.query('FraudResult ==1'), values='TransactionId', index='TransactionInBatch', columns='FraudResult', aggfunc ='count')\n",
    "pivot4 = pd.DataFrame(pivot4)\n",
    "pivot4"
   ]
  },
  {
   "cell_type": "code",
   "execution_count": 32,
   "id": "e3d44d38-ac57-4872-8746-7baa744ecfa3",
   "metadata": {},
   "outputs": [
    {
     "data": {
      "image/png": "[encoded data removed]",
      "text/plain": [
       "<Figure size 432x288 with 1 Axes>"
      ]
     },
     "metadata": {
      "needs_background": "light"
     },
     "output_type": "display_data"
    }
   ],
   "source": [
    "ax = pivot4.T.plot(kind='bar', ylabel='Amount frauds', xlabel= 'Transaction per Batch',title='Transactions per Batch (frauds)',color=['darkcyan','darkslategrey','cyan'])\n",
    "#plt.xticks( [1,12,4] );\n"
   ]
  },
  {
   "cell_type": "code",
   "execution_count": 33,
   "id": "3bb2a791-b07e-43f0-a54a-50dfe850e7d1",
   "metadata": {},
   "outputs": [
    {
     "data": {
      "text/plain": [
       "AccountId\n",
       "572     31\n",
       "4421    22\n",
       "1609    14\n",
       "4003    12\n",
       "1909     8\n",
       "1873     7\n",
       "4590     7\n",
       "2656     7\n",
       "4687     7\n",
       "3337     6\n",
       "1178     6\n",
       "1959     5\n",
       "523      4\n",
       "4249     4\n",
       "2366     3\n",
       "953      3\n",
       "3832     3\n",
       "2043     2\n",
       "3943     2\n",
       "1825     2\n",
       "1488     2\n",
       "4004     2\n",
       "4465     2\n",
       "1208     2\n",
       "830      2\n",
       "530      2\n",
       "4637     1\n",
       "3692     1\n",
       "3686     1\n",
       "3636     1\n",
       "3519     1\n",
       "4655     1\n",
       "3041     1\n",
       "352      1\n",
       "2461     1\n",
       "2289     1\n",
       "476      1\n",
       "777      1\n",
       "1240     1\n",
       "1291     1\n",
       "1317     1\n",
       "1335     1\n",
       "1480     1\n",
       "1520     1\n",
       "1605     1\n",
       "1754     1\n",
       "1823     1\n",
       "1898     1\n",
       "368      1\n",
       "2123     1\n",
       "2244     1\n",
       "4841     1\n",
       "Name: 1, dtype: int64"
      ]
     },
     "execution_count": 33,
     "metadata": {},
     "output_type": "execute_result"
    }
   ],
   "source": [
    "pivot6 = pd.pivot_table(data_train.query('FraudResult ==1'), values='TransactionId', index='AccountId', columns='FraudResult', aggfunc ='count')\n",
    "pivot6 = pivot6[1].sort_values(ascending = False)\n",
    "pivot6"
   ]
  },
  {
   "cell_type": "markdown",
   "id": "fe3c91e4-88b9-42da-865e-5c3874ef7611",
   "metadata": {},
   "source": [
    "### Data Visualization"
   ]
  },
  {
   "cell_type": "code",
   "execution_count": 34,
   "id": "73194234-3c6b-4d98-8926-55f9d241fcac",
   "metadata": {},
   "outputs": [
    {
     "data": {
      "application/vnd.plotly.v1+json": {
       "config": {
        "plotlyServerURL": "https://plot.ly"
       },
       "data": [
        {
         "domain": {
          "x": [
           0,
           1
          ],
          "y": [
           0,
           1
          ]
         },
         "hovertemplate": "DebitCredit=%{label}<br>TransactionId=%{value}<extra></extra>",
         "labels": [
          0,
          1
         ],
         "legendgroup": "",
         "name": "",
         "showlegend": true,
         "type": "pie",
         "values": [
          57473,
          38189
         ]
        }
       ],
       "layout": {
        "legend": {
         "tracegroupgap": 0
        },
        "piecolorway": [
         "rgb(95, 70, 144)",
         "rgb(29, 105, 150)",
         "rgb(56, 166, 165)",
         "rgb(15, 133, 84)",
         "rgb(115, 175, 72)",
         "rgb(237, 173, 8)",
         "rgb(225, 124, 5)",
         "rgb(204, 80, 62)",
         "rgb(148, 52, 110)",
         "rgb(111, 64, 112)",
         "rgb(102, 102, 102)"
        ],
        "template": {
         "data": {
          "bar": [
           {
            "error_x": {
             "color": "#2a3f5f"
            },
            "error_y": {
             "color": "#2a3f5f"
            },
            "marker": {
             "line": {
              "color": "#E5ECF6",
              "width": 0.5
             },
             "pattern": {
              "fillmode": "overlay",
              "size": 10,
              "solidity": 0.2
             }
            },
            "type": "bar"
           }
          ],
          "barpolar": [
           {
            "marker": {
             "line": {
              "color": "#E5ECF6",
              "width": 0.5
             },
             "pattern": {
              "fillmode": "overlay",
              "size": 10,
              "solidity": 0.2
             }
            },
            "type": "barpolar"
           }
          ],
          "carpet": [
           {
            "aaxis": {
             "endlinecolor": "#2a3f5f",
             "gridcolor": "white",
             "linecolor": "white",
             "minorgridcolor": "white",
             "startlinecolor": "#2a3f5f"
            },
            "baxis": {
             "endlinecolor": "#2a3f5f",
             "gridcolor": "white",
             "linecolor": "white",
             "minorgridcolor": "white",
             "startlinecolor": "#2a3f5f"
            },
            "type": "carpet"
           }
          ],
          "choropleth": [
           {
            "colorbar": {
             "outlinewidth": 0,
             "ticks": ""
            },
            "type": "choropleth"
           }
          ],
          "contour": [
           {
            "colorbar": {
             "outlinewidth": 0,
             "ticks": ""
            },
            "colorscale": [
             [
              0,
              "#0d0887"
             ],
             [
              0.1111111111111111,
              "#46039f"
             ],
             [
              0.2222222222222222,
              "#7201a8"
             ],
             [
              0.3333333333333333,
              "#9c179e"
             ],
             [
              0.4444444444444444,
              "#bd3786"
             ],
             [
              0.5555555555555556,
              "#d8576b"
             ],
             [
              0.6666666666666666,
              "#ed7953"
             ],
             [
              0.7777777777777778,
              "#fb9f3a"
             ],
             [
              0.8888888888888888,
              "#fdca26"
             ],
             [
              1,
              "#f0f921"
             ]
            ],
            "type": "contour"
           }
          ],
          "contourcarpet": [
           {
            "colorbar": {
             "outlinewidth": 0,
             "ticks": ""
            },
            "type": "contourcarpet"
           }
          ],
          "heatmap": [
           {
            "colorbar": {
             "outlinewidth": 0,
             "ticks": ""
            },
            "colorscale": [
             [
              0,
              "#0d0887"
             ],
             [
              0.1111111111111111,
              "#46039f"
             ],
             [
              0.2222222222222222,
              "#7201a8"
             ],
             [
              0.3333333333333333,
              "#9c179e"
             ],
             [
              0.4444444444444444,
              "#bd3786"
             ],
             [
              0.5555555555555556,
              "#d8576b"
             ],
             [
              0.6666666666666666,
              "#ed7953"
             ],
             [
              0.7777777777777778,
              "#fb9f3a"
             ],
             [
              0.8888888888888888,
              "#fdca26"
             ],
             [
              1,
              "#f0f921"
             ]
            ],
            "type": "heatmap"
           }
          ],
          "heatmapgl": [
           {
            "colorbar": {
             "outlinewidth": 0,
             "ticks": ""
            },
            "colorscale": [
             [
              0,
              "#0d0887"
             ],
             [
              0.1111111111111111,
              "#46039f"
             ],
             [
              0.2222222222222222,
              "#7201a8"
             ],
             [
              0.3333333333333333,
              "#9c179e"
             ],
             [
              0.4444444444444444,
              "#bd3786"
             ],
             [
              0.5555555555555556,
              "#d8576b"
             ],
             [
              0.6666666666666666,
              "#ed7953"
             ],
             [
              0.7777777777777778,
              "#fb9f3a"
             ],
             [
              0.8888888888888888,
              "#fdca26"
             ],
             [
              1,
              "#f0f921"
             ]
            ],
            "type": "heatmapgl"
           }
          ],
          "histogram": [
           {
            "marker": {
             "pattern": {
              "fillmode": "overlay",
              "size": 10,
              "solidity": 0.2
             }
            },
            "type": "histogram"
           }
          ],
          "histogram2d": [
           {
            "colorbar": {
             "outlinewidth": 0,
             "ticks": ""
            },
            "colorscale": [
             [
              0,
              "#0d0887"
             ],
             [
              0.1111111111111111,
              "#46039f"
             ],
             [
              0.2222222222222222,
              "#7201a8"
             ],
             [
              0.3333333333333333,
              "#9c179e"
             ],
             [
              0.4444444444444444,
              "#bd3786"
             ],
             [
              0.5555555555555556,
              "#d8576b"
             ],
             [
              0.6666666666666666,
              "#ed7953"
             ],
             [
              0.7777777777777778,
              "#fb9f3a"
             ],
             [
              0.8888888888888888,
              "#fdca26"
             ],
             [
              1,
              "#f0f921"
             ]
            ],
            "type": "histogram2d"
           }
          ],
          "histogram2dcontour": [
           {
            "colorbar": {
             "outlinewidth": 0,
             "ticks": ""
            },
            "colorscale": [
             [
              0,
              "#0d0887"
             ],
             [
              0.1111111111111111,
              "#46039f"
             ],
             [
              0.2222222222222222,
              "#7201a8"
             ],
             [
              0.3333333333333333,
              "#9c179e"
             ],
             [
              0.4444444444444444,
              "#bd3786"
             ],
             [
              0.5555555555555556,
              "#d8576b"
             ],
             [
              0.6666666666666666,
              "#ed7953"
             ],
             [
              0.7777777777777778,
              "#fb9f3a"
             ],
             [
              0.8888888888888888,
              "#fdca26"
             ],
             [
              1,
              "#f0f921"
             ]
            ],
            "type": "histogram2dcontour"
           }
          ],
          "mesh3d": [
           {
            "colorbar": {
             "outlinewidth": 0,
             "ticks": ""
            },
            "type": "mesh3d"
           }
          ],
          "parcoords": [
           {
            "line": {
             "colorbar": {
              "outlinewidth": 0,
              "ticks": ""
             }
            },
            "type": "parcoords"
           }
          ],
          "pie": [
           {
            "automargin": true,
            "type": "pie"
           }
          ],
          "scatter": [
           {
            "marker": {
             "colorbar": {
              "outlinewidth": 0,
              "ticks": ""
             }
            },
            "type": "scatter"
           }
          ],
          "scatter3d": [
           {
            "line": {
             "colorbar": {
              "outlinewidth": 0,
              "ticks": ""
             }
            },
            "marker": {
             "colorbar": {
              "outlinewidth": 0,
              "ticks": ""
             }
            },
            "type": "scatter3d"
           }
          ],
          "scattercarpet": [
           {
            "marker": {
             "colorbar": {
              "outlinewidth": 0,
              "ticks": ""
             }
            },
            "type": "scattercarpet"
           }
          ],
          "scattergeo": [
           {
            "marker": {
             "colorbar": {
              "outlinewidth": 0,
              "ticks": ""
             }
            },
            "type": "scattergeo"
           }
          ],
          "scattergl": [
           {
            "marker": {
             "colorbar": {
              "outlinewidth": 0,
              "ticks": ""
             }
            },
            "type": "scattergl"
           }
          ],
          "scattermapbox": [
           {
            "marker": {
             "colorbar": {
              "outlinewidth": 0,
              "ticks": ""
             }
            },
            "type": "scattermapbox"
           }
          ],
          "scatterpolar": [
           {
            "marker": {
             "colorbar": {
              "outlinewidth": 0,
              "ticks": ""
             }
            },
            "type": "scatterpolar"
           }
          ],
          "scatterpolargl": [
           {
            "marker": {
             "colorbar": {
              "outlinewidth": 0,
              "ticks": ""
             }
            },
            "type": "scatterpolargl"
           }
          ],
          "scatterternary": [
           {
            "marker": {
             "colorbar": {
              "outlinewidth": 0,
              "ticks": ""
             }
            },
            "type": "scatterternary"
           }
          ],
          "surface": [
           {
            "colorbar": {
             "outlinewidth": 0,
             "ticks": ""
            },
            "colorscale": [
             [
              0,
              "#0d0887"
             ],
             [
              0.1111111111111111,
              "#46039f"
             ],
             [
              0.2222222222222222,
              "#7201a8"
             ],
             [
              0.3333333333333333,
              "#9c179e"
             ],
             [
              0.4444444444444444,
              "#bd3786"
             ],
             [
              0.5555555555555556,
              "#d8576b"
             ],
             [
              0.6666666666666666,
              "#ed7953"
             ],
             [
              0.7777777777777778,
              "#fb9f3a"
             ],
             [
              0.8888888888888888,
              "#fdca26"
             ],
             [
              1,
              "#f0f921"
             ]
            ],
            "type": "surface"
           }
          ],
          "table": [
           {
            "cells": {
             "fill": {
              "color": "#EBF0F8"
             },
             "line": {
              "color": "white"
             }
            },
            "header": {
             "fill": {
              "color": "#C8D4E3"
             },
             "line": {
              "color": "white"
             }
            },
            "type": "table"
           }
          ]
         },
         "layout": {
          "annotationdefaults": {
           "arrowcolor": "#2a3f5f",
           "arrowhead": 0,
           "arrowwidth": 1
          },
          "autotypenumbers": "strict",
          "coloraxis": {
           "colorbar": {
            "outlinewidth": 0,
            "ticks": ""
           }
          },
          "colorscale": {
           "diverging": [
            [
             0,
             "#8e0152"
            ],
            [
             0.1,
             "#c51b7d"
            ],
            [
             0.2,
             "#de77ae"
            ],
            [
             0.3,
             "#f1b6da"
            ],
            [
             0.4,
             "#fde0ef"
            ],
            [
             0.5,
             "#f7f7f7"
            ],
            [
             0.6,
             "#e6f5d0"
            ],
            [
             0.7,
             "#b8e186"
            ],
            [
             0.8,
             "#7fbc41"
            ],
            [
             0.9,
             "#4d9221"
            ],
            [
             1,
             "#276419"
            ]
           ],
           "sequential": [
            [
             0,
             "#0d0887"
            ],
            [
             0.1111111111111111,
             "#46039f"
            ],
            [
             0.2222222222222222,
             "#7201a8"
            ],
            [
             0.3333333333333333,
             "#9c179e"
            ],
            [
             0.4444444444444444,
             "#bd3786"
            ],
            [
             0.5555555555555556,
             "#d8576b"
            ],
            [
             0.6666666666666666,
             "#ed7953"
            ],
            [
             0.7777777777777778,
             "#fb9f3a"
            ],
            [
             0.8888888888888888,
             "#fdca26"
            ],
            [
             1,
             "#f0f921"
            ]
           ],
           "sequentialminus": [
            [
             0,
             "#0d0887"
            ],
            [
             0.1111111111111111,
             "#46039f"
            ],
            [
             0.2222222222222222,
             "#7201a8"
            ],
            [
             0.3333333333333333,
             "#9c179e"
            ],
            [
             0.4444444444444444,
             "#bd3786"
            ],
            [
             0.5555555555555556,
             "#d8576b"
            ],
            [
             0.6666666666666666,
             "#ed7953"
            ],
            [
             0.7777777777777778,
             "#fb9f3a"
            ],
            [
             0.8888888888888888,
             "#fdca26"
            ],
            [
             1,
             "#f0f921"
            ]
           ]
          },
          "colorway": [
           "#636efa",
           "#EF553B",
           "#00cc96",
           "#ab63fa",
           "#FFA15A",
           "#19d3f3",
           "#FF6692",
           "#B6E880",
           "#FF97FF",
           "#FECB52"
          ],
          "font": {
           "color": "#2a3f5f"
          },
          "geo": {
           "bgcolor": "white",
           "lakecolor": "white",
           "landcolor": "#E5ECF6",
           "showlakes": true,
           "showland": true,
           "subunitcolor": "white"
          },
          "hoverlabel": {
           "align": "left"
          },
          "hovermode": "closest",
          "mapbox": {
           "style": "light"
          },
          "paper_bgcolor": "white",
          "plot_bgcolor": "#E5ECF6",
          "polar": {
           "angularaxis": {
            "gridcolor": "white",
            "linecolor": "white",
            "ticks": ""
           },
           "bgcolor": "#E5ECF6",
           "radialaxis": {
            "gridcolor": "white",
            "linecolor": "white",
            "ticks": ""
           }
          },
          "scene": {
           "xaxis": {
            "backgroundcolor": "#E5ECF6",
            "gridcolor": "white",
            "gridwidth": 2,
            "linecolor": "white",
            "showbackground": true,
            "ticks": "",
            "zerolinecolor": "white"
           },
           "yaxis": {
            "backgroundcolor": "#E5ECF6",
            "gridcolor": "white",
            "gridwidth": 2,
            "linecolor": "white",
            "showbackground": true,
            "ticks": "",
            "zerolinecolor": "white"
           },
           "zaxis": {
            "backgroundcolor": "#E5ECF6",
            "gridcolor": "white",
            "gridwidth": 2,
            "linecolor": "white",
            "showbackground": true,
            "ticks": "",
            "zerolinecolor": "white"
           }
          },
          "shapedefaults": {
           "line": {
            "color": "#2a3f5f"
           }
          },
          "ternary": {
           "aaxis": {
            "gridcolor": "white",
            "linecolor": "white",
            "ticks": ""
           },
           "baxis": {
            "gridcolor": "white",
            "linecolor": "white",
            "ticks": ""
           },
           "bgcolor": "#E5ECF6",
           "caxis": {
            "gridcolor": "white",
            "linecolor": "white",
            "ticks": ""
           }
          },
          "title": {
           "x": 0.05
          },
          "xaxis": {
           "automargin": true,
           "gridcolor": "white",
           "linecolor": "white",
           "ticks": "",
           "title": {
            "standoff": 15
           },
           "zerolinecolor": "white",
           "zerolinewidth": 2
          },
          "yaxis": {
           "automargin": true,
           "gridcolor": "white",
           "linecolor": "white",
           "ticks": "",
           "title": {
            "standoff": 15
           },
           "zerolinecolor": "white",
           "zerolinewidth": 2
          }
         }
        },
        "title": {
         "text": "Percentage of Debit and Credit"
        }
       }
      }
     },
     "metadata": {},
     "output_type": "display_data"
    }
   ],
   "source": [
    "px.pie(data_train_clean.groupby('DebitCredit').count()[['TransactionId']].reset_index(), values = 'TransactionId', names ='DebitCredit',title='Percentage of Debit and Credit',color_discrete_sequence=px.colors.qualitative.Prism )"
   ]
  },
  {
   "cell_type": "markdown",
   "id": "53e3e4d8-ac37-4c8d-8f4c-3784ebbabacb",
   "metadata": {
    "tags": []
   },
   "source": [
    "### Transform Data"
   ]
  },
  {
   "cell_type": "code",
   "execution_count": 35,
   "id": "ca0eb1b6-b5ed-4d54-a00b-2fa20503ad1d",
   "metadata": {},
   "outputs": [],
   "source": [
    "\n",
    "# 9. Transform variable value (log) due to skewness\n",
    "data_train_clean['ValueLog']=np.log(data_train_clean.Value)"
   ]
  },
  {
   "cell_type": "markdown",
   "id": "60465df3-6b29-49aa-8771-49976a8225a9",
   "metadata": {},
   "source": [
    "### Dataframe for model"
   ]
  },
  {
   "cell_type": "code",
   "execution_count": 36,
   "id": "9615e38f-20c3-4176-a554-88340d7cfbe3",
   "metadata": {},
   "outputs": [],
   "source": [
    "# Columns we used for the EDA but we don`t need them for our model==>Drop\n",
    "cols_to_drop = ['Value','TransactionId', 'SubscriptionId']\n",
    "df = data_train_clean.drop(columns=cols_to_drop, inplace=False)"
   ]
  },
  {
   "cell_type": "code",
   "execution_count": 37,
   "id": "0492e56e-7260-4b87-9349-55175b68ff09",
   "metadata": {},
   "outputs": [],
   "source": [
    "# create Dummies for categorical variables\n",
    "df = pd.get_dummies(df, columns = ['ProviderId', 'ProductId', 'ProductCategory', 'ChannelId', 'PricingStrategy', 'DayTime','TransactionWeekday','DebitCredit'], drop_first=True)"
   ]
  },
  {
   "cell_type": "code",
   "execution_count": 38,
   "id": "5a0638e5-4ace-4730-8138-69267cc71d3e",
   "metadata": {},
   "outputs": [],
   "source": [
    "# create csv for model input\n",
    "df.to_csv('data/data_train_clean_withdummies.csv', index = False)"
   ]
  }
 ],
 "metadata": {
  "kernelspec": {
   "display_name": "Python 3 (ipykernel)",
   "language": "python",
   "name": "python3"
  },
  "language_info": {
   "codemirror_mode": {
    "name": "ipython",
    "version": 3
   },
   "file_extension": ".py",
   "mimetype": "text/x-python",
   "name": "python",
   "nbconvert_exporter": "python",
   "pygments_lexer": "ipython3",
   "version": "3.9.4"
  }
 },
 "nbformat": 4,
 "nbformat_minor": 5
}
