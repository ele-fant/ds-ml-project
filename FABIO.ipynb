{
 "cells": [
  {
   "cell_type": "code",
   "execution_count": 28,
   "id": "77d87250-ec4e-4bce-9f27-4c14f0a59d93",
   "metadata": {},
   "outputs": [],
   "source": [
    "import pandas as pd\n",
    "df = pd.read_csv('data/data_temp.csv')\n",
    "df.drop(['ProductCategory', 'DayTime'], axis=1, inplace=True)"
   ]
  },
  {
   "cell_type": "code",
   "execution_count": 29,
   "id": "ef7aa2c0-a1f6-43bc-9c5a-39ef381d077d",
   "metadata": {},
   "outputs": [
    {
     "data": {
      "text/html": [
       "<div>\n",
       "<style scoped>\n",
       "    .dataframe tbody tr th:only-of-type {\n",
       "        vertical-align: middle;\n",
       "    }\n",
       "\n",
       "    .dataframe tbody tr th {\n",
       "        vertical-align: top;\n",
       "    }\n",
       "\n",
       "    .dataframe thead th {\n",
       "        text-align: right;\n",
       "    }\n",
       "</style>\n",
       "<table border=\"1\" class=\"dataframe\">\n",
       "  <thead>\n",
       "    <tr style=\"text-align: right;\">\n",
       "      <th></th>\n",
       "      <th>BatchId</th>\n",
       "      <th>AccountId</th>\n",
       "      <th>SubscriptionId</th>\n",
       "      <th>CustomerId</th>\n",
       "      <th>ProviderId</th>\n",
       "      <th>ProductId</th>\n",
       "      <th>ChannelId</th>\n",
       "      <th>PricingStrategy</th>\n",
       "      <th>FraudResult</th>\n",
       "      <th>TransactionWeekday</th>\n",
       "      <th>DebitCredit</th>\n",
       "      <th>ValueUSDLog</th>\n",
       "    </tr>\n",
       "  </thead>\n",
       "  <tbody>\n",
       "    <tr>\n",
       "      <th>0</th>\n",
       "      <td>36123</td>\n",
       "      <td>3957</td>\n",
       "      <td>887</td>\n",
       "      <td>4406</td>\n",
       "      <td>6</td>\n",
       "      <td>10</td>\n",
       "      <td>3</td>\n",
       "      <td>2</td>\n",
       "      <td>0</td>\n",
       "      <td>4</td>\n",
       "      <td>0</td>\n",
       "      <td>-1.272966</td>\n",
       "    </tr>\n",
       "    <tr>\n",
       "      <th>1</th>\n",
       "      <td>15642</td>\n",
       "      <td>4841</td>\n",
       "      <td>3829</td>\n",
       "      <td>4406</td>\n",
       "      <td>4</td>\n",
       "      <td>6</td>\n",
       "      <td>2</td>\n",
       "      <td>2</td>\n",
       "      <td>0</td>\n",
       "      <td>4</td>\n",
       "      <td>1</td>\n",
       "      <td>-5.184989</td>\n",
       "    </tr>\n",
       "    <tr>\n",
       "      <th>2</th>\n",
       "      <td>53941</td>\n",
       "      <td>4229</td>\n",
       "      <td>222</td>\n",
       "      <td>4683</td>\n",
       "      <td>6</td>\n",
       "      <td>1</td>\n",
       "      <td>3</td>\n",
       "      <td>2</td>\n",
       "      <td>0</td>\n",
       "      <td>4</td>\n",
       "      <td>0</td>\n",
       "      <td>-1.966113</td>\n",
       "    </tr>\n",
       "    <tr>\n",
       "      <th>3</th>\n",
       "      <td>102363</td>\n",
       "      <td>648</td>\n",
       "      <td>2185</td>\n",
       "      <td>988</td>\n",
       "      <td>1</td>\n",
       "      <td>21</td>\n",
       "      <td>3</td>\n",
       "      <td>2</td>\n",
       "      <td>0</td>\n",
       "      <td>4</td>\n",
       "      <td>0</td>\n",
       "      <td>1.808944</td>\n",
       "    </tr>\n",
       "    <tr>\n",
       "      <th>4</th>\n",
       "      <td>38780</td>\n",
       "      <td>4841</td>\n",
       "      <td>3829</td>\n",
       "      <td>988</td>\n",
       "      <td>4</td>\n",
       "      <td>6</td>\n",
       "      <td>2</td>\n",
       "      <td>2</td>\n",
       "      <td>0</td>\n",
       "      <td>4</td>\n",
       "      <td>1</td>\n",
       "      <td>-1.713022</td>\n",
       "    </tr>\n",
       "  </tbody>\n",
       "</table>\n",
       "</div>"
      ],
      "text/plain": [
       "   BatchId  AccountId  SubscriptionId  CustomerId  ProviderId  ProductId  \\\n",
       "0    36123       3957             887        4406           6         10   \n",
       "1    15642       4841            3829        4406           4          6   \n",
       "2    53941       4229             222        4683           6          1   \n",
       "3   102363        648            2185         988           1         21   \n",
       "4    38780       4841            3829         988           4          6   \n",
       "\n",
       "   ChannelId  PricingStrategy  FraudResult  TransactionWeekday  DebitCredit  \\\n",
       "0          3                2            0                   4            0   \n",
       "1          2                2            0                   4            1   \n",
       "2          3                2            0                   4            0   \n",
       "3          3                2            0                   4            0   \n",
       "4          2                2            0                   4            1   \n",
       "\n",
       "   ValueUSDLog  \n",
       "0    -1.272966  \n",
       "1    -5.184989  \n",
       "2    -1.966113  \n",
       "3     1.808944  \n",
       "4    -1.713022  "
      ]
     },
     "execution_count": 29,
     "metadata": {},
     "output_type": "execute_result"
    }
   ],
   "source": [
    "df.head()"
   ]
  },
  {
   "cell_type": "markdown",
   "id": "0c311fbd-7c8a-48d5-ae57-f30cdff9bee6",
   "metadata": {},
   "source": [
    "### Oversampling with SMOTE"
   ]
  },
  {
   "cell_type": "code",
   "execution_count": 6,
   "id": "8ac260e0-f223-4591-97c7-274a7edd6ae0",
   "metadata": {},
   "outputs": [
    {
     "name": "stdout",
     "output_type": "stream",
     "text": [
      "Collecting imblearn\n",
      "  Downloading imblearn-0.0-py2.py3-none-any.whl (1.9 kB)\n",
      "Collecting imbalanced-learn\n",
      "  Downloading imbalanced_learn-0.9.0-py3-none-any.whl (199 kB)\n",
      "     |████████████████████████████████| 199 kB 905 kB/s            \n",
      "\u001b[?25hRequirement already satisfied: scikit-learn>=1.0.1 in ./.venv/lib/python3.9/site-packages (from imbalanced-learn->imblearn) (1.0.2)\n",
      "Requirement already satisfied: threadpoolctl>=2.0.0 in ./.venv/lib/python3.9/site-packages (from imbalanced-learn->imblearn) (3.0.0)\n",
      "Requirement already satisfied: joblib>=0.11 in ./.venv/lib/python3.9/site-packages (from imbalanced-learn->imblearn) (1.1.0)\n",
      "Requirement already satisfied: scipy>=1.1.0 in ./.venv/lib/python3.9/site-packages (from imbalanced-learn->imblearn) (1.7.3)\n",
      "Requirement already satisfied: numpy>=1.14.6 in ./.venv/lib/python3.9/site-packages (from imbalanced-learn->imblearn) (1.22.0)\n",
      "Installing collected packages: imbalanced-learn, imblearn\n",
      "Successfully installed imbalanced-learn-0.9.0 imblearn-0.0\n"
     ]
    }
   ],
   "source": [
    "!pip install imblearn"
   ]
  },
  {
   "cell_type": "code",
   "execution_count": 43,
   "id": "87001d13-16b7-4334-b26d-48b468cc6ff3",
   "metadata": {},
   "outputs": [],
   "source": [
    "from imblearn.over_sampling import SMOTE, ADASYN\n",
    "from collections import Counter\n",
    "from sklearn.model_selection import train_test_split\n",
    "from sklearn.preprocessing import StandardScaler\n",
    "from sklearn.neighbors import KNeighborsClassifier\n",
    "import numpy as np\n",
    "import matplotlib.pyplot as plt\n",
    "\n",
    "from sklearn.metrics import recall_score, roc_auc_score, roc_curve"
   ]
  },
  {
   "cell_type": "code",
   "execution_count": 30,
   "id": "2c710b84-0116-43e7-b8d7-d6a211b0f520",
   "metadata": {},
   "outputs": [],
   "source": [
    "# define X and y\n",
    "X = df.drop('FraudResult', axis = 1)\n",
    "y = df.FraudResult\n",
    "\n",
    "#train / test split\n",
    "X_train, X_test, y_train, y_test = train_test_split(X, y, test_size=0.3, random_state=25)\n"
   ]
  },
  {
   "cell_type": "code",
   "execution_count": null,
   "id": "803e899a-8070-46b5-b6d0-9c4ec7a38f05",
   "metadata": {},
   "outputs": [],
   "source": []
  },
  {
   "cell_type": "code",
   "execution_count": 32,
   "id": "14fca229-75c6-4df4-a462-c42054678f83",
   "metadata": {},
   "outputs": [],
   "source": [
    "# apply resampling ONLY to train data\n",
    "X_res, y_res = SMOTE().fit_resample(X_train, y_train)"
   ]
  },
  {
   "cell_type": "code",
   "execution_count": 45,
   "id": "d9e4a46c-7972-4295-b3c2-6d740a7cfc09",
   "metadata": {},
   "outputs": [],
   "source": [
    "scaler = StandardScaler()\n",
    "\n",
    "#standardization of train set (fit_transform)\n",
    "X_res_stand = scaler.fit_transform(X_res)\n",
    "\n",
    "#change array to dataframe\n",
    "scaled_df_resampled = pd.DataFrame(X_res_stand)\n",
    "scaled_df_resampled.columns = X.columns\n",
    "\n",
    "\n",
    "#standardization of test set (transform)\n",
    "X_res_test_stand = scaler.transform(X_test)\n",
    "\n",
    "#change array to dataframe\n",
    "scaled_dftest_resampled = pd.DataFrame(X_res_test_stand)\n",
    "scaled_dftest_resampled.columns = X.columns\n"
   ]
  },
  {
   "cell_type": "code",
   "execution_count": 46,
   "id": "9e2938fe-e983-4555-8c09-0ba0eff7f68d",
   "metadata": {},
   "outputs": [
    {
     "data": {
      "image/png": "[encoded data removed]",
      "text/plain": [
       "<Figure size 432x288 with 1 Axes>"
      ]
     },
     "metadata": {
      "needs_background": "light"
     },
     "output_type": "display_data"
    },
    {
     "name": "stdout",
     "output_type": "stream",
     "text": [
      "0.0\n",
      "0\n"
     ]
    }
   ],
   "source": [
    "recall_lst = []\n",
    "for k in range(1,20):\n",
    "        knni = KNeighborsClassifier(n_neighbors=k, p=2, weights=\"distance\", metric=\"minkowski\")\n",
    "        knni.fit(scaled_df_resampled, np.ravel(y_res))\n",
    "        y_predlini = knni.predict(X_test)\n",
    "        recall_lst.append(recall_score(y_test, y_predlini))\n",
    "    \n",
    "#Recall_lst\n",
    "plt.plot(recall_lst)\n",
    "plt.show()\n",
    "print(max(recall_lst))\n",
    "print(np.argmax(recall_lst))"
   ]
  },
  {
   "cell_type": "code",
   "execution_count": null,
   "id": "edea8d01-a9a6-4da7-99c9-dc4cc28e8676",
   "metadata": {},
   "outputs": [],
   "source": []
  }
 ],
 "metadata": {
  "kernelspec": {
   "display_name": "Python 3 (ipykernel)",
   "language": "python",
   "name": "python3"
  },
  "language_info": {
   "codemirror_mode": {
    "name": "ipython",
    "version": 3
   },
   "file_extension": ".py",
   "mimetype": "text/x-python",
   "name": "python",
   "nbconvert_exporter": "python",
   "pygments_lexer": "ipython3",
   "version": "3.9.4"
  }
 },
 "nbformat": 4,
 "nbformat_minor": 5
}
