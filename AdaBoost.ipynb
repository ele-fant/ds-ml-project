{
 "cells": [
  {
   "cell_type": "code",
   "execution_count": 16,
   "id": "d72d885b-35b1-4616-914f-c4dc1173fa6c",
   "metadata": {},
   "outputs": [],
   "source": [
    "import pandas as pd\n",
    "import numpy as np\n",
    "import seaborn as sns\n",
    "from sklearn.datasets import make_classification\n",
    "from sklearn.metrics import confusion_matrix\n",
    "from sklearn.metrics import recall_score, f1_score, accuracy_score\n",
    "from sklearn.metrics import roc_auc_score, roc_curve\n",
    "from sklearn.metrics import classification_report\n",
    "from sklearn.metrics import confusion_matrix\n",
    "from sklearn.metrics import fbeta_score, accuracy_score\n",
    "\n",
    "from sklearn.tree import DecisionTreeClassifier\n",
    "from sklearn.ensemble import AdaBoostClassifier\n"
   ]
  },
  {
   "cell_type": "code",
   "execution_count": 3,
   "id": "c290370c-c6f1-4263-ad8c-4ed76442b6fa",
   "metadata": {},
   "outputs": [],
   "source": [
    "X_train = pd.read_csv(\"data/x-train.csv\")\n",
    "y_train = pd.read_csv(\"data/y-train.csv\")\n",
    "\n",
    "X_test = pd.read_csv(\"data/x-test.csv\")\n",
    "y_test = pd.read_csv(\"data/y-test.csv\")"
   ]
  },
  {
   "cell_type": "code",
   "execution_count": 14,
   "id": "9210aca0-07f1-4973-9202-fe5dc5b8fcfb",
   "metadata": {},
   "outputs": [
    {
     "name": "stderr",
     "output_type": "stream",
     "text": [
      "/Users/lee/neuefische/ds-ml-project/.venv/lib/python3.9/site-packages/sklearn/utils/validation.py:993: DataConversionWarning: A column-vector y was passed when a 1d array was expected. Please change the shape of y to (n_samples, ), for example using ravel().\n",
      "  y = column_or_1d(y, warn=True)\n"
     ]
    }
   ],
   "source": [
    "#AdaBoost\n",
    "abc = AdaBoostClassifier(base_estimator=DecisionTreeClassifier(max_depth=1),n_estimators=200)\n",
    "abc_results = abc.fit(X_train, y_train)\n",
    "abc_y_pred = abc.predict(X_test)"
   ]
  },
  {
   "cell_type": "code",
   "execution_count": 15,
   "id": "5cedb850-6517-4fb7-b344-cc744e2d81c4",
   "metadata": {},
   "outputs": [
    {
     "name": "stdout",
     "output_type": "stream",
     "text": [
      "------------------------------------------------------------\n",
      "              precision    recall  f1-score   support\n",
      "\n",
      "           0       1.00      1.00      1.00     19097\n",
      "           1       0.54      0.83      0.65        36\n",
      "\n",
      "    accuracy                           1.00     19133\n",
      "   macro avg       0.77      0.92      0.83     19133\n",
      "weighted avg       1.00      1.00      1.00     19133\n",
      "\n",
      "------------------------------------------------------------\n",
      "F1-score: 0.6521739130434783\n",
      "------------------------------------------------------------\n"
     ]
    }
   ],
   "source": [
    "print(\"------\"*10)\n",
    "print(classification_report(y_test, abc_y_pred))\n",
    "print(\"------\"*10)\n",
    "\n",
    "# F1-score on test set\n",
    "print(\"F1-score:\", f1_score(y_test, abc_y_pred, average='binary'))\n",
    "print(\"------\"*10)\n"
   ]
  },
  {
   "cell_type": "code",
   "execution_count": 31,
   "id": "42f6df50-b125-47eb-8b0a-8233b675c10c",
   "metadata": {},
   "outputs": [
    {
     "data": {
      "text/plain": [
       "0        0\n",
       "1        0\n",
       "2        0\n",
       "3        0\n",
       "4        0\n",
       "        ..\n",
       "19128    0\n",
       "19129    0\n",
       "19130    0\n",
       "19131    0\n",
       "19132    0\n",
       "Name: FraudResult, Length: 19133, dtype: int64"
      ]
     },
     "execution_count": 31,
     "metadata": {},
     "output_type": "execute_result"
    }
   ],
   "source": [
    "abc_y_pred\n",
    "type(y_test)\n",
    "y_test.squeeze()"
   ]
  },
  {
   "cell_type": "code",
   "execution_count": 32,
   "id": "adebc263-62f9-4b90-8ec6-8c5e9ac99ae7",
   "metadata": {},
   "outputs": [
    {
     "data": {
      "text/plain": [
       "<matplotlib.lines.Line2D at 0x33a886d30>"
      ]
     },
     "execution_count": 32,
     "metadata": {},
     "output_type": "execute_result"
    },
    {
     "data": {
      "image/png": "[encoded data removed]",
      "text/plain": [
       "<Figure size 432x288 with 1 Axes>"
      ]
     },
     "metadata": {
      "needs_background": "light"
     },
     "output_type": "display_data"
    }
   ],
   "source": [
    "#residuum plot\n",
    "p2=sns.regplot(x=abc_y_pred, y=(abc_y_pred-y_test.squeeze()))\n",
    "p2.set_xlabel(\"Y Prediction (test)\", fontsize = 15)\n",
    "p2.set_ylabel(\"Residuals (test)\", fontsize = 15)\n",
    "p2.axhline(0, ls='--', color =\"red\")"
   ]
  },
  {
   "cell_type": "code",
   "execution_count": null,
   "id": "21528a51-5da6-4949-87cb-ff32a0898f9f",
   "metadata": {},
   "outputs": [],
   "source": []
  }
 ],
 "metadata": {
  "kernelspec": {
   "display_name": "Python 3 (ipykernel)",
   "language": "python",
   "name": "python3"
  },
  "language_info": {
   "codemirror_mode": {
    "name": "ipython",
    "version": 3
   },
   "file_extension": ".py",
   "mimetype": "text/x-python",
   "name": "python",
   "nbconvert_exporter": "python",
   "pygments_lexer": "ipython3",
   "version": "3.9.4"
  }
 },
 "nbformat": 4,
 "nbformat_minor": 5
}
