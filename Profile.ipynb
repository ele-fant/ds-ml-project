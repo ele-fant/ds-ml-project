{
 "cells": [
  {
   "cell_type": "code",
   "execution_count": null,
   "id": "0de49a97-5318-4e9f-95cd-79113b0316bc",
   "metadata": {},
   "outputs": [],
   "source": [
    "!pip install pandas_profiling"
   ]
  },
  {
   "cell_type": "code",
   "execution_count": null,
   "id": "7fd26de2-135c-4569-9fb9-9e330cc353d1",
   "metadata": {},
   "outputs": [],
   "source": [
    "import pandas as pd\n",
    "from pandas_profiling import ProfileReport"
   ]
  },
  {
   "cell_type": "code",
   "execution_count": null,
   "id": "906bd478-688a-4f81-b875-fb28af5480b7",
   "metadata": {},
   "outputs": [],
   "source": [
    "df = pd.read_csv(\"data/data_train_clean.csv\")"
   ]
  },
  {
   "cell_type": "code",
   "execution_count": null,
   "id": "3e5b3401-cc4c-4f69-8b15-69a7247b8614",
   "metadata": {},
   "outputs": [],
   "source": [
    "profile = ProfileReport(df, title=\"Pandas Profiling Report\", explorative=True)"
   ]
  },
  {
   "cell_type": "code",
   "execution_count": null,
   "id": "92cf6eb7-8e27-4ca4-8fe1-ec42cd0f6531",
   "metadata": {},
   "outputs": [],
   "source": [
    "profile "
   ]
  },
  {
   "cell_type": "code",
   "execution_count": null,
   "id": "10ef98a0-25b6-4b68-b232-8e64a49369c5",
   "metadata": {},
   "outputs": [],
   "source": []
  }
 ],
 "metadata": {
  "kernelspec": {
   "display_name": "Python 3 (ipykernel)",
   "language": "python",
   "name": "python3"
  },
  "language_info": {
   "codemirror_mode": {
    "name": "ipython",
    "version": 3
   },
   "file_extension": ".py",
   "mimetype": "text/x-python",
   "name": "python",
   "nbconvert_exporter": "python",
   "pygments_lexer": "ipython3",
   "version": "3.9.4"
  }
 },
 "nbformat": 4,
 "nbformat_minor": 5
}
